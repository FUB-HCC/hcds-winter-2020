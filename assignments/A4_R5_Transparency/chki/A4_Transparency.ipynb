{
 "cells": [
  {
   "cell_type": "markdown",
   "metadata": {},
   "source": [
    "Course Human-Centered Data Science ([HCDS](https://www.mi.fu-berlin.de/en/inf/groups/hcc/teaching/winter_term_2020_21/course_human_centered_data_science.html)) - Winter Term 2020/21 - [HCC](https://www.mi.fu-berlin.de/en/inf/groups/hcc/index.html) | [Freie Universität Berlin](https://www.fu-berlin.de/)\n",
    "\n",
    "***\n",
    "\n",
    "# A4 - Transparency\n",
    "Please use the follwing structure as a starting point. Extend and change the notebook according to your needs. This structure should help you to guide you through your analysis. This notebook is the foundation for condensing your results and writing your reflection in the end. So please read what we expect from you regarding the reflection first to structure your analysis accordingly."
   ]
  },
  {
   "cell_type": "markdown",
   "metadata": {},
   "source": [
    "## [1] General understanding\n",
    "> What is the model about and who is using it?\n",
    "\n",
    "* What is your model about?\n",
    "\n",
    "`reverted`: The model used for this endpoitnt predicts whether an edit will eventually be reverted.\n",
    "\n",
    "\n",
    "* Why is this model useful?\n",
    " * It is useful for quality control tools\n",
    " * Helps reviewers to find potentially damaging contributions -> make the work of filtering through the Special:RecentChanges feed easier\n",
    " * Can be used for detection and removal of damaging contributions\n",
    " * There's also the need to identify good-faith contributors\n",
    "\n",
    "\n",
    "\n",
    "* Who is using this model? \n",
    "  * **User** The model is designed to help human editors perform critical wiki-work and to increase their productivity by automating tasks like detecting vandalism and removing edits made in bad fait.\n",
    "  * **Developers** The model aims to provide data for developers of tools for wikipedia (See below)\n",
    "  * (**Scientists**)\n",
    "\n",
    "\n",
    "* What are stakeholder or users of ORES? \n",
    "  * Volunteer tool developers and product developers at the **Wikimedia Foundation** and **Wikimedia Deutschland**\n",
    "  * Authors/Editors of articles (because their edits get assessed)\n",
    "  * Editors/Reviewers\n",
    "\n",
    "\n",
    "* Why is this model useful to wikipedia?\n",
    "\n",
    "It aims to improve the quality of articles and to reduce the work of reviewers/other editors.\n",
    "\n",
    "\n",
    "* What applications/projects/... within wikipedia are using this model?\n",
    "\n",
    "3rd party tools used:\n",
    "  * [Edit Review Improvements (ERI)](https://www.mediawiki.org/wiki/Edit_Review_Improvements/New_filters_for_edit_review)\n",
    "  * [Huggle](https://en.wikipedia.org/wiki/Wikipedia:Huggle)\n"
   ]
  },
  {
   "cell_type": "markdown",
   "metadata": {},
   "source": [
    "## [2] API\n",
    "> What does the ORES API (v3) tell you about a specific model? What functions does the API offer?\n",
    "\n",
    "Use the API to investigate your model: https://ores.wikimedia.org/v3/#/. What do the follwing API calls do and what do they tell you about your model?\n",
    "\n",
    "* `https://ores.wikimedia.org/v3/scores/`\n",
    "* `https://ores.wikimedia.org/v3/scores/?model_info`\n",
    "* `https://ores.wikimedia.org/v3/scores/enwiki`\n",
    "* `https://ores.wikimedia.org/v3/scores/enwiki?models=YOURMODELNAME&model_info`\n",
    "* `https://ores.wikimedia.org/v3/scores/enwiki?models=YOURMODELNAME&revids=SOMEIDHERE`\n",
    "* `https://ores.wikimedia.org/v3/scores/enwiki/REVID/YOURMODELNAME?model_info`\n",
    "* `https://ores.wikimedia.org/v3/scores/enwiki/REVID/YOURMODELNAME?features=true`"
   ]
  },
  {
   "cell_type": "markdown",
   "metadata": {},
   "source": [
    "### Feature Injection\n",
    "Please check out the _feature injection_ feature of ORES: https://www.mediawiki.org/wiki/ORES/Feature_injection\n",
    "\n",
    "**Example:**\n",
    "\n",
    "     # Here you can get the perdiction for a revision, if the user would habe been anonymous:\n",
    "     https://ores.wikimedia.org/v3/scores/enwiki/991397091/damaging?features&feature.revision.user.is_anon=true"
   ]
  },
  {
   "cell_type": "markdown",
   "metadata": {},
   "source": [
    "## [3] ML algorithm and training/test data\n",
    "> Which machine learning model is underlying and what data is used to build the model?"
   ]
  },
  {
   "cell_type": "markdown",
   "metadata": {},
   "source": [
    "* Check out `model_info` in detail.\n",
    "\n",
    "\n",
    "* What does it tell you about the model performance?\n",
    "\n",
    "`model_info` provides several measures of the model's performance.\n",
    "Under the attribute `statistics` you can find the values for the confusion matrix, several related measures (recall, precision, false-positive rate) as well as AUC (Area Under Curve) for the ROC curve (Receiver Operating Characteristics).\n",
    "\n",
    "\n",
    "* You can visualise and explain your results regarding model performance.\n",
    "\n",
    "\n",
    "* What data was used to train and test the model?\n",
    "\n",
    "The history of edits (and reverted edits) from a wiki.\n",
    "\n",
    "\n",
    "* What machine learning algorithm is your model using? Please explain briefly. \\\n",
    "Different algorithms were used. Most wikis use GradientBoosting (bnwiki, elwiki, glwiki, hrwiki, idwiki, iswiki, tawiki, viwiki). Gradient boosting creates an ensemble learner by iteratively adding weak learners to an ensemble. Only the enwiktionary uses RandomForest and testwiki uses RevIDScorer.\n"
   ]
  },
  {
   "cell_type": "markdown",
   "metadata": {},
   "source": [
    "## [4] Features\n",
    "> Which features are used and which have the greatest influence on the prediction?\n",
    "\n",
    "* What features is your model using?\n",
    "* What do they mean?\n",
    "* Which is the most important features?\n",
    "* `https://ores.wikimedia.org/v3/scores/enwiki/991379667/articlequality?features=true`\n",
    "* Are all models (in all languages of wikipedia), are they using the same features?"
   ]
  },
  {
   "cell_type": "markdown",
   "metadata": {},
   "source": [
    "## Sample code"
   ]
  },
  {
   "cell_type": "code",
   "execution_count": 70,
   "metadata": {},
   "outputs": [],
   "source": [
    "import pandas as pd\n",
    "import matplotlib.pyplot as plt\n",
    "import numpy as np"
   ]
  },
  {
   "cell_type": "code",
   "execution_count": 4,
   "metadata": {},
   "outputs": [],
   "source": [
    "import requests\n",
    "import json\n",
    "\n",
    "# Customize these with your own information\n",
    "headers = {\n",
    "    'User-Agent': 'https://github.com/chrisk280',\n",
    "    'From': 'chrisk31@zedat.fu-berlin.de'\n",
    "}\n",
    "\n",
    "def get_ores_data(rev_id, headers):\n",
    "    \n",
    "    # Define the endpoint: This is an example!\n",
    "    endpoint = 'https://ores.wikimedia.org/v3/scores/{project}/?models={model}&revids={revids}'\n",
    "\n",
    "    params = {'project' : 'enwiki',\n",
    "              'model'   : 'reverted',\n",
    "              'revids'  : rev_id\n",
    "              }\n",
    "\n",
    "    api_call = requests.get(endpoint.format(**params))\n",
    "    response = api_call.json()\n",
    "    data = json.dumps(response)\n",
    "\n",
    "    return data"
   ]
  },
  {
   "cell_type": "code",
   "execution_count": 38,
   "metadata": {},
   "outputs": [],
   "source": [
    "def get_model_info(headers, model, project=\"enwiki\"):\n",
    "    #https://ores.wikimedia.org/v3/scores/enwiki?models=YOURMODELNAME&model_info\n",
    "    # Define the endpoint: This is an example!\n",
    "    endpoint = 'https://ores.wikimedia.org/v3/scores/?model_info'\n",
    "\n",
    "    api_call = requests.get(endpoint)\n",
    "    response = api_call.json()\n",
    "    data = json.dumps(response)\n",
    "\n",
    "    return data"
   ]
  },
  {
   "cell_type": "code",
   "execution_count": 47,
   "metadata": {},
   "outputs": [],
   "source": [
    "data_str = get_model_info(headers, \"reverted\")"
   ]
  },
  {
   "cell_type": "code",
   "execution_count": 48,
   "metadata": {},
   "outputs": [
    {
     "data": {
      "text/plain": [
       "True"
      ]
     },
     "execution_count": 48,
     "metadata": {},
     "output_type": "execute_result"
    }
   ],
   "source": [
    "\"reverted\" in data_str"
   ]
  },
  {
   "cell_type": "code",
   "execution_count": 84,
   "metadata": {},
   "outputs": [],
   "source": [
    "data = json.loads(get_model_info(headers, \"reverted\"))"
   ]
  },
  {
   "cell_type": "code",
   "execution_count": 62,
   "metadata": {},
   "outputs": [],
   "source": [
    "from pprint import pprint"
   ]
  },
  {
   "cell_type": "code",
   "execution_count": 83,
   "metadata": {},
   "outputs": [
    {
     "name": "stdout",
     "output_type": "stream",
     "text": [
      "Wiki bnwiki | Models ['reverted']\n",
      "Reverted_Model_TYPE GradientBoosting \n",
      "\n",
      "Wiki elwiki | Models ['reverted']\n",
      "Reverted_Model_TYPE GradientBoosting \n",
      "\n",
      "Wiki enwiktionary | Models ['reverted']\n",
      "Reverted_Model_TYPE RandomForest \n",
      "\n",
      "Wiki glwiki | Models ['articlequality', 'reverted']\n",
      "Reverted_Model_TYPE GradientBoosting \n",
      "\n",
      "Wiki hrwiki | Models ['reverted']\n",
      "Reverted_Model_TYPE GradientBoosting \n",
      "\n",
      "Wiki idwiki | Models ['reverted']\n",
      "Reverted_Model_TYPE GradientBoosting \n",
      "\n",
      "Wiki iswiki | Models ['reverted']\n",
      "Reverted_Model_TYPE GradientBoosting \n",
      "\n",
      "Wiki tawiki | Models ['reverted']\n",
      "Reverted_Model_TYPE GradientBoosting \n",
      "\n",
      "Wiki testwiki | Models ['articlequality', 'articletopic', 'damaging', 'draftquality', 'drafttopic', 'goodfaith', 'reverted', 'wp10']\n",
      "Reverted_Model_TYPE RevIDScorer \n",
      "\n",
      "Wiki viwiki | Models ['articletopic', 'reverted']\n",
      "Reverted_Model_TYPE GradientBoosting \n",
      "\n"
     ]
    }
   ],
   "source": [
    "for k in data.keys():\n",
    "    if \"reverted\" in data[k][\"models\"].keys():\n",
    "        print(\"Wiki\", k, \"| Models\", list(data[k][\"models\"].keys()))\n",
    "        #pprint(data[k][\"models\"][\"reverted\"])\n",
    "        print(\"Reverted_Model_TYPE\", data[k][\"models\"][\"reverted\"][\"type\"], \"\\n\")"
   ]
  },
  {
   "cell_type": "markdown",
   "metadata": {},
   "source": [
    "***\n",
    "\n",
    "#### Credits\n",
    "\n",
    "We release the notebooks under the [Creative Commons Attribution license (CC BY 4.0)](https://creativecommons.org/licenses/by/4.0/)."
   ]
  },
  {
   "cell_type": "code",
   "execution_count": null,
   "metadata": {},
   "outputs": [],
   "source": []
  }
 ],
 "metadata": {
  "kernelspec": {
   "display_name": "Python 3",
   "language": "python",
   "name": "python3"
  },
  "language_info": {
   "codemirror_mode": {
    "name": "ipython",
    "version": 3
   },
   "file_extension": ".py",
   "mimetype": "text/x-python",
   "name": "python",
   "nbconvert_exporter": "python",
   "pygments_lexer": "ipython3",
   "version": "3.7.3"
  },
  "latex_envs": {
   "LaTeX_envs_menu_present": true,
   "autoclose": false,
   "autocomplete": true,
   "bibliofile": "biblio.bib",
   "cite_by": "apalike",
   "current_citInitial": 1,
   "eqLabelWithNumbers": true,
   "eqNumInitial": 1,
   "hotkeys": {
    "equation": "Ctrl-E",
    "itemize": "Ctrl-I"
   },
   "labels_anchors": false,
   "latex_user_defs": false,
   "report_style_numbering": false,
   "user_envs_cfg": false
  }
 },
 "nbformat": 4,
 "nbformat_minor": 4
}

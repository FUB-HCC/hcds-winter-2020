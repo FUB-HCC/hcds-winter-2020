{
 "cells": [
  {
   "cell_type": "markdown",
   "metadata": {},
   "source": [
    "Course Human-Centered Data Science ([HCDS](https://www.mi.fu-berlin.de/en/inf/groups/hcc/teaching/winter_term_2020_21/course_human_centered_data_science.html)) - Winter Term 2020/21 - [HCC](https://www.mi.fu-berlin.de/en/inf/groups/hcc/index.html) | [Freie Universität Berlin](https://www.fu-berlin.de/)\n",
    "\n",
    "***\n",
    "\n",
    "# A4 - Transparency\n",
    "Please use the follwing structure as a starting point. Extend and change the notebook according to your needs. This structure should help you to guide you through your analysis. This notebook is the foundation for condensing your results and writing your reflection in the end. So please read what we expect from you regarding the reflection first to structure your analysis accordingly."
   ]
  },
  {
   "cell_type": "markdown",
   "metadata": {},
   "source": [
    "## [1] General understanding\n",
    "> What is the model about and who is using it?\n",
    "\n",
    "### Model: 'damaging'\n",
    "\n",
    "* What is your model about?\n",
    "\n",
    " * Our Model is about predicting if an edit of an article is causing damage\n",
    "\n",
    "* Why is this model useful?\n",
    "\n",
    " * In case an article edit is flagged as damaging it is possible to revert the changes\n",
    "\n",
    "* Who is using this model?\n",
    "\n",
    " * Wikimedia Community to analyze if edits are damaging\n",
    " * Readers indirectly because vandalism is getting reverted that ensures a higher quality\n",
    "\n",
    "* What are stakeholder or users of ORES? \n",
    " * Editors\n",
    " * Readers (passive)\n",
    " * Wikimedia Community\n",
    "\n",
    "* Why is this model useful to wikipedia?\n",
    "\n",
    " * It stops damaging edits and reverts the changes. \n",
    " * This increases the quality of the Wikipedia articles and ensures that it wikipedia is a reliable source of information. \n",
    " * Since the amount of articles getting edited on wikipedia is enourmously large the ORES damaging model can help to automate this process.\n",
    "\n",
    "* What applications/projects/... within wikipedia are using this model?\n",
    "\n",
    " * editquality - advanced support - model - checked\n",
    " * List: https://ores-support-checklist.toolforge.org/"
   ]
  },
  {
   "cell_type": "markdown",
   "metadata": {},
   "source": [
    "## [2] API\n",
    "> What does the ORES API (v3) tell you about a specific model? What functions does the API offer?\n",
    "\n",
    "Use the API to investigate your model: https://ores.wikimedia.org/v3/#/. What do the follwing API calls do and what do they tell you about your model?\n",
    "\n",
    "* `https://ores.wikimedia.org/v3/scores/`\n",
    " * It tells which wiki has employed certain models and their version\n",
    " \n",
    "* `https://ores.wikimedia.org/v3/scores/?model_info`\n",
    " * You can lookup for more detailed information for a certain wiki and the respective model. \n",
    " * It gives information about the\n",
    "  * environment\n",
    "  * params\n",
    "  * score_schema\n",
    "  * statistics\n",
    "  * type\n",
    "  * version\n",
    "* `https://ores.wikimedia.org/v3/scores/enwiki`\n",
    " * More information specifically for the use models on the english wikipedia\n",
    "* `https://ores.wikimedia.org/v3/scores/enwiki?models=YOURMODELNAME&model_info`\n",
    " * More information specifically for the english wikipedia damaging model\n",
    " * damaging model:\n",
    "  * version: \"1.2.0\" (08.12.2020 14:44)\n",
    "* `https://ores.wikimedia.org/v3/scores/enwiki?models=damaging&revids=991397091`\n",
    " *  Detailed information of the enwiki with revid=991397091\n",
    "  * score: false 0.96795 (false with 0.968 certainty)\n",
    "* `https://ores.wikimedia.org/v3/scores/enwiki/991397091/damaging?model_info`\n",
    " * Detailed information of revid=991397091 for all models and all paramaters\n",
    "* `https://ores.wikimedia.org/v3/scores/enwiki/991397091/damaging?features=true`\n",
    " * Shows scores of the features of revid=991397091"
   ]
  },
  {
   "cell_type": "markdown",
   "metadata": {},
   "source": [
    "### Feature Injection\n",
    "Please check out the _feature injection_ feature of ORES: https://www.mediawiki.org/wiki/ORES/Feature_injection\n",
    "\n",
    "**Example:**\n",
    "\n",
    "     # Here you can get the perdiction for a revision, if the user would habe been anonymous:\n",
    "     https://ores.wikimedia.org/v3/scores/enwiki/991397091/damaging?features&feature.revision.user.is_anon=true"
   ]
  },
  {
   "cell_type": "markdown",
   "metadata": {},
   "source": [
    "## [3] ML algorithm and training/test data\n",
    "> Which machine learning model is underlying and what data is used to build the model?"
   ]
  },
  {
   "cell_type": "markdown",
   "metadata": {},
   "source": [
    "* Check out `model_info` in detail.\n",
    "* What does it tell you about the model performance?\n",
    "* You can visualise and explain your results regarding model performance.\n",
    "* What data was used to train and test the model?\n",
    "* What machine learning algorithm is your model using? Please explain briefly."
   ]
  },
  {
   "cell_type": "markdown",
   "metadata": {},
   "source": [
    "## [4] Features\n",
    "> Which features are used and which have the greatest influence on the prediction?\n",
    "\n",
    "* What features is your model using?\n",
    "* What do they mean?\n",
    "* Which is the most important features?\n",
    "* `https://ores.wikimedia.org/v3/scores/enwiki/991379667/articlequality?features=true`\n",
    "* Are all models (in all languages of wikipedia), are they using the same features?"
   ]
  },
  {
   "cell_type": "markdown",
   "metadata": {},
   "source": [
    "## Sample code"
   ]
  },
  {
   "cell_type": "code",
   "execution_count": 1,
   "metadata": {},
   "outputs": [],
   "source": [
    "import requests\n",
    "import json\n",
    "\n",
    "# Customize these with your own information\n",
    "headers = {\n",
    "    'User-Agent': 'https://github.com/AnilSahintuerk',\n",
    "    'From': 'anilsahintuerk@fu-berlin.de'\n",
    "}\n",
    "\n",
    "def get_ores_data(rev_id, headers):\n",
    "    \n",
    "    # Define the endpoint: This is an example!\n",
    "    endpoint = 'https://ores.wikimedia.org/v3/scores/enwiki/?models={model}&revids={revids}'\n",
    "\n",
    "    params = {'project' : 'enwiki',\n",
    "              'model'   : 'damaging',\n",
    "              'revids'  : rev_id\n",
    "              }\n",
    "\n",
    "    api_call = requests.get(endpoint.format(**params))\n",
    "    response = api_call.json()\n",
    "    data = json.loads(response)\n",
    "\n",
    "    return data"
   ]
  },
  {
   "cell_type": "code",
   "execution_count": null,
   "metadata": {},
   "outputs": [],
   "source": [
    "data = get_ores_data()"
   ]
  },
  {
   "cell_type": "markdown",
   "metadata": {},
   "source": [
    "***\n",
    "\n",
    "#### Credits\n",
    "\n",
    "We release the notebooks under the [Creative Commons Attribution license (CC BY 4.0)](https://creativecommons.org/licenses/by/4.0/)."
   ]
  },
  {
   "cell_type": "code",
   "execution_count": null,
   "metadata": {},
   "outputs": [],
   "source": []
  }
 ],
 "metadata": {
  "kernelspec": {
   "display_name": "Python 3",
   "language": "python",
   "name": "python3"
  },
  "language_info": {
   "codemirror_mode": {
    "name": "ipython",
    "version": 3
   },
   "file_extension": ".py",
   "mimetype": "text/x-python",
   "name": "python",
   "nbconvert_exporter": "python",
   "pygments_lexer": "ipython3",
   "version": "3.8.3"
  }
 },
 "nbformat": 4,
 "nbformat_minor": 4
}

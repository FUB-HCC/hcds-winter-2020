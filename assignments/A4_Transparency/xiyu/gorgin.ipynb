{
 "metadata": {
  "language_info": {
   "codemirror_mode": {
    "name": "ipython",
    "version": 3
   },
   "file_extension": ".py",
   "mimetype": "text/x-python",
   "name": "python",
   "nbconvert_exporter": "python",
   "pygments_lexer": "ipython3",
   "version": "3.6.9-final"
  },
  "orig_nbformat": 2,
  "kernelspec": {
   "name": "python3",
   "display_name": "Python 3",
   "language": "python"
  }
 },
 "nbformat": 4,
 "nbformat_minor": 2,
 "cells": [
  {
   "source": [
    "## [4] Features\n",
    "> Which features are used and which have the greatest influence on the prediction?\n",
    "\n",
    "* (1) What features is your model using?\n",
    "* (2) What do they mean?\n",
    "* (3) Which is the most important features?\n",
    "* (4) Are all models (in all languages of wikipedia), are they using the same features?"
   ],
   "cell_type": "markdown",
   "metadata": {}
  },
  {
   "source": [
    "### 4.1 Features - _What features is your model using?_\n",
    "\n",
    "In 2.7, a call to ORES was made that shows the scores and also the features and their values for a specific revid, like so:\n",
    "\n",
    "ores.wikimedia.org/v3/scores/`context`/`revid`/`model`?features=true\n",
    "\n",
    "Didn't find a way to get a **definitive** answer about the features _without_ referring to a revid. That's unfortunate, because it might be possible that there exist revids that yield different features. That would not make sense, but so far, we don't know. So let's use the way from above to find the features:"
   ],
   "cell_type": "markdown",
   "metadata": {}
  },
  {
   "cell_type": "code",
   "execution_count": 6,
   "metadata": {},
   "outputs": [
    {
     "output_type": "stream",
     "name": "stdout",
     "text": [
      "   #####   These are the features within model 'articlequality' of the project 'enwiki':   #####\n   #####   ^^^^^^^^^^^^^^^^^^^^^^^^^^^^^^^^^^^^^^^^^^^^^^^^^^^^^^^^^^^^^^^^^^^^^^^^^^^^^   #####\nfeature.english.stemmed.revision.stems_length\nfeature.enwiki.infobox_images\nfeature.enwiki.main_article_templates\nfeature.enwiki.revision.category_links\nfeature.enwiki.revision.cite_templates\nfeature.enwiki.revision.cn_templates\nfeature.enwiki.revision.image_links\nfeature.enwiki.revision.image_template\nfeature.enwiki.revision.images_in_tags\nfeature.enwiki.revision.images_in_templates\nfeature.enwiki.revision.infobox_templates\nfeature.enwiki.revision.paragraphs_without_refs_total_length\nfeature.enwiki.revision.shortened_footnote_templates\nfeature.enwiki.revision.who_templates\nfeature.len(<datasource.english.idioms.revision.matches>)\nfeature.len(<datasource.english.words_to_watch.revision.matches>)\nfeature.len(<datasource.wikitext.revision.words>)\nfeature.wikitext.revision.chars\nfeature.wikitext.revision.content_chars\nfeature.wikitext.revision.external_links\nfeature.wikitext.revision.headings_by_level(2)\nfeature.wikitext.revision.headings_by_level(3)\nfeature.wikitext.revision.ref_tags\nfeature.wikitext.revision.templates\nfeature.wikitext.revision.wikilinks\n"
     ]
    }
   ],
   "source": [
    "import requests, json\n",
    "\n",
    "def get_features(revid=\"485104318\", project=\"enwiki\", model=\"articlequality\"):\n",
    "    if type(revid) is int:\n",
    "        revid = str(revid)\n",
    "    link = \"https://ores.wikimedia.org/v3/scores/{0}/{1}/{2}?features=true\".format(project, revid, model)\n",
    "    rsp = requests.get(link)\n",
    "    rsp = rsp.json()\n",
    "    if \"error\" in rsp:\n",
    "        print(\"\\nFEHLER!!! - \", rsp,\"\\n\")\n",
    "        return[]\n",
    "    rsp = rsp[project][\"scores\"][revid][model]\n",
    "\n",
    "    features = []\n",
    "\n",
    "    if \"error\" not in rsp.keys():\n",
    "        features = list(rsp[\"features\"])\n",
    "\n",
    "    return features\n",
    "\n",
    "features_reference_aq_en = get_features()\n",
    "\n",
    "print(\"   #####   These are the features within model 'articlequality' of the project 'enwiki':   #####\")\n",
    "print(\"   #####   ^^^^^^^^^^^^^^^^^^^^^^^^^^^^^^^^^^^^^^^^^^^^^^^^^^^^^^^^^^^^^^^^^^^^^^^^^^^^^   #####\")\n",
    "for i in features_reference_aq_en:\n",
    "    print(i)"
   ]
  },
  {
   "source": [
    "Like said above: Not not sure if this is the same result for **_all_** articles! Can't try for ALL articles, so instead, grab a bunch of articles randomly and compare if they yield the same kind of features:"
   ],
   "cell_type": "markdown",
   "metadata": {}
  },
  {
   "cell_type": "code",
   "execution_count": 7,
   "metadata": {},
   "outputs": [
    {
     "output_type": "stream",
     "name": "stdout",
     "text": [
      "Checking revids:  [2130372, 8098803, 6367719, 953033, 7205212]\n",
      "_____\n",
      "^^^^^\n",
      "5 of 5 valid revids yield the same features. That's good!\n",
      "--------------------------------------------------------------------------------\n"
     ]
    }
   ],
   "source": [
    "def check_if_features_are_the_same(startRange, endRange, count, project=\"enwiki\", model=\"articlequality\"):\n",
    "    import random  # Random list with a length of \"count\", random valiues range from startRange to endRange (incl)\n",
    "    random_revids = random.sample(range(startRange, endRange+1), count)\n",
    "\n",
    "    reference = []  # this will contain the features of the first valid revid that gets checked \n",
    "    suspicious_revid = []  # Saving revid's that don't match the reference\n",
    "    invalid_revid = 0  # Counting revids that dont exist\n",
    "\n",
    "    print(\"Checking revids: \", random_revids)\n",
    "    print(\"_\"* len(random_revids))\n",
    "    for revid in random_revids:\n",
    "        rsp = get_features(revid=revid, project=project, model=model)\n",
    "        if rsp == []:\n",
    "            invalid_revid += 1\n",
    "            print(\"-\", end=\"\")\n",
    "        elif reference == []:  # First time fetching features, take these as reference, print a ^ as if all is fine\n",
    "            reference = rsp\n",
    "            print(\"^\", end=\"\")\n",
    "        elif rsp != reference:  # Got features that don't match with the reference, printing an X\n",
    "            suspicious_revid.append(revid)\n",
    "            print(\"X\", end=\"\")\n",
    "            continue\n",
    "        else:\n",
    "            print(\"^\", end=\"\")  # Got features that match with the reference. All is good, so print a ^\n",
    "\n",
    "    if invalid_revid == count:  # print some text as result\n",
    "        print(\"\\n### !! ALL REVIDS WERE INVALID !! ###\")\n",
    "    elif suspicious_revid == []:\n",
    "        valid_revids_count = count - invalid_revid\n",
    "        print(\"\\n\" + str(valid_revids_count) + \" of \" + str(count) + \" revids were valid and those yield the same features. That's good!\" )\n",
    "        print(\"-\"*80)\n",
    "        return reference\n",
    "    else:\n",
    "        print(\"\\n### !! SOME revids HAVE UNEXPECTED FEATURES: \", suspicious_revid, \"!! ###\")\n",
    "    \n",
    "    return []\n",
    "\n",
    "res = check_if_features_are_the_same(1000,10000000,15)"
   ]
  },
  {
   "source": [
    "So, good enough. These seem to be the same features all the time for model articlequality and project enwiki."
   ],
   "cell_type": "markdown",
   "metadata": {}
  },
  {
   "source": [
    "### 4.2 Features - _What do they mean?_\n",
    "\n",
    "- feature.english.stemmed.revision.stems_length\n",
    "\n",
    "- feature.enwiki.infobox_images\n",
    "\n",
    "- feature.enwiki.main_article_templates\n",
    "\n",
    "- feature.enwiki.revision.category_links\n",
    "\n",
    "- feature.enwiki.revision.cite_templates\n",
    "\n",
    "- feature.enwiki.revision.cn_templates\n",
    "\n",
    "- feature.enwiki.revision.image_links\n",
    "\n",
    "- feature.enwiki.revision.image_template\n",
    "\n",
    "- feature.enwiki.revision.images_in_tags\n",
    "\n",
    "- feature.enwiki.revision.images_in_templates\n",
    "\n",
    "- feature.enwiki.revision.infobox_templates\n",
    "\n",
    "- feature.enwiki.revision.paragraphs_without_refs_total_length\n",
    "\n",
    "- feature.enwiki.revision.shortened_footnote_templates\n",
    "\n",
    "- feature.enwiki.revision.who_templates\n",
    "\n",
    "- feature.len(<datasource.english.idioms.revision.matches>)\n",
    "\n",
    "- feature.len(<datasource.english.words_to_watch.revision.matches>)\n",
    "\n",
    "- feature.len(<datasource.wikitext.revision.words>)\n",
    "\n",
    "- feature.wikitext.revision.chars\n",
    "\n",
    "- feature.wikitext.revision.content_chars\n",
    "\n",
    "- feature.wikitext.revision.external_links\n",
    "\n",
    "- feature.wikitext.revision.headings_by_level(2)\n",
    "\n",
    "- feature.wikitext.revision.headings_by_level(3)\n",
    "\n",
    "- feature.wikitext.revision.ref_tags\n",
    "\n",
    "- feature.wikitext.revision.templates\n",
    "\n",
    "- feature.wikitext.revision.wikilinks\n"
   ],
   "cell_type": "markdown",
   "metadata": {}
  },
  {
   "source": [
    "### 4.3 Features - _Which is the most important features?_\n",
    "\n",
    "May have missed the part where this is explained, but by searching for information, the answer was not found. So an idea is to use feature injection: By manually changing the values for some features we can see how much this changes the result and try to find out if some features change the result more than others. This is how an injection is applied:\n",
    "\n",
    "```https://ores.wikimedia.org/v3/scores/enwiki/485104318/articlequality?feature.enwiki.revision.images_in_templates=9876543```\n"
   ],
   "cell_type": "markdown",
   "metadata": {}
  },
  {
   "cell_type": "code",
   "execution_count": 48,
   "metadata": {},
   "outputs": [
    {
     "output_type": "execute_result",
     "data": {
      "text/plain": [
       "['feature.english.stemmed.revision.stems_length',\n",
       " 'feature.enwiki.infobox_images',\n",
       " 'feature.enwiki.main_article_templates',\n",
       " 'feature.enwiki.revision.category_links',\n",
       " 'feature.enwiki.revision.cite_templates',\n",
       " 'feature.enwiki.revision.cn_templates',\n",
       " 'feature.enwiki.revision.image_links',\n",
       " 'feature.enwiki.revision.image_template',\n",
       " 'feature.enwiki.revision.images_in_tags',\n",
       " 'feature.enwiki.revision.images_in_templates',\n",
       " 'feature.enwiki.revision.infobox_templates',\n",
       " 'feature.enwiki.revision.paragraphs_without_refs_total_length',\n",
       " 'feature.enwiki.revision.shortened_footnote_templates',\n",
       " 'feature.enwiki.revision.who_templates',\n",
       " 'feature.len(<datasource.english.idioms.revision.matches>)',\n",
       " 'feature.len(<datasource.english.words_to_watch.revision.matches>)',\n",
       " 'feature.len(<datasource.wikitext.revision.words>)',\n",
       " 'feature.wikitext.revision.chars',\n",
       " 'feature.wikitext.revision.content_chars',\n",
       " 'feature.wikitext.revision.external_links',\n",
       " 'feature.wikitext.revision.headings_by_level(2)',\n",
       " 'feature.wikitext.revision.headings_by_level(3)',\n",
       " 'feature.wikitext.revision.ref_tags',\n",
       " 'feature.wikitext.revision.templates',\n",
       " 'feature.wikitext.revision.wikilinks']"
      ]
     },
     "metadata": {},
     "execution_count": 48
    }
   ],
   "source": [
    "\n",
    "# This method is close to \"get_features\", however it does not need a revid. Since we believe the features stay the\n",
    "# same for every article (within same model and project), we can just grab the features that the first hit yields.\n",
    "def get_features_list(project=\"enwiki\", model=\"articlequality\"):\n",
    "    import random  # Random list with a length of \"count\", random valiues range from startRange to endRange (incl)\n",
    "\n",
    "    rsp = []  # this will contain the features of the first valid revid that gets checked \n",
    "    random_revids = []\n",
    "\n",
    "    while rsp == []:\n",
    "        if random_revids == []:\n",
    "            random_revids = random.sample(range(1, 99999999), 100)\n",
    "\n",
    "        rsp = get_features(random_revids.pop(), project=project, model=model)\n",
    "    return rsp\n",
    "\n",
    "    \n",
    "\n",
    "get_features_list(project=\"enwiki\", model=\"articlequality\")\n",
    "\n",
    "\n"
   ]
  },
  {
   "source": [
    "### 4.4 Features - _Are all models (in all languages of wikipedia), are they using the same features?_\n",
    "\n",
    "So, first we grab all available projects (=\"languages\") that are included in ORES. For this, we fetch the information about scores in version 3 and grab the index for `models`. We then iterate these 46 projects and make a request to get the models that this project incorporates, with this result we can check if the model we look for is included in there. The scanning takes about twenty seconds."
   ],
   "cell_type": "markdown",
   "metadata": {}
  },
  {
   "cell_type": "code",
   "execution_count": 30,
   "metadata": {},
   "outputs": [
    {
     "output_type": "stream",
     "name": "stdout",
     "text": [
      "There are 46 projects for ORES. Scanning them for model 'articlequality':\n",
      "______________________________________________\n",
      ".......X.....X.X.X.X............X.XX..X.XXX...\n",
      "project   \t   url                      \t  response-code  \t   language\n",
      "enwiki   \t   http://en.wikipedia.org \t  <Response [200]>  \t   en\n",
      "euwiki   \t   http://eu.wikipedia.org \t  <Response [200]>  \t   eu\n",
      "fawiki   \t   http://fa.wikipedia.org \t  <Response [200]>  \t   fa\n",
      "frwiki   \t   http://fr.wikipedia.org \t  <Response [200]>  \t   fr\n",
      "glwiki   \t   http://gl.wikipedia.org \t  <Response [200]>  \t   gl\n",
      "ptwiki   \t   http://pt.wikipedia.org \t  <Response [200]>  \t   pt\n",
      "ruwiki   \t   http://ru.wikipedia.org \t  <Response [200]>  \t   ru\n",
      "simplewiki   \t   http://simple.wikipedia.org \t  <Response [200]>  \t   en\n",
      "svwiki   \t   http://sv.wikipedia.org \t  <Response [200]>  \t   sv\n",
      "testwiki   \t   http://test.wikipedia.org \t  <Response [200]>  \t   en\n",
      "trwiki   \t   http://tr.wikipedia.org \t  <Response [200]>  \t   tr\n",
      "ukwiki   \t   http://uk.wikipedia.org \t  <Response [200]>  \t   uk\n"
     ]
    }
   ],
   "source": [
    "def get_projects_for_model(model):\n",
    "    scores = requests.get(\"https://ores.wikimedia.org/v3/scores\").json()\n",
    "    print(\"There are \" + str(len(scores)) + \" projects for ORES. Scanning them for model '\" + model + \"':\" )\n",
    "    print(\"_\"*len(scores))\n",
    "    ret = []\n",
    "    for project in scores:\n",
    "        rsp = requests.get(\"https://ores.wikimedia.org/v3/scores/{0}\".format(project))\n",
    "        rsp = rsp.json()\n",
    "        models = rsp[project][\"models\"].keys()\n",
    "        if model in models:\n",
    "            ret.append(project)\n",
    "            print(\"X\", end=\"\")\n",
    "        else:\n",
    "            print(\".\", end=\"\")\n",
    "    print(\"\\r\")\n",
    "    return ret\n",
    "\n",
    "model = \"articlequality\"\n",
    "projects_with_aq = get_projects_for_model(model)\n",
    "print(\"project\", \"  \\t  \", \"url                    \", \" \\t  response-code  \\t   language\")\n",
    "for i in projects_with_aq:\n",
    "    link = \"http://{0}.wikipedia.org\".format(i[:-4])  # removing the 'wiki' and putting whats left into a link, like \"html://www.de.wikipedia.org\"\n",
    "    req = requests.get(link)\n",
    "    print(i, \"  \\t  \", link, \"\\t \", req, \" \\t  \", req.headers[\"Content-Language\"])"
   ]
  },
  {
   "source": [
    "Now we can iterate this list of projects and a) check if the features IN that project stay the same and then b) compare them with the other projects. This may take a while..."
   ],
   "cell_type": "markdown",
   "metadata": {}
  },
  {
   "cell_type": "code",
   "execution_count": 42,
   "metadata": {},
   "outputs": [
    {
     "output_type": "stream",
     "name": "stdout",
     "text": [
      "CHECKING PROJECT EN! Checking revids:  [6472, 1688, 6282, 5815, 8829, 5950, 3376, 3901, 8725, 5589]\n",
      "__________\n",
      "^^^^^^^^^^\n",
      "10 of 10 valid revids yield the same features. That's good!\n",
      "--------------------------------------------------------------------------------\n",
      "CHECKING PROJECT EU! Checking revids:  [5147, 1361, 1049, 8805, 5668, 5645, 4045, 9040, 1979, 6531]\n",
      "__________\n",
      "^--^^^^^^^\n",
      "8 of 10 valid revids yield the same features. That's good!\n",
      "--------------------------------------------------------------------------------\n",
      "CHECKING PROJECT FA! Checking revids:  [1504, 8749, 3687, 6419, 5072, 8026, 7165, 5544, 2613, 7555]\n",
      "__________\n",
      "^-^^^^^^-^\n",
      "8 of 10 valid revids yield the same features. That's good!\n",
      "--------------------------------------------------------------------------------\n",
      "CHECKING PROJECT FR! Checking revids:  [7731, 2549, 5003, 6604, 8771, 9182, 2190, 9715, 6270, 6553]\n",
      "__________\n",
      "-^---^^^^^\n",
      "6 of 10 valid revids yield the same features. That's good!\n",
      "--------------------------------------------------------------------------------\n",
      "CHECKING PROJECT GL! Checking revids:  [9624, 1112, 7733, 5156, 9226, 2722, 7179, 2572, 4622, 3701]\n",
      "__________\n",
      "^-^^^^-^-^\n",
      "7 of 10 valid revids yield the same features. That's good!\n",
      "--------------------------------------------------------------------------------\n",
      "CHECKING PROJECT PT! Checking revids:  [6229, 8247, 8034, 5288, 6406, 5910, 4412, 5419, 2991, 3924]\n",
      "__________\n",
      "^^-^-^^^-^\n",
      "7 of 10 valid revids yield the same features. That's good!\n",
      "--------------------------------------------------------------------------------\n",
      "CHECKING PROJECT RU! Checking revids:  [3211, 8094, 7654, 4549, 2846, 9093, 8149, 6553, 6199, 8250]\n",
      "__________\n",
      "^^^^-^^-^^\n",
      "8 of 10 valid revids yield the same features. That's good!\n",
      "--------------------------------------------------------------------------------\n",
      "CHECKING PROJECT SIMPLE! Checking revids:  [2317, 6816, 4553, 5021, 8429, 1385, 5489, 7964, 8746, 8799]\n",
      "__________\n",
      "^^^^-^-^-^\n",
      "7 of 10 valid revids yield the same features. That's good!\n",
      "--------------------------------------------------------------------------------\n",
      "CHECKING PROJECT SV! Checking revids:  [5909, 5822, 7453, 5889, 3568, 2914, 5817, 8517, 3935, 5739]\n",
      "__________\n",
      "^^^^^^^-^^\n",
      "9 of 10 valid revids yield the same features. That's good!\n",
      "--------------------------------------------------------------------------------\n",
      "CHECKING PROJECT TEST! Checking revids:  [1950, 2741, 6018, 6229, 9459, 6457, 3069, 9635, 1293, 9686]\n",
      "__________\n",
      "--^----^--\n",
      "2 of 10 valid revids yield the same features. That's good!\n",
      "--------------------------------------------------------------------------------\n",
      "CHECKING PROJECT TR! Checking revids:  [3835, 5648, 4445, 2211, 4184, 8296, 3956, 3440, 1046, 8507]\n",
      "__________\n",
      "-^^--^-^-^\n",
      "5 of 10 valid revids yield the same features. That's good!\n",
      "--------------------------------------------------------------------------------\n",
      "CHECKING PROJECT UK! Checking revids:  [7998, 2798, 2970, 2498, 9335, 7824, 4770, 2741, 9184, 4493]\n",
      "__________\n",
      "^---^^^-^^\n",
      "6 of 10 valid revids yield the same features. That's good!\n",
      "--------------------------------------------------------------------------------\n",
      "All given projects are consistent regarding their OWN features! This is good\n"
     ]
    }
   ],
   "source": [
    "# project_list - List of projects to check features\n",
    "# sammples = How many random revids should be checked for each project? Each check is a call, so the higher this number, the longer it all takes!\n",
    "def check_projects(project_list, samples = 10):\n",
    "    result = dict()\n",
    "    result = []\n",
    "    all_good = True\n",
    "    for p in project_list:\n",
    "        print(\"CHECKING PROJECT \" + p.upper()[:-4] + \"! \" , end=\"\")\n",
    "        res = check_if_features_are_the_same(1000,10000,samples,project=p)\n",
    "        if res == []:\n",
    "            all_good = False\n",
    "            print(\"Problem with project '\" + p + \"' - inconsistencies regarding the features!\")\n",
    "        else:\n",
    "            result.append([p,res])\n",
    "    if all_good:\n",
    "        print(\"All given projects are consistent regarding their OWN features! This is good\")\n",
    "    \n",
    "    return result\n",
    "\n",
    "features_of_projects = check_projects(projects_with_aq)\n"
   ]
  },
  {
   "source": [
    "### Short answer: Features stay the same within a project but are not the same over all projects."
   ],
   "cell_type": "markdown",
   "metadata": {}
  }
 ]
}
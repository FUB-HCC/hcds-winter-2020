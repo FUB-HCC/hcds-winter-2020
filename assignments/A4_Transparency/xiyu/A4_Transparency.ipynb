{
 "cells": [
  {
   "cell_type": "markdown",
   "metadata": {},
   "source": [
    "Course Human-Centered Data Science ([HCDS](https://www.mi.fu-berlin.de/en/inf/groups/hcc/teaching/winter_term_2020_21/course_human_centered_data_science.html)) - Winter Term 2020/21 - [HCC](https://www.mi.fu-berlin.de/en/inf/groups/hcc/index.html) | [Freie Universität Berlin](https://www.fu-berlin.de/)\n",
    "\n",
    "***\n",
    "\n",
    "# A4 - Transparency\n",
    "Please use the follwing structure as a starting point. Extend and change the notebook according to your needs. This structure should help you to guide you through your analysis. This notebook is the foundation for condensing your results and writing your reflection in the end. So please read what we expect from you regarding the reflection first to structure your analysis accordingly."
   ]
  },
  {
   "cell_type": "markdown",
   "metadata": {},
   "source": [
    "## [1] General understanding\n",
    "> What is the model about and who is using it?\n",
    "\n",
    "Model5: articlequality\n",
    "\n",
    ">* What is your model about?\n",
    "\n",
    "Different from the model `draft quality`, the model `articlequality` is used for the assesment of existing articles, i.e.: articles that have passed the initial curation:<br>\n",
    "_draftquality_ – predicts if the article will need to be speedy deleted (spam, vandalism, attack, or OK)<br>\n",
    "_articlequality_ – predicts the (Wikipedia 1.0-like) assessment class of an article or draft<br>\n",
    "This model is used for periodically assessment on large wikipedias. This `articlequality` model is trained to replicate the article quality assessment made by humans (see: Wiki Labels (https://meta.wikimedia.org/wiki/Wiki_labels)). The model \"has been used to help WikiProjects triage re-assessment work and to explore the editing dynamics that lead to article quality improvements\". [<sup>References</sup>](#refer-anchor)<br>\n",
    "_Note: It uses criteria such as the number of sections, references, infoboxes etc., so_ quality _refers rather to structural issues, not the semantics nor the content!_\n",
    "\n",
    ">* Why is this model useful?\n",
    "\n",
    "Depends on _who_ is asking: For Wikipedia itself, it is useful as it points editors towards articles that may need a revision.\n",
    "For the rest, it is up to interpretation: Considering the criteria for _quality_, this model may indicate the effort people put into writing an article and how much they have to say it - and hence it may reflect the actual public interest about a topic.\n",
    "\n",
    ">* Who is using this model?\n",
    "\n",
    "[Ores' homepage](https://www.mediawiki.org/wiki/ORES) makes it sound like mainly Wikipedia is using it. A web search was of no help but surely anyone who has to deal with trends would use this, e.g. magazines: There could be a direct correlation between the _change of the score_ regardind a specific topic and its _perception in the public_, just like the number of google-searches. This is just a thought, though.\n",
    "\n",
    ">* What are stakeholder or users of ORES?\n",
    "\n",
    "Researchers, Wikipedia insiders, personal users with interest in online knowledge community\n",
    "\n",
    ">* Why is this model useful to wikipedia?\n",
    "\n",
    "It helps to identify pages that could be improved and thus can raise Wikipedias overall quality.\n",
    "\n",
    ">* What applications/projects/... within wikipedia are using this model?\n",
    "\n",
    "umm...\n"
   ]
  },
  {
   "cell_type": "markdown",
   "metadata": {},
   "source": [
    "## [2] API\n",
    "> What does the ORES API (v3) tell you about a specific model? What functions does the API offer?\n",
    "\n",
    "Use the API to investigate your model: https://ores.wikimedia.org/v3/#/. What do the follwing API calls do and what do they tell you about your model?\n",
    "\n",
    "*  (1) [https://ores.wikimedia.org/v3/scores/]<br>\n",
    "Different Wikipedia pages are supported by different models.\n",
    "* (2) [https://ores.wikimedia.org/v3/scores/?model_info]<br>\n",
    "This call returns a long JSON containing information about _all_ (?) the models available for _all_ (?) wikis, from `arwiki` to `zhwiki`: For each xwiki, the system they are running on, labels, score-schemes, ... \n",
    "* (3) [https://ores.wikimedia.org/v3/scores/enwiki]<br>\n",
    "Returns a short JSON containing the models available for enwiki and their version numbers. The german counterpart,  _../dewiki_ yields two models: _damaging_ and _goodfaith_.\n",
    "* (4) [https://ores.wikimedia.org/v3/scores/enwiki?models=articlequality&model_info]<br>\n",
    "Ignoring the first link, each link above narrows down the result of its predecessor, so this link yields a JSON with Information about the model `articlequality` for the english wikipedia `enwiki`.\n",
    "\n",
    "* (5) [https://ores.wikimedia.org/v3/scores/enwiki?models=articlequality&revids=485104318]<br>\n",
    "Above link (using the second revid from the example in ORES' own page), yields a JSON with some basic info and for each quality-category (B, C, FA, ...) the value for the prediction that this article belongs to the respective category:\n",
    "\n",
    "```\n",
    "{\n",
    "  \"enwiki\": {\n",
    "    \"models\": {\n",
    "      \"articlequality\": {\n",
    "        \"version\": \"0.8.2\"\n",
    "      }\n",
    "    },\n",
    "    \"scores\": {\n",
    "      \"485104318\": {\n",
    "        \"articlequality\": {\n",
    "          \"score\": {\n",
    "            \"prediction\": \"Stub\",\n",
    "            \"probability\": {\n",
    "              \"B\": 0.010927696716957773,\n",
    "              \"C\": 0.01631553410794528,\n",
    "              \"FA\": 0.0015486744281834254,\n",
    "              \"GA\": 0.002918825922529176,\n",
    "              \"Start\": 0.06734253108090484,\n",
    "              \"Stub\": 0.9009467377434794\n",
    "} } } } } } }\n",
    "```\n",
    "The following two links use the revid 485104318 as well.\n",
    "* (6) [https://ores.wikimedia.org/v3/scores/enwiki/485104318/articlequality?model_info]<br>\n",
    "This call yields the \"combination\" of (4) and (5), so this JSON includes both information about the model and the result for a specific article.\n",
    "* (7) [https://ores.wikimedia.org/v3/scores/enwiki/485104318/articlequality?features=true]<br>\n",
    "This shows (5) predeceded by `features`: Here it is possible to see the counts for the criteria:\n",
    "```\n",
    "{\n",
    "  \"enwiki\": {\n",
    "    \"models\": {\n",
    "      \"articlequality\": {\n",
    "        \"version\": \"0.8.2\"\n",
    "      }\n",
    "    },\n",
    "    \"scores\": {\n",
    "      \"485104318\": {\n",
    "        \"articlequality\": {\n",
    "          \"features\": {\n",
    "            \"feature.english.stemmed.revision.stems_length\": 582,\n",
    "            \"feature.enwiki.infobox_images\": 0,\n",
    "            \"feature.enwiki.main_article_templates\": 0.0,\n",
    "            \"feature.enwiki.revision.category_links\": 2.0,\n",
    "            \"feature.enwiki.revision.cite_templates\": 0.0,\n",
    "            \"feature.enwiki.revision.cn_templates\": 0.0,\n",
    "            \"feature.enwiki.revision.image_links\": 0.0,\n",
    "            \"feature.enwiki.revision.image_template\": 0.0,\n",
    "            \"feature.enwiki.revision.images_in_tags\": 0,\n",
    "            \"feature.enwiki.revision.images_in_templates\": 0,\n",
    "            \"feature.enwiki.revision.infobox_templates\": 0.0,\n",
    "            \"feature.enwiki.revision.paragraphs_without_refs_total_length\": 0.0,\n",
    "            \"feature.enwiki.revision.shortened_footnote_templates\": 0.0,\n",
    "            \"feature.enwiki.revision.who_templates\": 0.0,\n",
    "            \"feature.len(<datasource.english.idioms.revision.matches>)\": 0.0,\n",
    "            \"feature.len(<datasource.english.words_to_watch.revision.matches>)\": 1.0,\n",
    "            \"feature.len(<datasource.wikitext.revision.words>)\": 126.0,\n",
    "            \"feature.wikitext.revision.chars\": 1217.0,\n",
    "            \"feature.wikitext.revision.content_chars\": 1003.0,\n",
    "            \"feature.wikitext.revision.external_links\": 4.0,\n",
    "            \"feature.wikitext.revision.headings_by_level(2)\": 1.0,\n",
    "            \"feature.wikitext.revision.headings_by_level(3)\": 0.0,\n",
    "            \"feature.wikitext.revision.ref_tags\": 3.0,\n",
    "            \"feature.wikitext.revision.templates\": 1.0,\n",
    "            \"feature.wikitext.revision.wikilinks\": 6.0\n",
    "          },\n",
    "          \"score\": {\n",
    "            \"prediction\": \"Stub\",\n",
    "            \"probability\": {\n",
    "              \"B\": 0.010927696716957773,\n",
    "              \"C\": 0.01631553410794528,\n",
    "              \"FA\": 0.0015486744281834254,\n",
    "              \"GA\": 0.002918825922529176,\n",
    "              \"Start\": 0.06734253108090484,\n",
    "              \"Stub\": 0.9009467377434794\n",
    "} } } } } } }\n",
    "```"
   ]
  },
  {
   "cell_type": "markdown",
   "metadata": {},
   "source": [
    "### Feature Injection\n",
    "Please check out the _feature injection_ feature of ORES: https://www.mediawiki.org/wiki/ORES/Feature_injection\n",
    "\n",
    "**Example:**\n",
    "\n",
    "     # Here you can get the perdiction for a revision, if the user would habe been anonymous:\n",
    "     https://ores.wikimedia.org/v3/scores/enwiki/991397091/damaging?features&feature.revision.user.is_anon=true"
   ]
  },
  {
   "cell_type": "code",
   "execution_count": 12,
   "metadata": {},
   "outputs": [
    {
     "name": "stdout",
     "output_type": "stream",
     "text": [
      "{'arwiki': {'models': {'articletopic': {'version': '1.2.0'}, 'damaging': {'version': '0.5.0'}, 'goodfaith': {'version': '0.5.0'}}}, 'bnwiki': {'models': {'reverted': {'version': '0.5.0'}}}, 'bswiki': {'models': {'damaging': {'version': '0.5.0'}, 'goodfaith': {'version': '0.5.0'}}}, 'cawiki': {'models': {'damaging': {'version': '0.5.1'}, 'goodfaith': {'version': '0.5.1'}}}, 'cswiki': {'models': {'articletopic': {'version': '1.2.0'}, 'damaging': {'version': '0.6.0'}, 'goodfaith': {'version': '0.6.0'}}}, 'dewiki': {'models': {'damaging': {'version': '0.5.1'}, 'goodfaith': {'version': '0.5.1'}}}, 'elwiki': {'models': {'reverted': {'version': '0.5.0'}}}, 'enwiki': {'models': {'articlequality': {'version': '0.8.2'}, 'articletopic': {'version': '1.2.0'}, 'damaging': {'version': '0.5.1'}, 'draftquality': {'version': '0.2.1'}, 'drafttopic': {'version': '1.2.0'}, 'goodfaith': {'version': '0.5.1'}, 'wp10': {'version': '0.8.2'}}}, 'enwiktionary': {'models': {'reverted': {'version': '0.5.0'}}}, 'eswiki': {'models': {'damaging': {'version': '0.5.0'}, 'goodfaith': {'version': '0.5.0'}}}, 'eswikibooks': {'models': {'damaging': {'version': '0.5.0'}, 'goodfaith': {'version': '0.5.0'}}}, 'eswikiquote': {'models': {'damaging': {'version': '0.5.0'}, 'goodfaith': {'version': '0.5.0'}}}, 'etwiki': {'models': {'damaging': {'version': '0.5.0'}, 'goodfaith': {'version': '0.5.0'}}}, 'euwiki': {'models': {'articlequality': {'version': '0.8.1'}, 'wp10': {'version': '0.8.1'}}}, 'fakewiki': {'models': {'damaging': {'version': '0.0.3'}, 'goodfaith': {'version': '0.0.3'}}}, 'fawiki': {'models': {'articlequality': {'version': '0.8.0'}, 'damaging': {'version': '0.5.0'}, 'goodfaith': {'version': '0.5.0'}, 'wp10': {'version': '0.8.0'}}}, 'fiwiki': {'models': {'damaging': {'version': '0.5.1'}, 'goodfaith': {'version': '0.5.1'}}}, 'frwiki': {'models': {'articlequality': {'version': '0.8.0'}, 'damaging': {'version': '0.5.0'}, 'goodfaith': {'version': '0.5.0'}, 'wp10': {'version': '0.8.0'}}}, 'frwikisource': {'models': {'pagelevel': {'version': '0.3.0'}}}, 'glwiki': {'models': {'articlequality': {'version': '0.8.0'}, 'reverted': {'version': '0.5.0'}}}, 'hewiki': {'models': {'damaging': {'version': '0.5.0'}, 'goodfaith': {'version': '0.5.0'}}}, 'hrwiki': {'models': {'reverted': {'version': '0.5.0'}}}, 'huwiki': {'models': {'damaging': {'version': '0.5.1'}, 'goodfaith': {'version': '0.5.1'}}}, 'idwiki': {'models': {'reverted': {'version': '0.5.0'}}}, 'iswiki': {'models': {'reverted': {'version': '0.5.0'}}}, 'itwiki': {'models': {'damaging': {'version': '0.5.0'}, 'goodfaith': {'version': '0.5.0'}}}, 'jawiki': {'models': {'damaging': {'version': '0.5.0'}, 'goodfaith': {'version': '0.5.0'}}}, 'kowiki': {'models': {'articletopic': {'version': '1.2.0'}, 'damaging': {'version': '0.5.0'}, 'goodfaith': {'version': '0.5.0'}}}, 'lvwiki': {'models': {'damaging': {'version': '0.5.0'}, 'goodfaith': {'version': '0.5.0'}}}, 'nlwiki': {'models': {'damaging': {'version': '0.5.1'}, 'goodfaith': {'version': '0.5.1'}}}, 'nowiki': {'models': {'damaging': {'version': '0.5.1'}, 'goodfaith': {'version': '0.5.1'}}}, 'plwiki': {'models': {'damaging': {'version': '0.5.0'}, 'goodfaith': {'version': '0.5.0'}}}, 'ptwiki': {'models': {'articlequality': {'version': '0.8.0'}, 'damaging': {'version': '0.5.1'}, 'draftquality': {'version': '0.2.1'}, 'goodfaith': {'version': '0.5.1'}}}, 'rowiki': {'models': {'damaging': {'version': '0.5.1'}, 'goodfaith': {'version': '0.5.1'}}}, 'ruwiki': {'models': {'articlequality': {'version': '0.8.0'}, 'damaging': {'version': '0.5.0'}, 'goodfaith': {'version': '0.5.0'}, 'wp10': {'version': '0.8.0'}}}, 'simplewiki': {'models': {'articlequality': {'version': '0.8.2'}, 'damaging': {'version': '0.5.1'}, 'draftquality': {'version': '0.2.1'}, 'goodfaith': {'version': '0.5.1'}, 'wp10': {'version': '0.8.2'}}}, 'sqwiki': {'models': {'damaging': {'version': '0.5.0'}, 'goodfaith': {'version': '0.5.0'}}}, 'srwiki': {'models': {'damaging': {'version': '0.5.1'}, 'goodfaith': {'version': '0.5.1'}}}, 'svwiki': {'models': {'articlequality': {'version': '0.8.0'}, 'damaging': {'version': '0.5.1'}, 'goodfaith': {'version': '0.5.1'}}}, 'tawiki': {'models': {'reverted': {'version': '0.5.0'}}}, 'testwiki': {'models': {'articlequality': {'version': '0.8.2'}, 'articletopic': {'version': '1.2.0'}, 'damaging': {'version': '0.0.3'}, 'draftquality': {'version': '0.2.1'}, 'drafttopic': {'version': '1.2.0'}, 'goodfaith': {'version': '0.0.3'}, 'reverted': {'version': '0.0.3'}, 'wp10': {'version': '0.8.2'}}}, 'trwiki': {'models': {'articlequality': {'version': '0.8.0'}, 'damaging': {'version': '0.5.1'}, 'goodfaith': {'version': '0.5.1'}, 'wp10': {'version': '0.8.0'}}}, 'ukwiki': {'models': {'articlequality': {'version': '0.8.0'}, 'damaging': {'version': '0.5.1'}, 'goodfaith': {'version': '0.5.1'}}}, 'viwiki': {'models': {'articletopic': {'version': '1.2.0'}, 'reverted': {'version': '0.5.0'}}}, 'wikidatawiki': {'models': {'damaging': {'version': '0.5.0'}, 'goodfaith': {'version': '0.5.0'}, 'itemquality': {'version': '0.5.0'}}}, 'zhwiki': {'models': {'damaging': {'version': '0.5.0'}, 'goodfaith': {'version': '0.5.0'}}}}\n"
     ]
    },
    {
     "data": {
      "text/plain": [
       "{'models': {'articlequality': {'version': '0.8.2'},\n",
       "  'articletopic': {'version': '1.2.0'},\n",
       "  'damaging': {'version': '0.5.1'},\n",
       "  'draftquality': {'version': '0.2.1'},\n",
       "  'drafttopic': {'version': '1.2.0'},\n",
       "  'goodfaith': {'version': '0.5.1'},\n",
       "  'wp10': {'version': '0.8.2'}}}"
      ]
     },
     "execution_count": 12,
     "metadata": {},
     "output_type": "execute_result"
    }
   ],
   "source": [
    "api_call = requests.get('https://ores.wikimedia.org/v3/scores/')\n",
    "scores = api_call.json()\n",
    "print(scores)\n"
   ]
  },
  {
   "cell_type": "code",
   "execution_count": 13,
   "metadata": {},
   "outputs": [
    {
     "data": {
      "text/plain": [
       "{'models': {'articlequality': {'version': '0.8.2'},\n",
       "  'articletopic': {'version': '1.2.0'},\n",
       "  'damaging': {'version': '0.5.1'},\n",
       "  'draftquality': {'version': '0.2.1'},\n",
       "  'drafttopic': {'version': '1.2.0'},\n",
       "  'goodfaith': {'version': '0.5.1'},\n",
       "  'wp10': {'version': '0.8.2'}}}"
      ]
     },
     "execution_count": 13,
     "metadata": {},
     "output_type": "execute_result"
    }
   ],
   "source": [
    "scores[\"enwiki\"]"
   ]
  },
  {
   "cell_type": "code",
   "execution_count": 5,
   "metadata": {},
   "outputs": [],
   "source": [
    "import pandas as pd"
   ]
  },
  {
   "cell_type": "code",
   "execution_count": 9,
   "metadata": {},
   "outputs": [
    {
     "name": "stdout",
     "output_type": "stream",
     "text": [
      "                                                   arwiki  \\\n",
      "models  {'articletopic': {'version': '1.2.0'}, 'damagi...   \n",
      "\n",
      "                                    bnwiki  \\\n",
      "models  {'reverted': {'version': '0.5.0'}}   \n",
      "\n",
      "                                                   bswiki  \\\n",
      "models  {'damaging': {'version': '0.5.0'}, 'goodfaith'...   \n",
      "\n",
      "                                                   cawiki  \\\n",
      "models  {'damaging': {'version': '0.5.1'}, 'goodfaith'...   \n",
      "\n",
      "                                                   cswiki  \\\n",
      "models  {'articletopic': {'version': '1.2.0'}, 'damagi...   \n",
      "\n",
      "                                                   dewiki  \\\n",
      "models  {'damaging': {'version': '0.5.1'}, 'goodfaith'...   \n",
      "\n",
      "                                    elwiki  \\\n",
      "models  {'reverted': {'version': '0.5.0'}}   \n",
      "\n",
      "                                                   enwiki  \\\n",
      "models  {'articlequality': {'version': '0.8.2'}, 'arti...   \n",
      "\n",
      "                              enwiktionary  \\\n",
      "models  {'reverted': {'version': '0.5.0'}}   \n",
      "\n",
      "                                                   eswiki  ...  \\\n",
      "models  {'damaging': {'version': '0.5.0'}, 'goodfaith'...  ...   \n",
      "\n",
      "                                                   sqwiki  \\\n",
      "models  {'damaging': {'version': '0.5.0'}, 'goodfaith'...   \n",
      "\n",
      "                                                   srwiki  \\\n",
      "models  {'damaging': {'version': '0.5.1'}, 'goodfaith'...   \n",
      "\n",
      "                                                   svwiki  \\\n",
      "models  {'articlequality': {'version': '0.8.0'}, 'dama...   \n",
      "\n",
      "                                    tawiki  \\\n",
      "models  {'reverted': {'version': '0.5.0'}}   \n",
      "\n",
      "                                                 testwiki  \\\n",
      "models  {'articlequality': {'version': '0.8.2'}, 'arti...   \n",
      "\n",
      "                                                   trwiki  \\\n",
      "models  {'articlequality': {'version': '0.8.0'}, 'dama...   \n",
      "\n",
      "                                                   ukwiki  \\\n",
      "models  {'articlequality': {'version': '0.8.0'}, 'dama...   \n",
      "\n",
      "                                                   viwiki  \\\n",
      "models  {'articletopic': {'version': '1.2.0'}, 'revert...   \n",
      "\n",
      "                                             wikidatawiki  \\\n",
      "models  {'damaging': {'version': '0.5.0'}, 'goodfaith'...   \n",
      "\n",
      "                                                   zhwiki  \n",
      "models  {'damaging': {'version': '0.5.0'}, 'goodfaith'...  \n",
      "\n",
      "[1 rows x 46 columns]\n"
     ]
    }
   ],
   "source": [
    "scores = pd.DataFrame.from_dict(scores)\n",
    "print(scores)"
   ]
  },
  {
   "cell_type": "code",
   "execution_count": 29,
   "metadata": {},
   "outputs": [],
   "source": [
    "def model_info(headers):\n",
    "    \n",
    "    # Define the endpoint: This is an example!\n",
    "    #endpoint = 'https://ores.wikimedia.org/v3/scores/{project}/?models={model}&=model_info'\n",
    "    endpoint = 'https://ores.wikimedia.org/v3/scores/enwiki?models={model}&=model_info'\n",
    "    params = {#'project' : 'enwiki',\n",
    "              'model'   : 'articlequality',\n",
    "              }\n",
    "\n",
    "    api_call = requests.get(endpoint.format(**params))\n",
    "    response = api_call.json()\n",
    "    #data = json.dumps(response)\n",
    "    return response\n"
   ]
  },
  {
   "cell_type": "code",
   "execution_count": 30,
   "metadata": {},
   "outputs": [
    {
     "name": "stdout",
     "output_type": "stream",
     "text": [
      "{'enwiki': {'models': {'articlequality': {'version': '0.8.2'}}}}\n"
     ]
    }
   ],
   "source": [
    "model_info = model_info(headers)\n",
    "print(model_info)"
   ]
  },
  {
   "cell_type": "markdown",
   "metadata": {},
   "source": [
    "## [3] ML algorithm and training/test data\n",
    "> Which machine learning model is underlying and what data is used to build the model?"
   ]
  },
  {
   "cell_type": "markdown",
   "metadata": {},
   "source": [
    "* Check out `model_info` in detail.\n",
    "* What does it tell you about the model performance?\n",
    "* You can visualise and explain your results regarding model performance.\n",
    "* What data was used to train and test the model?\n",
    "* What machine learning algorithm is your model using? Please explain briefly."
   ]
  },
  {
   "cell_type": "markdown",
   "metadata": {},
   "source": [
    "## [4] Features\n",
    "> Which features are used and which have the greatest influence on the prediction?\n",
    "\n",
    "* What features is your model using?\n",
    "* What do they mean?\n",
    "* Which is the most important features?\n",
    "* `https://ores.wikimedia.org/v3/scores/enwiki/991379667/articlequality?features=true`\n",
    "* Are all models (in all languages of wikipedia), are they using the same features?"
   ]
  },
  {
   "cell_type": "markdown",
   "metadata": {},
   "source": [
    "## Sample code"
   ]
  },
  {
   "cell_type": "code",
   "execution_count": 2,
   "metadata": {},
   "outputs": [],
   "source": [
    "import requests\n",
    "import json\n",
    "\n",
    "# Customize these with your own information\n",
    "headers = {\n",
    "    'User-Agent': 'https://github.com/yuxin16',\n",
    "    'From': 'xin.yu@fu-berlin.de'\n",
    "}\n",
    "\n",
    "def get_ores_data(rev_id, headers):\n",
    "    \n",
    "    # Define the endpoint: This is an example!\n",
    "    endpoint = 'https://ores.wikimedia.org/v3/scores/{project}/?models={model}&revids={revids}'\n",
    "\n",
    "    params = {'project' : 'enwiki',\n",
    "              'model'   : 'articlequality',\n",
    "              'revids'  : rev_id\n",
    "              }\n",
    "\n",
    "    api_call = requests.get(endpoint.format(**params))\n",
    "    response = api_call.json()\n",
    "    data = json.dumps(response)\n",
    "\n",
    "    return data"
   ]
  },
  {
   "cell_type": "markdown",
   "metadata": {},
   "source": [
    "***\n",
    "\n",
    "#### Credits\n",
    "\n",
    "We release the notebooks under the [Creative Commons Attribution license (CC BY 4.0)](https://creativecommons.org/licenses/by/4.0/)."
   ]
  },
  {
   "cell_type": "markdown",
   "metadata": {},
   "source": [
    "***\n",
    "\n",
    "#### References\n",
    "\n",
    "<div id=\"References\"></div>\n",
    "-[1][ORES#Existing_article_assessment](https://www.mediawiki.org/wiki/ORES#Existing_article_assessment)\n"
   ]
  },
  {
   "cell_type": "code",
   "execution_count": null,
   "metadata": {},
   "outputs": [],
   "source": []
  }
 ],
 "metadata": {
  "kernelspec": {
   "display_name": "Python 3",
   "language": "python",
   "name": "python3"
  },
  "language_info": {
   "codemirror_mode": {
    "name": "ipython",
    "version": 3
   },
   "file_extension": ".py",
   "mimetype": "text/x-python",
   "name": "python",
   "nbconvert_exporter": "python",
   "pygments_lexer": "ipython3",
   "version": "3.8.3rc1"
  }
 },
 "nbformat": 4,
 "nbformat_minor": 4
}
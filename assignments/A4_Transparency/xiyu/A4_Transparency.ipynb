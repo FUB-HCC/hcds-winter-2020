{
 "cells": [
  {
   "cell_type": "markdown",
   "metadata": {},
   "source": [
    "Course Human-Centered Data Science ([HCDS](https://www.mi.fu-berlin.de/en/inf/groups/hcc/teaching/winter_term_2020_21/course_human_centered_data_science.html)) - Winter Term 2020/21 - [HCC](https://www.mi.fu-berlin.de/en/inf/groups/hcc/index.html) | [Freie Universität Berlin](https://www.fu-berlin.de/)\n",
    "\n",
    "***\n",
    "\n",
    "# A4 - Transparency\n",
    "Please use the follwing structure as a starting point. Extend and change the notebook according to your needs. This structure should help you to guide you through your analysis. This notebook is the foundation for condensing your results and writing your reflection in the end. So please read what we expect from you regarding the reflection first to structure your analysis accordingly."
   ]
  },
  {
   "cell_type": "markdown",
   "metadata": {},
   "source": [
    "## [1] General understanding\n",
    "> What is the model about and who is using it?\n",
    "\n",
    "Model5: articlequality\n",
    "\n",
    "* What is your model about?\n",
    "    Different from the model `draft quality`, the model `articlequality` is used for existing article assessment. \n",
    "    This model is used for periodically assessment on large wikipedias. This `articlequality` model is trained to \n",
    "    replicate the article quality assessment made by humans. The model \"has been used to help WikiProjects triage \n",
    "    re-assessment work and to explore the editing dynamics that lead to article quality improvements\".\n",
    "    [<sup>References</sup>](#refer-anchor) \n",
    "* Why is this model useful?\n",
    "* Who is using this model?\n",
    "* What are stakeholder or users of ORES?\n",
    "    researchers, Wikipedia insiders, personal users with interest in online knowledge community\n",
    "* Why is this model useful to wikipedia?\n",
    "* What applications/projects/... within wikipedia are using this model?"
   ]
  },
  {
   "cell_type": "markdown",
   "metadata": {},
   "source": [
    "## [2] API\n",
    "> What does the ORES API (v3) tell you about a specific model? What functions does the API offer?\n",
    "\n",
    "Use the API to investigate your model: https://ores.wikimedia.org/v3/#/. What do the follwing API calls do and what do they tell you about your model?\n",
    "\n",
    "* `https://ores.wikimedia.org/v3/scores/`\n",
    "    Different Wikipedia pages are supported by different models.\n",
    "* `https://ores.wikimedia.org/v3/scores/?model_info`\n",
    "    This API gives information \n",
    "* `https://ores.wikimedia.org/v3/scores/enwiki`\n",
    "* `https://ores.wikimedia.org/v3/scores/enwiki?models=YOURMODELNAME&model_info`\n",
    "* `https://ores.wikimedia.org/v3/scores/enwiki?models=YOURMODELNAME&revids=SOMEIDHERE`\n",
    "* `https://ores.wikimedia.org/v3/scores/enwiki/REVID/YOURMODELNAME?model_info`\n",
    "* `https://ores.wikimedia.org/v3/scores/enwiki/REVID/YOURMODELNAME?features=true`"
   ]
  },
  {
   "cell_type": "markdown",
   "metadata": {},
   "source": [
    "### Feature Injection\n",
    "Please check out the _feature injection_ feature of ORES: https://www.mediawiki.org/wiki/ORES/Feature_injection\n",
    "\n",
    "**Example:**\n",
    "\n",
    "     # Here you can get the perdiction for a revision, if the user would habe been anonymous:\n",
    "     https://ores.wikimedia.org/v3/scores/enwiki/991397091/damaging?features&feature.revision.user.is_anon=true"
   ]
  },
  {
   "cell_type": "code",
   "execution_count": 12,
   "metadata": {},
   "outputs": [
    {
     "name": "stdout",
     "output_type": "stream",
     "text": [
      "{'arwiki': {'models': {'articletopic': {'version': '1.2.0'}, 'damaging': {'version': '0.5.0'}, 'goodfaith': {'version': '0.5.0'}}}, 'bnwiki': {'models': {'reverted': {'version': '0.5.0'}}}, 'bswiki': {'models': {'damaging': {'version': '0.5.0'}, 'goodfaith': {'version': '0.5.0'}}}, 'cawiki': {'models': {'damaging': {'version': '0.5.1'}, 'goodfaith': {'version': '0.5.1'}}}, 'cswiki': {'models': {'articletopic': {'version': '1.2.0'}, 'damaging': {'version': '0.6.0'}, 'goodfaith': {'version': '0.6.0'}}}, 'dewiki': {'models': {'damaging': {'version': '0.5.1'}, 'goodfaith': {'version': '0.5.1'}}}, 'elwiki': {'models': {'reverted': {'version': '0.5.0'}}}, 'enwiki': {'models': {'articlequality': {'version': '0.8.2'}, 'articletopic': {'version': '1.2.0'}, 'damaging': {'version': '0.5.1'}, 'draftquality': {'version': '0.2.1'}, 'drafttopic': {'version': '1.2.0'}, 'goodfaith': {'version': '0.5.1'}, 'wp10': {'version': '0.8.2'}}}, 'enwiktionary': {'models': {'reverted': {'version': '0.5.0'}}}, 'eswiki': {'models': {'damaging': {'version': '0.5.0'}, 'goodfaith': {'version': '0.5.0'}}}, 'eswikibooks': {'models': {'damaging': {'version': '0.5.0'}, 'goodfaith': {'version': '0.5.0'}}}, 'eswikiquote': {'models': {'damaging': {'version': '0.5.0'}, 'goodfaith': {'version': '0.5.0'}}}, 'etwiki': {'models': {'damaging': {'version': '0.5.0'}, 'goodfaith': {'version': '0.5.0'}}}, 'euwiki': {'models': {'articlequality': {'version': '0.8.1'}, 'wp10': {'version': '0.8.1'}}}, 'fakewiki': {'models': {'damaging': {'version': '0.0.3'}, 'goodfaith': {'version': '0.0.3'}}}, 'fawiki': {'models': {'articlequality': {'version': '0.8.0'}, 'damaging': {'version': '0.5.0'}, 'goodfaith': {'version': '0.5.0'}, 'wp10': {'version': '0.8.0'}}}, 'fiwiki': {'models': {'damaging': {'version': '0.5.1'}, 'goodfaith': {'version': '0.5.1'}}}, 'frwiki': {'models': {'articlequality': {'version': '0.8.0'}, 'damaging': {'version': '0.5.0'}, 'goodfaith': {'version': '0.5.0'}, 'wp10': {'version': '0.8.0'}}}, 'frwikisource': {'models': {'pagelevel': {'version': '0.3.0'}}}, 'glwiki': {'models': {'articlequality': {'version': '0.8.0'}, 'reverted': {'version': '0.5.0'}}}, 'hewiki': {'models': {'damaging': {'version': '0.5.0'}, 'goodfaith': {'version': '0.5.0'}}}, 'hrwiki': {'models': {'reverted': {'version': '0.5.0'}}}, 'huwiki': {'models': {'damaging': {'version': '0.5.1'}, 'goodfaith': {'version': '0.5.1'}}}, 'idwiki': {'models': {'reverted': {'version': '0.5.0'}}}, 'iswiki': {'models': {'reverted': {'version': '0.5.0'}}}, 'itwiki': {'models': {'damaging': {'version': '0.5.0'}, 'goodfaith': {'version': '0.5.0'}}}, 'jawiki': {'models': {'damaging': {'version': '0.5.0'}, 'goodfaith': {'version': '0.5.0'}}}, 'kowiki': {'models': {'articletopic': {'version': '1.2.0'}, 'damaging': {'version': '0.5.0'}, 'goodfaith': {'version': '0.5.0'}}}, 'lvwiki': {'models': {'damaging': {'version': '0.5.0'}, 'goodfaith': {'version': '0.5.0'}}}, 'nlwiki': {'models': {'damaging': {'version': '0.5.1'}, 'goodfaith': {'version': '0.5.1'}}}, 'nowiki': {'models': {'damaging': {'version': '0.5.1'}, 'goodfaith': {'version': '0.5.1'}}}, 'plwiki': {'models': {'damaging': {'version': '0.5.0'}, 'goodfaith': {'version': '0.5.0'}}}, 'ptwiki': {'models': {'articlequality': {'version': '0.8.0'}, 'damaging': {'version': '0.5.1'}, 'draftquality': {'version': '0.2.1'}, 'goodfaith': {'version': '0.5.1'}}}, 'rowiki': {'models': {'damaging': {'version': '0.5.1'}, 'goodfaith': {'version': '0.5.1'}}}, 'ruwiki': {'models': {'articlequality': {'version': '0.8.0'}, 'damaging': {'version': '0.5.0'}, 'goodfaith': {'version': '0.5.0'}, 'wp10': {'version': '0.8.0'}}}, 'simplewiki': {'models': {'articlequality': {'version': '0.8.2'}, 'damaging': {'version': '0.5.1'}, 'draftquality': {'version': '0.2.1'}, 'goodfaith': {'version': '0.5.1'}, 'wp10': {'version': '0.8.2'}}}, 'sqwiki': {'models': {'damaging': {'version': '0.5.0'}, 'goodfaith': {'version': '0.5.0'}}}, 'srwiki': {'models': {'damaging': {'version': '0.5.1'}, 'goodfaith': {'version': '0.5.1'}}}, 'svwiki': {'models': {'articlequality': {'version': '0.8.0'}, 'damaging': {'version': '0.5.1'}, 'goodfaith': {'version': '0.5.1'}}}, 'tawiki': {'models': {'reverted': {'version': '0.5.0'}}}, 'testwiki': {'models': {'articlequality': {'version': '0.8.2'}, 'articletopic': {'version': '1.2.0'}, 'damaging': {'version': '0.0.3'}, 'draftquality': {'version': '0.2.1'}, 'drafttopic': {'version': '1.2.0'}, 'goodfaith': {'version': '0.0.3'}, 'reverted': {'version': '0.0.3'}, 'wp10': {'version': '0.8.2'}}}, 'trwiki': {'models': {'articlequality': {'version': '0.8.0'}, 'damaging': {'version': '0.5.1'}, 'goodfaith': {'version': '0.5.1'}, 'wp10': {'version': '0.8.0'}}}, 'ukwiki': {'models': {'articlequality': {'version': '0.8.0'}, 'damaging': {'version': '0.5.1'}, 'goodfaith': {'version': '0.5.1'}}}, 'viwiki': {'models': {'articletopic': {'version': '1.2.0'}, 'reverted': {'version': '0.5.0'}}}, 'wikidatawiki': {'models': {'damaging': {'version': '0.5.0'}, 'goodfaith': {'version': '0.5.0'}, 'itemquality': {'version': '0.5.0'}}}, 'zhwiki': {'models': {'damaging': {'version': '0.5.0'}, 'goodfaith': {'version': '0.5.0'}}}}\n"
     ]
    },
    {
     "data": {
      "text/plain": [
       "{'models': {'articlequality': {'version': '0.8.2'},\n",
       "  'articletopic': {'version': '1.2.0'},\n",
       "  'damaging': {'version': '0.5.1'},\n",
       "  'draftquality': {'version': '0.2.1'},\n",
       "  'drafttopic': {'version': '1.2.0'},\n",
       "  'goodfaith': {'version': '0.5.1'},\n",
       "  'wp10': {'version': '0.8.2'}}}"
      ]
     },
     "execution_count": 12,
     "metadata": {},
     "output_type": "execute_result"
    }
   ],
   "source": [
    "api_call = requests.get('https://ores.wikimedia.org/v3/scores/')\n",
    "scores = api_call.json()\n",
    "print(scores)\n"
   ]
  },
  {
   "cell_type": "code",
   "execution_count": 13,
   "metadata": {},
   "outputs": [
    {
     "data": {
      "text/plain": [
       "{'models': {'articlequality': {'version': '0.8.2'},\n",
       "  'articletopic': {'version': '1.2.0'},\n",
       "  'damaging': {'version': '0.5.1'},\n",
       "  'draftquality': {'version': '0.2.1'},\n",
       "  'drafttopic': {'version': '1.2.0'},\n",
       "  'goodfaith': {'version': '0.5.1'},\n",
       "  'wp10': {'version': '0.8.2'}}}"
      ]
     },
     "execution_count": 13,
     "metadata": {},
     "output_type": "execute_result"
    }
   ],
   "source": [
    "scores[\"enwiki\"]"
   ]
  },
  {
   "cell_type": "code",
   "execution_count": 5,
   "metadata": {},
   "outputs": [],
   "source": [
    "import pandas as pd"
   ]
  },
  {
   "cell_type": "code",
   "execution_count": 9,
   "metadata": {},
   "outputs": [
    {
     "name": "stdout",
     "output_type": "stream",
     "text": [
      "                                                   arwiki  \\\n",
      "models  {'articletopic': {'version': '1.2.0'}, 'damagi...   \n",
      "\n",
      "                                    bnwiki  \\\n",
      "models  {'reverted': {'version': '0.5.0'}}   \n",
      "\n",
      "                                                   bswiki  \\\n",
      "models  {'damaging': {'version': '0.5.0'}, 'goodfaith'...   \n",
      "\n",
      "                                                   cawiki  \\\n",
      "models  {'damaging': {'version': '0.5.1'}, 'goodfaith'...   \n",
      "\n",
      "                                                   cswiki  \\\n",
      "models  {'articletopic': {'version': '1.2.0'}, 'damagi...   \n",
      "\n",
      "                                                   dewiki  \\\n",
      "models  {'damaging': {'version': '0.5.1'}, 'goodfaith'...   \n",
      "\n",
      "                                    elwiki  \\\n",
      "models  {'reverted': {'version': '0.5.0'}}   \n",
      "\n",
      "                                                   enwiki  \\\n",
      "models  {'articlequality': {'version': '0.8.2'}, 'arti...   \n",
      "\n",
      "                              enwiktionary  \\\n",
      "models  {'reverted': {'version': '0.5.0'}}   \n",
      "\n",
      "                                                   eswiki  ...  \\\n",
      "models  {'damaging': {'version': '0.5.0'}, 'goodfaith'...  ...   \n",
      "\n",
      "                                                   sqwiki  \\\n",
      "models  {'damaging': {'version': '0.5.0'}, 'goodfaith'...   \n",
      "\n",
      "                                                   srwiki  \\\n",
      "models  {'damaging': {'version': '0.5.1'}, 'goodfaith'...   \n",
      "\n",
      "                                                   svwiki  \\\n",
      "models  {'articlequality': {'version': '0.8.0'}, 'dama...   \n",
      "\n",
      "                                    tawiki  \\\n",
      "models  {'reverted': {'version': '0.5.0'}}   \n",
      "\n",
      "                                                 testwiki  \\\n",
      "models  {'articlequality': {'version': '0.8.2'}, 'arti...   \n",
      "\n",
      "                                                   trwiki  \\\n",
      "models  {'articlequality': {'version': '0.8.0'}, 'dama...   \n",
      "\n",
      "                                                   ukwiki  \\\n",
      "models  {'articlequality': {'version': '0.8.0'}, 'dama...   \n",
      "\n",
      "                                                   viwiki  \\\n",
      "models  {'articletopic': {'version': '1.2.0'}, 'revert...   \n",
      "\n",
      "                                             wikidatawiki  \\\n",
      "models  {'damaging': {'version': '0.5.0'}, 'goodfaith'...   \n",
      "\n",
      "                                                   zhwiki  \n",
      "models  {'damaging': {'version': '0.5.0'}, 'goodfaith'...  \n",
      "\n",
      "[1 rows x 46 columns]\n"
     ]
    }
   ],
   "source": [
    "scores = pd.DataFrame.from_dict(scores)\n",
    "print(scores)"
   ]
  },
  {
   "cell_type": "code",
   "execution_count": 29,
   "metadata": {},
   "outputs": [],
   "source": [
    "def model_info(headers):\n",
    "    \n",
    "    # Define the endpoint: This is an example!\n",
    "    #endpoint = 'https://ores.wikimedia.org/v3/scores/{project}/?models={model}&=model_info'\n",
    "    endpoint = 'https://ores.wikimedia.org/v3/scores/enwiki?models={model}&=model_info'\n",
    "    params = {#'project' : 'enwiki',\n",
    "              'model'   : 'articlequality',\n",
    "              }\n",
    "\n",
    "    api_call = requests.get(endpoint.format(**params))\n",
    "    response = api_call.json()\n",
    "    #data = json.dumps(response)\n",
    "    return response\n"
   ]
  },
  {
   "cell_type": "code",
   "execution_count": 30,
   "metadata": {},
   "outputs": [
    {
     "name": "stdout",
     "output_type": "stream",
     "text": [
      "{'enwiki': {'models': {'articlequality': {'version': '0.8.2'}}}}\n"
     ]
    }
   ],
   "source": [
    "model_info = model_info(headers)\n",
    "print(model_info)"
   ]
  },
  {
   "cell_type": "markdown",
   "metadata": {},
   "source": [
    "## [3] ML algorithm and training/test data\n",
    "> Which machine learning model is underlying and what data is used to build the model?"
   ]
  },
  {
   "cell_type": "markdown",
   "metadata": {},
   "source": [
    "* Check out `model_info` in detail.\n",
    "* What does it tell you about the model performance?\n",
    "* You can visualise and explain your results regarding model performance.\n",
    "* What data was used to train and test the model?\n",
    "* What machine learning algorithm is your model using? Please explain briefly."
   ]
  },
  {
   "cell_type": "markdown",
   "metadata": {},
   "source": [
    "## [4] Features\n",
    "> Which features are used and which have the greatest influence on the prediction?\n",
    "\n",
    "* What features is your model using?\n",
    "* What do they mean?\n",
    "* Which is the most important features?\n",
    "* `https://ores.wikimedia.org/v3/scores/enwiki/991379667/articlequality?features=true`\n",
    "* Are all models (in all languages of wikipedia), are they using the same features?"
   ]
  },
  {
   "cell_type": "markdown",
   "metadata": {},
   "source": [
    "## Sample code"
   ]
  },
  {
   "cell_type": "code",
   "execution_count": 2,
   "metadata": {},
   "outputs": [],
   "source": [
    "import requests\n",
    "import json\n",
    "\n",
    "# Customize these with your own information\n",
    "headers = {\n",
    "    'User-Agent': 'https://github.com/yuxin16',\n",
    "    'From': 'xin.yu@fu-berlin.de'\n",
    "}\n",
    "\n",
    "def get_ores_data(rev_id, headers):\n",
    "    \n",
    "    # Define the endpoint: This is an example!\n",
    "    endpoint = 'https://ores.wikimedia.org/v3/scores/{project}/?models={model}&revids={revids}'\n",
    "\n",
    "    params = {'project' : 'enwiki',\n",
    "              'model'   : 'articlequality',\n",
    "              'revids'  : rev_id\n",
    "              }\n",
    "\n",
    "    api_call = requests.get(endpoint.format(**params))\n",
    "    response = api_call.json()\n",
    "    data = json.dumps(response)\n",
    "\n",
    "    return data"
   ]
  },
  {
   "cell_type": "markdown",
   "metadata": {},
   "source": [
    "***\n",
    "\n",
    "#### Credits\n",
    "\n",
    "We release the notebooks under the [Creative Commons Attribution license (CC BY 4.0)](https://creativecommons.org/licenses/by/4.0/)."
   ]
  },
  {
   "cell_type": "markdown",
   "metadata": {},
   "source": [
    "***\n",
    "\n",
    "#### References\n",
    "\n",
    "<div id=\"References\"></div>\n",
    "-[1][ORES#Existing_article_assessment](https://www.mediawiki.org/wiki/ORES#Existing_article_assessment)\n"
   ]
  },
  {
   "cell_type": "code",
   "execution_count": null,
   "metadata": {},
   "outputs": [],
   "source": []
  }
 ],
 "metadata": {
  "kernelspec": {
   "display_name": "Python 3",
   "language": "python",
   "name": "python3"
  },
  "language_info": {
   "codemirror_mode": {
    "name": "ipython",
    "version": 3
   },
   "file_extension": ".py",
   "mimetype": "text/x-python",
   "name": "python",
   "nbconvert_exporter": "python",
   "pygments_lexer": "ipython3",
   "version": "3.8.3rc1"
  }
 },
 "nbformat": 4,
 "nbformat_minor": 4
}

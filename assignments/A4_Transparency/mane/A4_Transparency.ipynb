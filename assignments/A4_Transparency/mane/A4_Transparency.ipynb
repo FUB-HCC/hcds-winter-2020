{
 "cells": [
  {
   "cell_type": "markdown",
   "metadata": {},
   "source": [
    "Course Human-Centered Data Science ([HCDS](https://www.mi.fu-berlin.de/en/inf/groups/hcc/teaching/winter_term_2020_21/course_human_centered_data_science.html)) - Winter Term 2020/21 - [HCC](https://www.mi.fu-berlin.de/en/inf/groups/hcc/index.html) | [Freie Universität Berlin](https://www.fu-berlin.de/)\n",
    "\n",
    "***\n",
    "\n",
    "# A4 - Transparency\n",
    "Please use the follwing structure as a starting point. Extend and change the notebook according to your needs. This structure should help you to guide you through your analysis. This notebook is the foundation for condensing your results and writing your reflection in the end. So please read what we expect from you regarding the reflection first to structure your analysis accordingly."
   ]
  },
  {
   "cell_type": "markdown",
   "metadata": {},
   "source": [
    "## [1] General understanding\n",
    "> What is the model about and who is using it?\n",
    "\n",
    "* What is your model about?\n",
    "* Why is this model useful?\n",
    "* Who is using this model?\n",
    "* What are stakeholder or users of ORES?\n",
    "* Why is this model useful to wikipedia?\n",
    "* What applications/projects/... within wikipedia are using this model?"
   ]
  },
  {
   "cell_type": "markdown",
   "metadata": {},
   "source": [
    "## [2] API\n",
    "> What does the ORES API (v3) tell you about a specific model? What functions does the API offer?\n",
    "\n",
    "Use the API to investigate your model: https://ores.wikimedia.org/v3/#/. What do the follwing API calls do and what do they tell you about your model?\n",
    "\n",
    "* `https://ores.wikimedia.org/v3/scores/`\n",
    "* `https://ores.wikimedia.org/v3/scores/?model_info`\n",
    "* `https://ores.wikimedia.org/v3/scores/enwiki`\n",
    "* `https://ores.wikimedia.org/v3/scores/enwiki?models=YOURMODELNAME&model_info`\n",
    "* `https://ores.wikimedia.org/v3/scores/enwiki?models=YOURMODELNAME&revids=SOMEIDHERE`\n",
    "* `https://ores.wikimedia.org/v3/scores/enwiki/REVID/YOURMODELNAME?model_info`\n",
    "* `https://ores.wikimedia.org/v3/scores/enwiki/REVID/YOURMODELNAME?features=true`"
   ]
  },
  {
   "cell_type": "markdown",
   "metadata": {},
   "source": [
    "### Feature Injection\n",
    "Please check out the _feature injection_ feature of ORES: https://www.mediawiki.org/wiki/ORES/Feature_injection\n",
    "\n",
    "**Example:**\n",
    "\n",
    "     # Here you can get the perdiction for a revision, if the user would habe been anonymous:\n",
    "     https://ores.wikimedia.org/v3/scores/enwiki/991397091/damaging?features&feature.revision.user.is_anon=true"
   ]
  },
  {
   "cell_type": "markdown",
   "metadata": {},
   "source": [
    "## [3] ML algorithm and training/test data\n",
    "> Which machine learning model is underlying and what data is used to build the model?"
   ]
  },
  {
   "cell_type": "markdown",
   "metadata": {},
   "source": [
    "* Check out `model_info` in detail.\n",
    "* What does it tell you about the model performance?\n",
    "* You can visualise and explain your results regarding model performance.\n",
    "* What data was used to train and test the model?\n",
    "* What machine learning algorithm is your model using? Please explain briefly."
   ]
  },
  {
   "cell_type": "code",
   "execution_count": 17,
   "metadata": {},
   "outputs": [
    {
     "data": {
      "text/plain": [
       "{'enwiki': {'models': {'damaging': {'environment': {'machine': 'x86_64',\n",
       "     'platform': 'Linux-4.9.0-11-amd64-x86_64-with-debian-9.12',\n",
       "     'processor': '',\n",
       "     'python_branch': '',\n",
       "     'python_build': ['default', 'Sep 27 2018 17:25:39'],\n",
       "     'python_compiler': 'GCC 6.3.0 20170516',\n",
       "     'python_implementation': 'CPython',\n",
       "     'python_revision': '',\n",
       "     'python_version': '3.5.3',\n",
       "     'release': '4.9.0-11-amd64',\n",
       "     'revscoring_version': '2.8.0',\n",
       "     'system': 'Linux',\n",
       "     'version': '#1 SMP Debian 4.9.189-3+deb9u1 (2019-09-20)'},\n",
       "    'params': {'ccp_alpha': 0.0,\n",
       "     'center': True,\n",
       "     'criterion': 'friedman_mse',\n",
       "     'init': None,\n",
       "     'label_weights': {'true': 10},\n",
       "     'labels': [True, False],\n",
       "     'learning_rate': 0.01,\n",
       "     'loss': 'deviance',\n",
       "     'max_depth': 7,\n",
       "     'max_features': 'log2',\n",
       "     'max_leaf_nodes': None,\n",
       "     'min_impurity_decrease': 0.0,\n",
       "     'min_impurity_split': None,\n",
       "     'min_samples_leaf': 1,\n",
       "     'min_samples_split': 2,\n",
       "     'min_weight_fraction_leaf': 0.0,\n",
       "     'multilabel': False,\n",
       "     'n_estimators': 700,\n",
       "     'n_iter_no_change': None,\n",
       "     'population_rates': None,\n",
       "     'presort': 'deprecated',\n",
       "     'random_state': None,\n",
       "     'scale': True,\n",
       "     'subsample': 1.0,\n",
       "     'tol': 0.0001,\n",
       "     'validation_fraction': 0.1,\n",
       "     'verbose': 0,\n",
       "     'warm_start': False},\n",
       "    'score_schema': {'properties': {'prediction': {'description': 'The most likely label predicted by the estimator',\n",
       "       'type': 'boolean'},\n",
       "      'probability': {'description': 'A mapping of probabilities onto each of the potential output labels',\n",
       "       'properties': {'false': {'type': 'number'}, 'true': {'type': 'number'}},\n",
       "       'type': 'object'}},\n",
       "     'title': 'Scikit learn-based classifier score with probability',\n",
       "     'type': 'object'},\n",
       "    'statistics': {'!f1': {'labels': {'false': 0.433, 'true': 0.973},\n",
       "      'macro': 0.703,\n",
       "      'micro': 0.451},\n",
       "     '!precision': {'labels': {'false': 0.347, 'true': 0.985},\n",
       "      'macro': 0.666,\n",
       "      'micro': 0.369},\n",
       "     '!recall': {'labels': {'false': 0.574, 'true': 0.962},\n",
       "      'macro': 0.768,\n",
       "      'micro': 0.588},\n",
       "     'accuracy': {'labels': {'false': 0.949, 'true': 0.949},\n",
       "      'macro': 0.949,\n",
       "      'micro': 0.949},\n",
       "     'counts': {'labels': {'false': 18585, 'true': 747},\n",
       "      'n': 19332,\n",
       "      'predictions': {'false': {'false': 17875, 'true': 710},\n",
       "       'true': {'false': 318, 'true': 429}}},\n",
       "     'f1': {'labels': {'false': 0.973, 'true': 0.433},\n",
       "      'macro': 0.703,\n",
       "      'micro': 0.955},\n",
       "     'filter_rate': {'labels': {'false': 0.057, 'true': 0.943},\n",
       "      'macro': 0.5,\n",
       "      'micro': 0.087},\n",
       "     'fpr': {'labels': {'false': 0.426, 'true': 0.038},\n",
       "      'macro': 0.232,\n",
       "      'micro': 0.412},\n",
       "     'match_rate': {'labels': {'false': 0.943, 'true': 0.057},\n",
       "      'macro': 0.5,\n",
       "      'micro': 0.913},\n",
       "     'pr_auc': {'labels': {'false': 0.997, 'true': 0.448},\n",
       "      'macro': 0.722,\n",
       "      'micro': 0.978},\n",
       "     'precision': {'labels': {'false': 0.985, 'true': 0.347},\n",
       "      'macro': 0.666,\n",
       "      'micro': 0.963},\n",
       "     'rates': {'population': {'false': 0.966, 'true': 0.034},\n",
       "      'sample': {'false': 0.961, 'true': 0.039}},\n",
       "     'recall': {'labels': {'false': 0.962, 'true': 0.574},\n",
       "      'macro': 0.768,\n",
       "      'micro': 0.949},\n",
       "     'roc_auc': {'labels': {'false': 0.924, 'true': 0.924},\n",
       "      'macro': 0.924,\n",
       "      'micro': 0.924}},\n",
       "    'type': 'GradientBoosting',\n",
       "    'version': '0.5.1'}}}}"
      ]
     },
     "execution_count": 17,
     "metadata": {},
     "output_type": "execute_result"
    }
   ],
   "source": [
    "import requests\n",
    "import json\n",
    "\n",
    "endpoint = 'https://ores.wikimedia.org/v3/scores/enwiki?models={model}&model_info'\n",
    "\n",
    "params = {\n",
    "    'model'   : 'damaging'\n",
    "}\n",
    "\n",
    "api_call = requests.get(endpoint.format(**params))\n",
    "response = api_call.json()\n",
    "response"
   ]
  },
  {
   "cell_type": "markdown",
   "metadata": {},
   "source": [
    "* What does it tell you about the model performance?\n",
    "* You can visualise and explain your results regarding model performance."
   ]
  },
  {
   "cell_type": "code",
   "execution_count": 12,
   "metadata": {},
   "outputs": [
    {
     "data": {
      "text/plain": [
       "{'!f1': {'labels': {'false': 0.433, 'true': 0.973},\n",
       "  'macro': 0.703,\n",
       "  'micro': 0.451},\n",
       " '!precision': {'labels': {'false': 0.347, 'true': 0.985},\n",
       "  'macro': 0.666,\n",
       "  'micro': 0.369},\n",
       " '!recall': {'labels': {'false': 0.574, 'true': 0.962},\n",
       "  'macro': 0.768,\n",
       "  'micro': 0.588},\n",
       " 'accuracy': {'labels': {'false': 0.949, 'true': 0.949},\n",
       "  'macro': 0.949,\n",
       "  'micro': 0.949},\n",
       " 'counts': {'labels': {'false': 18585, 'true': 747},\n",
       "  'n': 19332,\n",
       "  'predictions': {'false': {'false': 17875, 'true': 710},\n",
       "   'true': {'false': 318, 'true': 429}}},\n",
       " 'f1': {'labels': {'false': 0.973, 'true': 0.433},\n",
       "  'macro': 0.703,\n",
       "  'micro': 0.955},\n",
       " 'filter_rate': {'labels': {'false': 0.057, 'true': 0.943},\n",
       "  'macro': 0.5,\n",
       "  'micro': 0.087},\n",
       " 'fpr': {'labels': {'false': 0.426, 'true': 0.038},\n",
       "  'macro': 0.232,\n",
       "  'micro': 0.412},\n",
       " 'match_rate': {'labels': {'false': 0.943, 'true': 0.057},\n",
       "  'macro': 0.5,\n",
       "  'micro': 0.913},\n",
       " 'pr_auc': {'labels': {'false': 0.997, 'true': 0.448},\n",
       "  'macro': 0.722,\n",
       "  'micro': 0.978},\n",
       " 'precision': {'labels': {'false': 0.985, 'true': 0.347},\n",
       "  'macro': 0.666,\n",
       "  'micro': 0.963},\n",
       " 'rates': {'population': {'false': 0.966, 'true': 0.034},\n",
       "  'sample': {'false': 0.961, 'true': 0.039}},\n",
       " 'recall': {'labels': {'false': 0.962, 'true': 0.574},\n",
       "  'macro': 0.768,\n",
       "  'micro': 0.949},\n",
       " 'roc_auc': {'labels': {'false': 0.924, 'true': 0.924},\n",
       "  'macro': 0.924,\n",
       "  'micro': 0.924}}"
      ]
     },
     "execution_count": 12,
     "metadata": {},
     "output_type": "execute_result"
    }
   ],
   "source": [
    "response['enwiki']['models']['damaging']['statistics']"
   ]
  },
  {
   "cell_type": "markdown",
   "metadata": {},
   "source": [
    "* What data was used to train and test the model?\n",
    "\n",
    "> Advanced support\n",
    ">\n",
    "> Rather than assuming, we can ask editors to train ORES which edits are in-fact damaging and which edits look like they were saved in goodfaith. This requires additional work on the part of volunteers in the community, but it affords a more accurate and nuanced prediction with regards to the quality of an edit. Many tools will only function when advanced support is available for a target wiki.\n",
    "> \n",
    "> damaging – predicts whether or not an edit causes damage\n",
    "> \n",
    "> goodfaith – predicts whether an edit was saved in good-faith\n",
    "\n",
    "Check: \n",
    "* [Wiki labels](https://meta.wikimedia.org/wiki/Wiki_labels)\n",
    "* [damaging](https://meta.wikimedia.org/wiki/Objective_Revision_Evaluation_Service/damaging)\n",
    "* [Edit quality](https://en.wikipedia.org/wiki/Wikipedia:Labels/Edit_quality)\n",
    "\n",
    "\n",
    "> This model was trained on human judgement.\n",
    "\n",
    "> We'll be using WP:Labels to review 6334 randomly sampled edits as \"damaging\" and/or \"good-faith\" in order to train classifiers for mw:ORES. "
   ]
  },
  {
   "cell_type": "markdown",
   "metadata": {},
   "source": [
    "* What machine learning algorithm is your model using? Please explain briefly.\n",
    "\n",
    "GradientBoosting with criterion friedman_mse an dloss function deviance. score_schema: \n",
    "title: Scikit learn-based classifier score with probability\n",
    "prediction: The most likely label predicted by the estimator', \n",
    "probability: A mapping of probabilities onto each of the potential output labels"
   ]
  },
  {
   "cell_type": "code",
   "execution_count": 14,
   "metadata": {},
   "outputs": [
    {
     "data": {
      "text/plain": [
       "'GradientBoosting'"
      ]
     },
     "execution_count": 14,
     "metadata": {},
     "output_type": "execute_result"
    }
   ],
   "source": [
    "response['enwiki']['models']['damaging']['type']"
   ]
  },
  {
   "cell_type": "code",
   "execution_count": 16,
   "metadata": {},
   "outputs": [
    {
     "data": {
      "text/plain": [
       "'friedman_mse'"
      ]
     },
     "execution_count": 16,
     "metadata": {},
     "output_type": "execute_result"
    }
   ],
   "source": [
    "response['enwiki']['models']['damaging']['params']['criterion']"
   ]
  },
  {
   "cell_type": "code",
   "execution_count": 19,
   "metadata": {},
   "outputs": [
    {
     "data": {
      "text/plain": [
       "'deviance'"
      ]
     },
     "execution_count": 19,
     "metadata": {},
     "output_type": "execute_result"
    }
   ],
   "source": [
    "response['enwiki']['models']['damaging']['params']['loss']"
   ]
  },
  {
   "cell_type": "code",
   "execution_count": 18,
   "metadata": {},
   "outputs": [
    {
     "data": {
      "text/plain": [
       "{'properties': {'prediction': {'description': 'The most likely label predicted by the estimator',\n",
       "   'type': 'boolean'},\n",
       "  'probability': {'description': 'A mapping of probabilities onto each of the potential output labels',\n",
       "   'properties': {'false': {'type': 'number'}, 'true': {'type': 'number'}},\n",
       "   'type': 'object'}},\n",
       " 'title': 'Scikit learn-based classifier score with probability',\n",
       " 'type': 'object'}"
      ]
     },
     "execution_count": 18,
     "metadata": {},
     "output_type": "execute_result"
    }
   ],
   "source": [
    "response['enwiki']['models']['damaging']['score_schema']"
   ]
  },
  {
   "cell_type": "markdown",
   "metadata": {},
   "source": [
    "## [4] Features\n",
    "> Which features are used and which have the greatest influence on the prediction?\n",
    "\n",
    "* What features is your model using?\n",
    "* What do they mean?\n",
    "* Which is the most important features?\n",
    "* `https://ores.wikimedia.org/v3/scores/enwiki/991379667/articlequality?features=true`\n",
    "* Are all models (in all languages of wikipedia), are they using the same features?"
   ]
  },
  {
   "cell_type": "markdown",
   "metadata": {},
   "source": [
    "## Sample code"
   ]
  },
  {
   "cell_type": "code",
   "execution_count": 20,
   "metadata": {},
   "outputs": [],
   "source": [
    "import requests\n",
    "import json\n",
    "\n",
    "# Customize these with your own information\n",
    "headers = {\n",
    "    'User-Agent': 'https://github.com/YOUR-USER-NAME',\n",
    "    'From': 'YOUR-EMAIL@fu-berlin.de'\n",
    "}\n",
    "\n",
    "def get_ores_data(rev_id, headers):\n",
    "    \n",
    "    # Define the endpoint: This is an example!\n",
    "    endpoint = 'https://ores.wikimedia.org/v3/scores/{project}/?models={model}&revids={revids}'\n",
    "\n",
    "    params = {'project' : 'enwiki',\n",
    "              'model'   : 'YOUMODELNAME',\n",
    "              'revids'  : rev_id\n",
    "              }\n",
    "\n",
    "    api_call = requests.get(endpoint.format(**params))\n",
    "    response = api_call.json()\n",
    "    data = json.dumps(response)\n",
    "\n",
    "    return data"
   ]
  },
  {
   "cell_type": "markdown",
   "metadata": {},
   "source": [
    "***\n",
    "\n",
    "#### Credits\n",
    "\n",
    "We release the notebooks under the [Creative Commons Attribution license (CC BY 4.0)](https://creativecommons.org/licenses/by/4.0/)."
   ]
  },
  {
   "cell_type": "code",
   "execution_count": null,
   "metadata": {},
   "outputs": [],
   "source": []
  }
 ],
 "metadata": {
  "kernelspec": {
   "display_name": "Python 3",
   "language": "python",
   "name": "python3"
  },
  "language_info": {
   "codemirror_mode": {
    "name": "ipython",
    "version": 3
   },
   "file_extension": ".py",
   "mimetype": "text/x-python",
   "name": "python",
   "nbconvert_exporter": "python",
   "pygments_lexer": "ipython3",
   "version": "3.8.5"
  }
 },
 "nbformat": 4,
 "nbformat_minor": 4
}

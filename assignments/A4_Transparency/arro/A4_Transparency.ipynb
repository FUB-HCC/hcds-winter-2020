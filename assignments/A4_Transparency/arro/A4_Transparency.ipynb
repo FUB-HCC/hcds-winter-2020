{
 "cells": [
  {
   "cell_type": "markdown",
   "metadata": {},
   "source": [
    "Course Human-Centered Data Science ([HCDS](https://www.mi.fu-berlin.de/en/inf/groups/hcc/teaching/winter_term_2020_21/course_human_centered_data_science.html)) - Winter Term 2020/21 - [HCC](https://www.mi.fu-berlin.de/en/inf/groups/hcc/index.html) | [Freie Universität Berlin](https://www.fu-berlin.de/)\n",
    "\n",
    "***\n",
    "\n",
    "# A4 - Transparency\n",
    "Please use the follwing structure as a starting point. Extend and change the notebook according to your needs. This structure should help you to guide you through your analysis. This notebook is the foundation for condensing your results and writing your reflection in the end. So please read what we expect from you regarding the reflection first to structure your analysis accordingly."
   ]
  },
  {
   "cell_type": "markdown",
   "metadata": {},
   "source": [
    "## [1] General understanding\n",
    "> What is the model about and who is using it?\n",
    "\n",
    "* What is your model about?\n",
    "\n",
    "SUGGESTION: ORES is web service, based on machine learning, which was created to help assess the quality of wikipedia articles. The ORES model predicts two parameter: “edit quality” and “article quality”. For predicting Article quality, ORES offers basic and advanced support. The goodfaith model is part of the advanced support. It identifies whether an article was saved in goodfaith.\n",
    "\n",
    "\n",
    "In general, the `good-faith` model supports the ORES efforts to have an automated and transparent quality control mechanism for revisions on Wikipedia articles.\n",
    "Like the whole ORES project, this model is also publicly available under the [Creative Commons Zero public domain dedication](https://creativecommons.org/publicdomain/zero/1.0/) license.\n",
    "This model predicts if an edit on an article was probably made in good-faith or not.\n",
    "\n",
    "* Why is this model useful?\n",
    "\n",
    "SUGGESTION: The model is useful for distinguishing between edits which are truly damaging and edits which seem to have been saved in goodfaith. It was trained on human judgement to separate edits that are done by spammers or vandals from those who are inexperienced or first time contributors.\n",
    "With this, every `good-faith` newcomer can then be directed to an appropriate mentoring place.\n",
    "\n",
    "\n",
    " It was trained on human judgement to separate edits that are done by spammers or vandals from those who are inexperienced or first time contributors.\n",
    "With this, every `good-faith` newcomer can then be directed to an appropriate mentoring place.\n",
    "\n",
    "\n",
    "* Who is using this model?\n",
    "\n",
    "Editors,\n",
    "WikiProject maintainers and\n",
    "Wikipedian mentors to observe the activity of newly registered users.\n",
    "\n",
    "\n",
    "* What are stakeholder or users of ORES?\n",
    "\n",
    "Editors, Developers from the 'Wiki Artificial Intelligence' team, team members from the Wikimedia Scoring Platform, ...\n",
    "\n",
    "* Why is this model useful to wikipedia?\n",
    "\n",
    "After Wikimedia introduced automated article reviews, they saw a drop in edit requests from newly registered members.\n",
    "The automated scoring system saw their edits not living up to wikimedias standards of an acceptable edit. The newcomers just didn't know what classifies a good article edit. The `good-faith` model was introduced to detect when a user attempts to edit an article with good intentions, so he/she can then be directed to an appropriate mentoring place.\n",
    "\n",
    "* What applications/projects/... within wikipedia are using this model?\n",
    "\n"
   ]
  },
  {
   "cell_type": "markdown",
   "metadata": {},
   "source": [
    "## [2] API\n",
    "> What does the ORES API (v3) tell you about a specific model? What functions does the API offer?\n",
    "\n",
    "Use the API to investigate your model: https://ores.wikimedia.org/v3/#/. What do the follwing API calls do and what do they tell you about your model?\n",
    "\n",
    "* `https://ores.wikimedia.org/v3/scores/`\n",
    "* `https://ores.wikimedia.org/v3/scores/?model_info`\n",
    "* `https://ores.wikimedia.org/v3/scores/enwiki`\n",
    "* `https://ores.wikimedia.org/v3/scores/enwiki?models=YOURMODELNAME&model_info`\n",
    "* `https://ores.wikimedia.org/v3/scores/enwiki?models=YOURMODELNAME&revids=SOMEIDHERE`\n",
    "* `https://ores.wikimedia.org/v3/scores/enwiki/REVID/YOURMODELNAME?model_info`\n",
    "* `https://ores.wikimedia.org/v3/scores/enwiki/REVID/YOURMODELNAME?features=true`"
   ]
  },
  {
   "cell_type": "markdown",
   "metadata": {},
   "source": [
    "### Feature Injection\n",
    "Please check out the _feature injection_ feature of ORES: https://www.mediawiki.org/wiki/ORES/Feature_injection\n",
    "\n",
    "**Example:**\n",
    "\n",
    "     # Here you can get the perdiction for a revision, if the user would habe been anonymous:\n",
    "     https://ores.wikimedia.org/v3/scores/enwiki/991397091/damaging?features&feature.revision.user.is_anon=true"
   ]
  },
  {
   "cell_type": "code",
   "execution_count": 7,
   "metadata": {},
   "outputs": [],
   "source": [
    "import requests\n",
    "import json\n",
    "\n",
    "# Customize these with your own information\n",
    "headers = {\n",
    "    'User-Agent': 'https://github.com/Arne117',\n",
    "    'From': 'arner92@fu-berlin.de'\n",
    "}\n",
    "\n",
    "def get_ores_model_data(rev_id):\n",
    "    \n",
    "    #endpoint = 'https://ores.wikimedia.org/v3/scores/{project}/?models={model}&revids={revids}'\n",
    "    endpoint = 'https://ores.wikimedia.org/v3/scores/{project}/?models={model}'\n",
    "\n",
    "    params = {'project' : 'enwiki',\n",
    "              'model'   : 'goodfaith',\n",
    "              'revids'  : rev_id\n",
    "              }\n",
    "\n",
    "    api_call = requests.get(endpoint.format(**params))\n",
    "    response = api_call.json()\n",
    "    data = json.dumps(response)\n",
    "\n",
    "    return data"
   ]
  },
  {
   "cell_type": "code",
   "execution_count": 2,
   "metadata": {},
   "outputs": [],
   "source": [
    "# https://ores.wikimedia.org/v3/scores/"
   ]
  },
  {
   "cell_type": "code",
   "execution_count": 3,
   "metadata": {},
   "outputs": [],
   "source": [
    "# https://ores.wikimedia.org/v3/scores/?model_info"
   ]
  },
  {
   "cell_type": "code",
   "execution_count": 4,
   "metadata": {},
   "outputs": [],
   "source": [
    "# https://ores.wikimedia.org/v3/scores/enwiki"
   ]
  },
  {
   "cell_type": "code",
   "execution_count": 8,
   "metadata": {},
   "outputs": [
    {
     "data": {
      "text/plain": [
       "'{\"enwiki\": {\"models\": {\"goodfaith\": {\"version\": \"0.5.1\"}}}}'"
      ]
     },
     "execution_count": 8,
     "metadata": {},
     "output_type": "execute_result"
    }
   ],
   "source": [
    "# https://ores.wikimedia.org/v3/scores/enwiki?models=goodfaith&model_info"
   ]
  },
  {
   "cell_type": "code",
   "execution_count": null,
   "metadata": {},
   "outputs": [],
   "source": [
    "# https://ores.wikimedia.org/v3/scores/enwiki?models=goodfaith&revids=SOMEIDHERE"
   ]
  },
  {
   "cell_type": "code",
   "execution_count": null,
   "metadata": {},
   "outputs": [],
   "source": [
    "# https://ores.wikimedia.org/v3/scores/enwiki/REVID/goodfaith?model_info"
   ]
  },
  {
   "cell_type": "code",
   "execution_count": null,
   "metadata": {},
   "outputs": [],
   "source": [
    "# https://ores.wikimedia.org/v3/scores/enwiki/REVID/goodfaith?features=true"
   ]
  },
  {
   "cell_type": "markdown",
   "metadata": {},
   "source": [
    "## [3] ML algorithm and training/test data\n",
    "> Which machine learning model is underlying and what data is used to build the model?"
   ]
  },
  {
   "cell_type": "markdown",
   "metadata": {},
   "source": [
    "* Check out `model_info` in detail.\n",
    "* What does it tell you about the model performance?\n",
    "* You can visualise and explain your results regarding model performance.\n",
    "* What data was used to train and test the model?\n",
    "* What machine learning algorithm is your model using? Please explain briefly."
   ]
  },
  {
   "cell_type": "markdown",
   "metadata": {},
   "source": [
    "## [4] Features\n",
    "> Which features are used and which have the greatest influence on the prediction?\n",
    "\n",
    "* What features is your model using?\n",
    "* What do they mean?\n",
    "* Which is the most important features?\n",
    "* `https://ores.wikimedia.org/v3/scores/enwiki/991379667/articlequality?features=true`\n",
    "* Are all models (in all languages of wikipedia), are they using the same features?"
   ]
  },
  {
   "cell_type": "markdown",
   "metadata": {},
   "source": [
    "## Sample code"
   ]
  },
  {
   "cell_type": "markdown",
   "metadata": {},
   "source": [
    "***\n",
    "\n",
    "#### Credits\n",
    "\n",
    "We release the notebooks under the [Creative Commons Attribution license (CC BY 4.0)](https://creativecommons.org/licenses/by/4.0/)."
   ]
  },
  {
   "cell_type": "code",
   "execution_count": null,
   "metadata": {},
   "outputs": [],
   "source": []
  }
 ],
 "metadata": {
  "kernelspec": {
   "display_name": "Python 3",
   "language": "python",
   "name": "python3"
  },
  "language_info": {
   "codemirror_mode": {
    "name": "ipython",
    "version": 3
   },
   "file_extension": ".py",
   "mimetype": "text/x-python",
   "name": "python",
   "nbconvert_exporter": "python",
   "pygments_lexer": "ipython3",
   "version": "3.9.0"
  }
 },
 "nbformat": 4,
 "nbformat_minor": 4
}

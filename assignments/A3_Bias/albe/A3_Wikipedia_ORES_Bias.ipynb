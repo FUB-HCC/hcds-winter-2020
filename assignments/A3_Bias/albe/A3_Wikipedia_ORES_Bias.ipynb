{
 "cells": [
  {
   "cell_type": "markdown",
   "metadata": {},
   "source": [
    "Course Human-Centered Data Science ([HCDS](https://www.mi.fu-berlin.de/en/inf/groups/hcc/teaching/winter_term_2020_21/course_human_centered_data_science.html)) - Winter Term 2020/21 - [HCC](https://www.mi.fu-berlin.de/en/inf/groups/hcc/index.html) | [Freie Universität Berlin](https://www.fu-berlin.de/)\n",
    "\n",
    "***\n",
    "\n",
    "# A2 - Wikipedia, ORES, and Bias in Data\n",
    "Please follow the reproducability workflow as practiced during the last exercise."
   ]
  },
  {
   "cell_type": "markdown",
   "metadata": {},
   "source": [
    "## Step 1⃣ | Data acquisition\n",
    "\n",
    "You will use two data sources: (1) Wikipedia articles of politicians and (2) world population data.\n",
    "\n",
    "**Wikipedia articles -**\n",
    "The Wikipedia articles can be found on [Figshare](https://figshare.com/articles/Untitled_Item/5513449). It contains politiciaans by country from the English-language wikipedia. Please read through the documentation for this repository, then download and unzip it to extract the data file, which is called `page_data.csv`.\n",
    "\n",
    "**Population data -**\n",
    "The population data is available in `CSV` format in the `_data` folder. The file is named `export_2019.csv`. This dataset is drawn from the [world population datasheet](https://www.prb.org/international/indicator/population/table/) published by the Population Reference Bureau (downloaded 2020-11-13 10:14 AM). I have edited the dataset to make it easier to use in this assignment. The population per country is given in millions!"
   ]
  },
  {
   "cell_type": "code",
   "execution_count": 304,
   "metadata": {},
   "outputs": [],
   "source": [
    "import pandas as pd\n",
    "import numpy as np\n",
    "import os\n",
    "import os.path, time\n",
    "from os import makedirs, path\n",
    "import altair as alt"
   ]
  },
  {
   "cell_type": "markdown",
   "metadata": {},
   "source": [
    "## Step 2⃣ | Data processing and cleaning\n",
    "The data in `page_data.csv` contain some rows that you will need to filter out. It contains some page names that start with the string `\"Template:\"`. These pages are not Wikipedia articles, and should not be included in your analysis. The data in `export_2019.csv` does not need any cleaning.\n",
    "\n",
    "***\n",
    "\n",
    "| | `page_data.csv` | | |\n",
    "|-|------|---------|--------|\n",
    "| | **page** | **country** | **rev_id** |\n",
    "|0|\tTemplate:ZambiaProvincialMinisters | Zambia | 235107991 |\n",
    "|1|\tBir I of Kanem | Chad | 355319463 |\n",
    "\n",
    "***\n",
    "\n",
    "| | `export_2019.csv` | | |\n",
    "|-|------|---------|--------|\n",
    "| | **country** | **population** | **region** |\n",
    "|0|\tAlgeria | 44.357 | AFRICA |\n",
    "|1|\tEgypt | 100.803 | 355319463 |\n",
    "\n",
    "***"
   ]
  },
  {
   "cell_type": "markdown",
   "metadata": {},
   "source": [
    "#### Loading the data"
   ]
  },
  {
   "cell_type": "code",
   "execution_count": 259,
   "metadata": {},
   "outputs": [],
   "source": [
    "pages_df = df = pd.read_csv(\n",
    "  'raw_data\\pages\\csv\\page_data.csv',\n",
    "  sep = ','\n",
    ")"
   ]
  },
  {
   "cell_type": "code",
   "execution_count": 394,
   "metadata": {},
   "outputs": [],
   "source": [
    "population_df = df = pd.read_csv(\n",
    "  'raw_data\\population\\csv\\export_2019.csv',\n",
    "  sep = ';'\n",
    ")"
   ]
  },
  {
   "cell_type": "markdown",
   "metadata": {},
   "source": [
    "#### Exploring the data"
   ]
  },
  {
   "cell_type": "code",
   "execution_count": 393,
   "metadata": {},
   "outputs": [
    {
     "data": {
      "text/html": [
       "<div>\n",
       "<style scoped>\n",
       "    .dataframe tbody tr th:only-of-type {\n",
       "        vertical-align: middle;\n",
       "    }\n",
       "\n",
       "    .dataframe tbody tr th {\n",
       "        vertical-align: top;\n",
       "    }\n",
       "\n",
       "    .dataframe thead th {\n",
       "        text-align: right;\n",
       "    }\n",
       "</style>\n",
       "<table border=\"1\" class=\"dataframe\">\n",
       "  <thead>\n",
       "    <tr style=\"text-align: right;\">\n",
       "      <th></th>\n",
       "      <th>page</th>\n",
       "      <th>country</th>\n",
       "      <th>rev_id</th>\n",
       "    </tr>\n",
       "  </thead>\n",
       "  <tbody>\n",
       "    <tr>\n",
       "      <th>0</th>\n",
       "      <td>Template:ZambiaProvincialMinisters</td>\n",
       "      <td>Zambia</td>\n",
       "      <td>235107991</td>\n",
       "    </tr>\n",
       "    <tr>\n",
       "      <th>1</th>\n",
       "      <td>Bir I of Kanem</td>\n",
       "      <td>Chad</td>\n",
       "      <td>355319463</td>\n",
       "    </tr>\n",
       "    <tr>\n",
       "      <th>2</th>\n",
       "      <td>Template:Zimbabwe-politician-stub</td>\n",
       "      <td>Zimbabwe</td>\n",
       "      <td>391862046</td>\n",
       "    </tr>\n",
       "    <tr>\n",
       "      <th>3</th>\n",
       "      <td>Template:Uganda-politician-stub</td>\n",
       "      <td>Uganda</td>\n",
       "      <td>391862070</td>\n",
       "    </tr>\n",
       "    <tr>\n",
       "      <th>4</th>\n",
       "      <td>Template:Namibia-politician-stub</td>\n",
       "      <td>Namibia</td>\n",
       "      <td>391862409</td>\n",
       "    </tr>\n",
       "  </tbody>\n",
       "</table>\n",
       "</div>"
      ],
      "text/plain": [
       "                                 page   country     rev_id\n",
       "0  Template:ZambiaProvincialMinisters    Zambia  235107991\n",
       "1                      Bir I of Kanem      Chad  355319463\n",
       "2   Template:Zimbabwe-politician-stub  Zimbabwe  391862046\n",
       "3     Template:Uganda-politician-stub    Uganda  391862070\n",
       "4    Template:Namibia-politician-stub   Namibia  391862409"
      ]
     },
     "execution_count": 393,
     "metadata": {},
     "output_type": "execute_result"
    }
   ],
   "source": [
    "pages_df.head() "
   ]
  },
  {
   "cell_type": "code",
   "execution_count": 262,
   "metadata": {},
   "outputs": [
    {
     "name": "stdout",
     "output_type": "stream",
     "text": [
      "<class 'pandas.core.frame.DataFrame'>\n",
      "RangeIndex: 47197 entries, 0 to 47196\n",
      "Data columns (total 3 columns):\n",
      " #   Column   Non-Null Count  Dtype \n",
      "---  ------   --------------  ----- \n",
      " 0   page     47197 non-null  object\n",
      " 1   country  47197 non-null  object\n",
      " 2   rev_id   47197 non-null  int64 \n",
      "dtypes: int64(1), object(2)\n",
      "memory usage: 1.1+ MB\n"
     ]
    }
   ],
   "source": [
    "# Checking for Nan or null values\n",
    "pages_df.info()"
   ]
  },
  {
   "cell_type": "code",
   "execution_count": 263,
   "metadata": {},
   "outputs": [
    {
     "name": "stdout",
     "output_type": "stream",
     "text": [
      "219  countries\n"
     ]
    }
   ],
   "source": [
    "print(len(pd.unique(pages_df['country'])),' countries')"
   ]
  },
  {
   "cell_type": "code",
   "execution_count": 398,
   "metadata": {},
   "outputs": [
    {
     "data": {
      "text/plain": [
       "44.357"
      ]
     },
     "execution_count": 398,
     "metadata": {},
     "output_type": "execute_result"
    }
   ],
   "source": [
    "population_df.iloc[0]['population']"
   ]
  },
  {
   "cell_type": "code",
   "execution_count": 265,
   "metadata": {},
   "outputs": [
    {
     "name": "stdout",
     "output_type": "stream",
     "text": [
      "<class 'pandas.core.frame.DataFrame'>\n",
      "RangeIndex: 210 entries, 0 to 209\n",
      "Data columns (total 3 columns):\n",
      " #   Column      Non-Null Count  Dtype  \n",
      "---  ------      --------------  -----  \n",
      " 0   country     210 non-null    object \n",
      " 1   population  210 non-null    float64\n",
      " 2   region      210 non-null    object \n",
      "dtypes: float64(1), object(2)\n",
      "memory usage: 5.0+ KB\n"
     ]
    }
   ],
   "source": [
    "# Checking for Nan or null values\n",
    "population_df.info()"
   ]
  },
  {
   "cell_type": "code",
   "execution_count": 413,
   "metadata": {},
   "outputs": [
    {
     "data": {
      "text/plain": [
       "dtype('float64')"
      ]
     },
     "execution_count": 413,
     "metadata": {},
     "output_type": "execute_result"
    }
   ],
   "source": [
    "population_df['population'].dtype"
   ]
  },
  {
   "cell_type": "code",
   "execution_count": 266,
   "metadata": {},
   "outputs": [
    {
     "data": {
      "text/plain": [
       "array(['AFRICA', 'NORTHERN AMERICA', 'LATIN AMERICA AND THE CARIBBEAN',\n",
       "       'ASIA', 'EUROPE', 'OCEANIA'], dtype=object)"
      ]
     },
     "execution_count": 266,
     "metadata": {},
     "output_type": "execute_result"
    }
   ],
   "source": [
    "pd.unique(population_df['region'])"
   ]
  },
  {
   "cell_type": "markdown",
   "metadata": {},
   "source": [
    "### Getting article quality predictions with ORES\n",
    "\n",
    "Now you need to get the predicted quality scores for each article in the Wikipedia dataset. We're using a machine learning system called [**ORES**](https://www.mediawiki.org/wiki/ORES) (\"Objective Revision Evaluation Service\"). ORES estimates the quality of an article (at a particular point in time), and assigns a series of probabilities that the article is in one of the six quality categories. The options are, from best to worst:\n",
    "\n",
    "| ID | Quality Category |  Explanation |\n",
    "|----|------------------|----------|\n",
    "| 1 | FA    | Featured article |\n",
    "| 2 | GA    | Good article |\n",
    "| 3 | B     | B-class article |\n",
    "| 4 | C     | C-class article |\n",
    "| 5 | Start | Start-class article |\n",
    "| 6 | Stub  | Stub-class article |\n",
    "\n",
    "For context, these quality classes are a sub-set of quality assessment categories developed by Wikipedia editors. If you're curious, you can [read more](https://en.wikipedia.org/wiki/Wikipedia:Content_assessment#Grades) about what these assessment classes mean on English Wikipedia. For this assignment, you only need to know that these categories exist, and that ORES will assign one of these six categories to any `rev_id`. You need to extract all `rev_id`s in the `page_data.csv` file and use the ORES API to get the predicted quality score for that specific article revision."
   ]
  },
  {
   "cell_type": "markdown",
   "metadata": {},
   "source": [
    "### ORES REST API endpoint\n",
    "\n",
    "The [ORES REST API](https://ores.wikimedia.org/v3/#!/scoring/get_v3_scores_context_revid_model) is configured fairly similarly to the pageviews API we used for the last assignment. It expects the following parameters:\n",
    "\n",
    "* **project** --> `enwiki`\n",
    "* **revid** --> e.g. `235107991` or multiple ids e.g.: `235107991|355319463` (batch)\n",
    "* **model** --> `wp10` - The name of a model to use when scoring.\n",
    "\n",
    "**❗Note on batch processing:** Please read the documentation about [API usage](https://www.mediawiki.org/wiki/ORES#API_usage) if you want to query a large number of revisions (batches). \n",
    "\n",
    "You will notice that ORES returns a prediction value that contains the name of one category (e.g. `Start`), as well as probability values for each of the six quality categories. For this assignment, you only need to capture and use the value for prediction.\n",
    "\n",
    "**❗Note:** It's possible that you will be unable to get a score for a particular article. If that happens, make sure to maintain a log of articles for which you were not able to retrieve an ORES score. This log should be saved as a separate file named `ORES_no_scores.csv` and should include the `page`, `country`, and `rev_id` (just as in `page_data.csv`).\n",
    "\n",
    "You can use the following **samle code for API calls**:"
   ]
  },
  {
   "cell_type": "markdown",
   "metadata": {},
   "source": [
    "Sending one request for each `rev_id` might take some time. If you want to send batches you can use `'|'.join(str(x) for x in revision_ids` to put your ids together. Please make sure to deal with [exception handling](https://www.w3schools.com/python/python_try_except.asp) of the `KeyError` exception, when extracting the `prediction` from the `JSON` response."
   ]
  },
  {
   "cell_type": "code",
   "execution_count": 267,
   "metadata": {},
   "outputs": [],
   "source": [
    "import requests\n",
    "import json\n",
    "\n",
    "# Customize these with your own information\n",
    "headers = {\n",
    "    'User-Agent': 'https://github.com/Alioio',\n",
    "    'From': 'alib10@fu-berlin.de'\n",
    "}\n",
    "\n",
    "def get_ores_data(rev_id, headers):\n",
    "    \n",
    "    # Define the endpoint\n",
    "    # https://ores.wikimedia.org/scores/enwiki/?models=wp10&revids=807420979|807422778\n",
    "    endpoint = 'https://ores.wikimedia.org/v3/scores/{project}/?models={model}&revids={revids}'\n",
    "\n",
    "    params = {'project' : 'enwiki',\n",
    "              'model'   : 'wp10',\n",
    "              'revids'  : rev_id\n",
    "              }\n",
    "\n",
    "    api_call = requests.get(endpoint.format(**params))\n",
    "    response = api_call.json()\n",
    "    data = json.dumps(response)\n",
    "\n",
    "    return data"
   ]
  },
  {
   "cell_type": "code",
   "execution_count": 268,
   "metadata": {},
   "outputs": [],
   "source": [
    "#pages_df = pages_df[:210]"
   ]
  },
  {
   "cell_type": "code",
   "execution_count": 269,
   "metadata": {},
   "outputs": [],
   "source": [
    "#rev_ids = pages_df['rev_id'][:200]\n",
    "rev_ids = pages_df['rev_id']"
   ]
  },
  {
   "cell_type": "code",
   "execution_count": 270,
   "metadata": {},
   "outputs": [],
   "source": [
    "def make_df(keys, subset):\n",
    "    quality_df = {'rev_id': [],\n",
    "        'quality': []\n",
    "        }\n",
    "\n",
    "    quality_df = pd.DataFrame(quality_df, columns = ['rev_id', 'quality'])\n",
    "\n",
    "    for key in keys:\n",
    "        try:\n",
    "            new_row = pd.Series(data={'rev_id':key, 'quality':subset[key]['wp10']['score']['prediction']})\n",
    "            quality_df = quality_df.append(new_row, ignore_index=True)\n",
    "            #print(subset[key]['wp10']['score']['prediction'])\n",
    "        except KeyError:\n",
    "            try:\n",
    "                new_row = pd.Series(data={'rev_id':key, 'quality':subset[key]['wp10']['error']['message']})\n",
    "                quality_df = quality_df.append(new_row, ignore_index=True)\n",
    "            except KeyError:\n",
    "                new_row = pd.Series(data={'rev_id':key, 'quality':'unknown error'})\n",
    "                quality_df = quality_df.append(new_row, ignore_index=True)\n",
    "    return quality_df"
   ]
  },
  {
   "cell_type": "code",
   "execution_count": 271,
   "metadata": {},
   "outputs": [],
   "source": [
    "def run_batch(id1, id2, batchids):\n",
    "    bucket = batchids[id1: id2]\n",
    "    bucket = ('|'.join(str(x) for x in bucket))\n",
    "    output = get_ores_data(bucket, headers)\n",
    "    output = json.loads(output)\n",
    "    subset = output['enwiki']['scores']\n",
    "    keys   = subset.keys()\n",
    "    df = make_df(keys, subset)  \n",
    "    return df"
   ]
  },
  {
   "cell_type": "code",
   "execution_count": 272,
   "metadata": {},
   "outputs": [],
   "source": [
    "if not os.path.isfile('pre_processed_data/csv/ORES_scores.csv'):\n",
    "\n",
    "    final_df = pd.DataFrame({'rev_id': [], 'quality': [] }, columns = ['rev_id', 'quality'])\n",
    "\n",
    "    last = 0\n",
    "    for bucket in range(0, len(rev_ids)-50, 50):\n",
    "        print('new batch: ',bucket,': ',bucket+50)\n",
    "        df = run_batch(bucket, bucket+50, rev_ids)\n",
    "        final_df = pd.concat([final_df, df], axis= 0)\n",
    "        last = bucket\n",
    "\n",
    "    if( (len(rev_ids) - len(final_df)) > 0):\n",
    "        print('new batch: ',len(final_df),': ',len(rev_ids))\n",
    "        df = run_batch(len(final_df), len(rev_ids), rev_ids)\n",
    "        final_df = pd.concat([final_df, df], axis= 0)\n",
    "        \n",
    "    pages_df['rev_id'] = pages_df['rev_id'].astype(str)\n",
    "    final_df['rev_id'] = final_df['rev_id'].astype(str)\n",
    "    merged_df = pd.merge(pages_df, final_df, on='rev_id', how='outer')\n",
    "else:\n",
    "    final_df = pd.read_csv('pre_processed_data/csv/ORES_scores.csv') \n"
   ]
  },
  {
   "cell_type": "code",
   "execution_count": 276,
   "metadata": {},
   "outputs": [
    {
     "name": "stdout",
     "output_type": "stream",
     "text": [
      "Number of revisions without score:  213\n"
     ]
    }
   ],
   "source": [
    "print('Number of revisions without score: ',len(final_df[final_df['quality'].str.contains('RevisionNotFound') | final_df['quality'].str.contains('unknown error')]))"
   ]
  },
  {
   "cell_type": "code",
   "execution_count": 277,
   "metadata": {},
   "outputs": [],
   "source": [
    "def store_preprocessed(df, name):\n",
    "    \n",
    "    if not os.path.isdir('pre_processed_data/csv'):\n",
    "        makedirs('pre_processed_data/csv')\n",
    "        \n",
    "    df.to_csv('pre_processed_data/csv/'+name+'.csv') "
   ]
  },
  {
   "cell_type": "code",
   "execution_count": 278,
   "metadata": {},
   "outputs": [],
   "source": [
    "store_preprocessed(merged_df, 'ORES_scores')"
   ]
  },
  {
   "cell_type": "code",
   "execution_count": 279,
   "metadata": {},
   "outputs": [
    {
     "data": {
      "text/html": [
       "<div>\n",
       "<style scoped>\n",
       "    .dataframe tbody tr th:only-of-type {\n",
       "        vertical-align: middle;\n",
       "    }\n",
       "\n",
       "    .dataframe tbody tr th {\n",
       "        vertical-align: top;\n",
       "    }\n",
       "\n",
       "    .dataframe thead th {\n",
       "        text-align: right;\n",
       "    }\n",
       "</style>\n",
       "<table border=\"1\" class=\"dataframe\">\n",
       "  <thead>\n",
       "    <tr style=\"text-align: right;\">\n",
       "      <th></th>\n",
       "      <th>page</th>\n",
       "      <th>country</th>\n",
       "      <th>rev_id</th>\n",
       "      <th>quality</th>\n",
       "    </tr>\n",
       "  </thead>\n",
       "  <tbody>\n",
       "    <tr>\n",
       "      <th>0</th>\n",
       "      <td>Template:ZambiaProvincialMinisters</td>\n",
       "      <td>Zambia</td>\n",
       "      <td>235107991</td>\n",
       "      <td>RevisionNotFound: Could not find revision ({re...</td>\n",
       "    </tr>\n",
       "    <tr>\n",
       "      <th>126</th>\n",
       "      <td>List of politicians in Poland</td>\n",
       "      <td>Poland</td>\n",
       "      <td>516633096</td>\n",
       "      <td>RevisionNotFound: Could not find revision ({re...</td>\n",
       "    </tr>\n",
       "    <tr>\n",
       "      <th>222</th>\n",
       "      <td>Tingtingru</td>\n",
       "      <td>Vanuatu</td>\n",
       "      <td>550682925</td>\n",
       "      <td>RevisionNotFound: Could not find revision ({re...</td>\n",
       "    </tr>\n",
       "    <tr>\n",
       "      <th>330</th>\n",
       "      <td>Daud Arsala</td>\n",
       "      <td>Afghanistan</td>\n",
       "      <td>627547024</td>\n",
       "      <td>RevisionNotFound: Could not find revision ({re...</td>\n",
       "    </tr>\n",
       "    <tr>\n",
       "      <th>539</th>\n",
       "      <td>Bharat Saud</td>\n",
       "      <td>Nepal</td>\n",
       "      <td>671484594</td>\n",
       "      <td>RevisionNotFound: Could not find revision ({re...</td>\n",
       "    </tr>\n",
       "    <tr>\n",
       "      <th>...</th>\n",
       "      <td>...</td>\n",
       "      <td>...</td>\n",
       "      <td>...</td>\n",
       "      <td>...</td>\n",
       "    </tr>\n",
       "    <tr>\n",
       "      <th>46782</th>\n",
       "      <td>John Rose (Trotskyist)</td>\n",
       "      <td>United Kingdom</td>\n",
       "      <td>807336308</td>\n",
       "      <td>RevisionNotFound: Could not find revision ({re...</td>\n",
       "    </tr>\n",
       "    <tr>\n",
       "      <th>46862</th>\n",
       "      <td>Jalal Movaghar</td>\n",
       "      <td>Iran</td>\n",
       "      <td>807367030</td>\n",
       "      <td>RevisionNotFound: Could not find revision ({re...</td>\n",
       "    </tr>\n",
       "    <tr>\n",
       "      <th>46863</th>\n",
       "      <td>Mohsen Movaghar</td>\n",
       "      <td>Iran</td>\n",
       "      <td>807367166</td>\n",
       "      <td>RevisionNotFound: Could not find revision ({re...</td>\n",
       "    </tr>\n",
       "    <tr>\n",
       "      <th>47182</th>\n",
       "      <td>King Gutierrez</td>\n",
       "      <td>Philippines</td>\n",
       "      <td>807479587</td>\n",
       "      <td>RevisionNotFound: Could not find revision ({re...</td>\n",
       "    </tr>\n",
       "    <tr>\n",
       "      <th>47196</th>\n",
       "      <td>Ajay Kannoujiya</td>\n",
       "      <td>India</td>\n",
       "      <td>807484325</td>\n",
       "      <td>RevisionNotFound: Could not find revision ({re...</td>\n",
       "    </tr>\n",
       "  </tbody>\n",
       "</table>\n",
       "<p>213 rows × 4 columns</p>\n",
       "</div>"
      ],
      "text/plain": [
       "                                     page         country     rev_id  \\\n",
       "0      Template:ZambiaProvincialMinisters          Zambia  235107991   \n",
       "126         List of politicians in Poland          Poland  516633096   \n",
       "222                            Tingtingru         Vanuatu  550682925   \n",
       "330                           Daud Arsala     Afghanistan  627547024   \n",
       "539                           Bharat Saud           Nepal  671484594   \n",
       "...                                   ...             ...        ...   \n",
       "46782              John Rose (Trotskyist)  United Kingdom  807336308   \n",
       "46862                      Jalal Movaghar            Iran  807367030   \n",
       "46863                     Mohsen Movaghar            Iran  807367166   \n",
       "47182                      King Gutierrez     Philippines  807479587   \n",
       "47196                     Ajay Kannoujiya           India  807484325   \n",
       "\n",
       "                                                 quality  \n",
       "0      RevisionNotFound: Could not find revision ({re...  \n",
       "126    RevisionNotFound: Could not find revision ({re...  \n",
       "222    RevisionNotFound: Could not find revision ({re...  \n",
       "330    RevisionNotFound: Could not find revision ({re...  \n",
       "539    RevisionNotFound: Could not find revision ({re...  \n",
       "...                                                  ...  \n",
       "46782  RevisionNotFound: Could not find revision ({re...  \n",
       "46862  RevisionNotFound: Could not find revision ({re...  \n",
       "46863  RevisionNotFound: Could not find revision ({re...  \n",
       "47182  RevisionNotFound: Could not find revision ({re...  \n",
       "47196  RevisionNotFound: Could not find revision ({re...  \n",
       "\n",
       "[213 rows x 4 columns]"
      ]
     },
     "execution_count": 279,
     "metadata": {},
     "output_type": "execute_result"
    }
   ],
   "source": [
    "no_scores_df = merged_df[merged_df['quality'].str.contains('RevisionNotFound:')]\n",
    "no_scores_df"
   ]
  },
  {
   "cell_type": "code",
   "execution_count": 280,
   "metadata": {},
   "outputs": [],
   "source": [
    "store_preprocessed(no_scores_df, 'ORES_no_scores')"
   ]
  },
  {
   "cell_type": "markdown",
   "metadata": {},
   "source": [
    "### Combining the datasets\n",
    "\n",
    "Now you need to combine both dataset: (1) the wikipedia articles and its ORES quality scores and (2) the population data. Both have columns named `country`. After merging the data, you'll invariably run into entries which cannot be merged. Either the population dataset does not have an entry for the equivalent Wikipedia country, or vis versa.\n",
    "\n",
    "Please remove any rows that do not have matching data, and output them to a `CSV` file called `countries-no_match.csv`. Consolidate the remaining data into a single `CSV` file called `politicians_by_country.csv`.\n",
    "\n",
    "The schema for that file should look like the following table:\n",
    "\n",
    "\n",
    "| article_name | country | region | revision_id | article_quality | population |\n",
    "|--------------|---------|--------|-------------|-----------------|------------|\n",
    "| Bir I of Kanem | Chad  | AFRICA | 807422778 | Stub | 16877000 |"
   ]
  },
  {
   "cell_type": "markdown",
   "metadata": {},
   "source": [
    "#### Some exploration of matching and not matching countries "
   ]
  },
  {
   "cell_type": "code",
   "execution_count": 281,
   "metadata": {},
   "outputs": [],
   "source": [
    "contries_pop = pd.unique(population_df['country'])"
   ]
  },
  {
   "cell_type": "code",
   "execution_count": 460,
   "metadata": {},
   "outputs": [
    {
     "name": "stdout",
     "output_type": "stream",
     "text": [
      "# of countries in the population dataset:  210\n"
     ]
    }
   ],
   "source": [
    "print('# of countries in the population dataset: ',len(contries_pop))"
   ]
  },
  {
   "cell_type": "code",
   "execution_count": 284,
   "metadata": {},
   "outputs": [],
   "source": [
    "countries_wiki = pd.unique(merged_df['country'])"
   ]
  },
  {
   "cell_type": "code",
   "execution_count": 461,
   "metadata": {},
   "outputs": [
    {
     "name": "stdout",
     "output_type": "stream",
     "text": [
      "# of countries in the article quality dataset:  219\n"
     ]
    }
   ],
   "source": [
    "print('# of countries in the article quality dataset: ',len(countries_wiki))"
   ]
  },
  {
   "cell_type": "code",
   "execution_count": 462,
   "metadata": {},
   "outputs": [
    {
     "name": "stdout",
     "output_type": "stream",
     "text": [
      "Countries which are present in the population dataset but has no matching entry in the article quality df:\n"
     ]
    },
    {
     "data": {
      "text/plain": [
       "array(['Western Sahara', \"Cote d'Ivoire\", 'Mayotte', 'Reunion',\n",
       "       'Congo, Dem. Rep.', 'eSwatini', 'El Salvador', 'Honduras',\n",
       "       'Curacao', 'Puerto Rico', 'St. Kitts-Nevis', 'Saint Lucia',\n",
       "       'St. Vincent and the Grenadines', 'Georgia', 'Oman', 'Brunei',\n",
       "       'Timor-Leste', 'China, Hong Kong SAR', 'China, Macao SAR',\n",
       "       'Channel Islands', 'Czechia', 'North Macedonia',\n",
       "       'French Polynesia', 'Guam', 'New Caledonia', 'Palau', 'Samoa'],\n",
       "      dtype=object)"
      ]
     },
     "execution_count": 462,
     "metadata": {},
     "output_type": "execute_result"
    }
   ],
   "source": [
    "print('Countries which are present in the population dataset but has no matching entry in the article quality df:')\n",
    "contries_pop[np.invert(np.in1d(contries_pop, countries_wiki))]"
   ]
  },
  {
   "cell_type": "code",
   "execution_count": 463,
   "metadata": {},
   "outputs": [
    {
     "name": "stdout",
     "output_type": "stream",
     "text": [
      "Countries which are present in the article quality df but has no matching entry in the population df:\n"
     ]
    },
    {
     "data": {
      "text/plain": [
       "array(['Hondura', 'Czech Republic', 'Salvadoran', 'Saint Kitts and Nevis',\n",
       "       'Palauan', 'Ivorian', 'Saint Vincent and the Grenadines',\n",
       "       'Rhodesian', 'Omani', 'Congo, Dem. Rep. of', 'Niuean',\n",
       "       'East Timorese', 'Faroese', 'Cape Colony', 'South Korean',\n",
       "       'Samoan', 'Montserratian', 'Pitcairn Islands', 'Macedonia',\n",
       "       'Abkhazia', 'Carniolan', 'Saint Lucian', 'South African Republic',\n",
       "       'Incan', 'Chechen', 'Jersey', 'Guernsey', 'South Ossetian',\n",
       "       'Cook Island', 'Tokelauan', 'Swaziland', 'Dagestani',\n",
       "       'Greenlandic', 'Ossetian', 'Somaliland', 'Rojava'], dtype=object)"
      ]
     },
     "execution_count": 463,
     "metadata": {},
     "output_type": "execute_result"
    }
   ],
   "source": [
    "print('Countries which are present in the article quality df but has no matching entry in the population df:')\n",
    "countries_wiki[np.invert(np.in1d( countries_wiki, contries_pop))]"
   ]
  },
  {
   "cell_type": "markdown",
   "metadata": {},
   "source": [
    "#### Checked for some random examples if countries are not mathich because of different writing. Found two examples where the matching counterpart exists with diffent writing."
   ]
  },
  {
   "cell_type": "code",
   "execution_count": 465,
   "metadata": {},
   "outputs": [
    {
     "data": {
      "text/html": [
       "<div>\n",
       "<style scoped>\n",
       "    .dataframe tbody tr th:only-of-type {\n",
       "        vertical-align: middle;\n",
       "    }\n",
       "\n",
       "    .dataframe tbody tr th {\n",
       "        vertical-align: top;\n",
       "    }\n",
       "\n",
       "    .dataframe thead th {\n",
       "        text-align: right;\n",
       "    }\n",
       "</style>\n",
       "<table border=\"1\" class=\"dataframe\">\n",
       "  <thead>\n",
       "    <tr style=\"text-align: right;\">\n",
       "      <th></th>\n",
       "      <th>page</th>\n",
       "      <th>country</th>\n",
       "      <th>rev_id</th>\n",
       "      <th>quality</th>\n",
       "    </tr>\n",
       "  </thead>\n",
       "  <tbody>\n",
       "    <tr>\n",
       "      <th>22</th>\n",
       "      <td>Template:Honduras-politician-stub</td>\n",
       "      <td>Hondura</td>\n",
       "      <td>394587547</td>\n",
       "      <td>Stub</td>\n",
       "    </tr>\n",
       "    <tr>\n",
       "      <th>46</th>\n",
       "      <td>Template:Honduras-mayor-stub</td>\n",
       "      <td>Hondura</td>\n",
       "      <td>443469862</td>\n",
       "      <td>Stub</td>\n",
       "    </tr>\n",
       "    <tr>\n",
       "      <th>1155</th>\n",
       "      <td>Céleo Arias</td>\n",
       "      <td>Hondura</td>\n",
       "      <td>704789339</td>\n",
       "      <td>Stub</td>\n",
       "    </tr>\n",
       "    <tr>\n",
       "      <th>1239</th>\n",
       "      <td>Juan Francisco de Molina</td>\n",
       "      <td>Hondura</td>\n",
       "      <td>705346284</td>\n",
       "      <td>Stub</td>\n",
       "    </tr>\n",
       "    <tr>\n",
       "      <th>1240</th>\n",
       "      <td>Felipe Neri Medina</td>\n",
       "      <td>Hondura</td>\n",
       "      <td>705346304</td>\n",
       "      <td>Stub</td>\n",
       "    </tr>\n",
       "    <tr>\n",
       "      <th>...</th>\n",
       "      <td>...</td>\n",
       "      <td>...</td>\n",
       "      <td>...</td>\n",
       "      <td>...</td>\n",
       "    </tr>\n",
       "    <tr>\n",
       "      <th>45822</th>\n",
       "      <td>Selvin Laínez</td>\n",
       "      <td>Hondura</td>\n",
       "      <td>806796619</td>\n",
       "      <td>Stub</td>\n",
       "    </tr>\n",
       "    <tr>\n",
       "      <th>45988</th>\n",
       "      <td>Ana Julia García</td>\n",
       "      <td>Hondura</td>\n",
       "      <td>806875293</td>\n",
       "      <td>Stub</td>\n",
       "    </tr>\n",
       "    <tr>\n",
       "      <th>46089</th>\n",
       "      <td>Francisco Ferrera</td>\n",
       "      <td>Hondura</td>\n",
       "      <td>806948506</td>\n",
       "      <td>Stub</td>\n",
       "    </tr>\n",
       "    <tr>\n",
       "      <th>47076</th>\n",
       "      <td>Juan Ángel Arias Boquín</td>\n",
       "      <td>Hondura</td>\n",
       "      <td>807445333</td>\n",
       "      <td>Start</td>\n",
       "    </tr>\n",
       "    <tr>\n",
       "      <th>47078</th>\n",
       "      <td>Francisco Zelaya y Ayes</td>\n",
       "      <td>Hondura</td>\n",
       "      <td>807445395</td>\n",
       "      <td>Stub</td>\n",
       "    </tr>\n",
       "  </tbody>\n",
       "</table>\n",
       "<p>189 rows × 4 columns</p>\n",
       "</div>"
      ],
      "text/plain": [
       "                                    page  country     rev_id quality\n",
       "22     Template:Honduras-politician-stub  Hondura  394587547    Stub\n",
       "46          Template:Honduras-mayor-stub  Hondura  443469862    Stub\n",
       "1155                         Céleo Arias  Hondura  704789339    Stub\n",
       "1239            Juan Francisco de Molina  Hondura  705346284    Stub\n",
       "1240                  Felipe Neri Medina  Hondura  705346304    Stub\n",
       "...                                  ...      ...        ...     ...\n",
       "45822                      Selvin Laínez  Hondura  806796619    Stub\n",
       "45988                   Ana Julia García  Hondura  806875293    Stub\n",
       "46089                  Francisco Ferrera  Hondura  806948506    Stub\n",
       "47076            Juan Ángel Arias Boquín  Hondura  807445333   Start\n",
       "47078            Francisco Zelaya y Ayes  Hondura  807445395    Stub\n",
       "\n",
       "[189 rows x 4 columns]"
      ]
     },
     "execution_count": 465,
     "metadata": {},
     "output_type": "execute_result"
    }
   ],
   "source": [
    "merged_df[merged_df['country'].str.contains('Hondu')]"
   ]
  },
  {
   "cell_type": "code",
   "execution_count": 289,
   "metadata": {},
   "outputs": [
    {
     "data": {
      "text/html": [
       "<div>\n",
       "<style scoped>\n",
       "    .dataframe tbody tr th:only-of-type {\n",
       "        vertical-align: middle;\n",
       "    }\n",
       "\n",
       "    .dataframe tbody tr th {\n",
       "        vertical-align: top;\n",
       "    }\n",
       "\n",
       "    .dataframe thead th {\n",
       "        text-align: right;\n",
       "    }\n",
       "</style>\n",
       "<table border=\"1\" class=\"dataframe\">\n",
       "  <thead>\n",
       "    <tr style=\"text-align: right;\">\n",
       "      <th></th>\n",
       "      <th>page</th>\n",
       "      <th>country</th>\n",
       "      <th>rev_id</th>\n",
       "      <th>quality</th>\n",
       "    </tr>\n",
       "  </thead>\n",
       "  <tbody>\n",
       "    <tr>\n",
       "      <th>290</th>\n",
       "      <td>Mavua Mudima</td>\n",
       "      <td>Congo, Dem. Rep. of</td>\n",
       "      <td>592289232</td>\n",
       "      <td>Stub</td>\n",
       "    </tr>\n",
       "    <tr>\n",
       "      <th>441</th>\n",
       "      <td>List of provincial governors of the Democratic...</td>\n",
       "      <td>Congo, Dem. Rep. of</td>\n",
       "      <td>663088604</td>\n",
       "      <td>Stub</td>\n",
       "    </tr>\n",
       "    <tr>\n",
       "      <th>1296</th>\n",
       "      <td>Eugène Diomi Ndongala Nzomambu</td>\n",
       "      <td>Congo, Dem. Rep. of</td>\n",
       "      <td>705390654</td>\n",
       "      <td>Stub</td>\n",
       "    </tr>\n",
       "    <tr>\n",
       "      <th>1344</th>\n",
       "      <td>Théophile Mbemba Fundu</td>\n",
       "      <td>Congo, Dem. Rep. of</td>\n",
       "      <td>705707214</td>\n",
       "      <td>Stub</td>\n",
       "    </tr>\n",
       "    <tr>\n",
       "      <th>1346</th>\n",
       "      <td>Ntumba Luaba</td>\n",
       "      <td>Congo, Dem. Rep. of</td>\n",
       "      <td>705723187</td>\n",
       "      <td>Stub</td>\n",
       "    </tr>\n",
       "    <tr>\n",
       "      <th>...</th>\n",
       "      <td>...</td>\n",
       "      <td>...</td>\n",
       "      <td>...</td>\n",
       "      <td>...</td>\n",
       "    </tr>\n",
       "    <tr>\n",
       "      <th>46088</th>\n",
       "      <td>Jean-Chrysostome Werengemere</td>\n",
       "      <td>Congo, Dem. Rep. of</td>\n",
       "      <td>806947596</td>\n",
       "      <td>C</td>\n",
       "    </tr>\n",
       "    <tr>\n",
       "      <th>46501</th>\n",
       "      <td>Jean-Pierre Bemba</td>\n",
       "      <td>Congo, Dem. Rep. of</td>\n",
       "      <td>807193274</td>\n",
       "      <td>GA</td>\n",
       "    </tr>\n",
       "    <tr>\n",
       "      <th>46603</th>\n",
       "      <td>Jason Sendwe</td>\n",
       "      <td>Congo, Dem. Rep. of</td>\n",
       "      <td>807243537</td>\n",
       "      <td>C</td>\n",
       "    </tr>\n",
       "    <tr>\n",
       "      <th>46639</th>\n",
       "      <td>Gérard Kamanda wa Kamanda</td>\n",
       "      <td>Congo, Dem. Rep. of</td>\n",
       "      <td>807258156</td>\n",
       "      <td>Stub</td>\n",
       "    </tr>\n",
       "    <tr>\n",
       "      <th>46671</th>\n",
       "      <td>Patrice Lumumba</td>\n",
       "      <td>Congo, Dem. Rep. of</td>\n",
       "      <td>807273861</td>\n",
       "      <td>FA</td>\n",
       "    </tr>\n",
       "  </tbody>\n",
       "</table>\n",
       "<p>142 rows × 4 columns</p>\n",
       "</div>"
      ],
      "text/plain": [
       "                                                    page              country  \\\n",
       "290                                         Mavua Mudima  Congo, Dem. Rep. of   \n",
       "441    List of provincial governors of the Democratic...  Congo, Dem. Rep. of   \n",
       "1296                      Eugène Diomi Ndongala Nzomambu  Congo, Dem. Rep. of   \n",
       "1344                              Théophile Mbemba Fundu  Congo, Dem. Rep. of   \n",
       "1346                                        Ntumba Luaba  Congo, Dem. Rep. of   \n",
       "...                                                  ...                  ...   \n",
       "46088                       Jean-Chrysostome Werengemere  Congo, Dem. Rep. of   \n",
       "46501                                  Jean-Pierre Bemba  Congo, Dem. Rep. of   \n",
       "46603                                       Jason Sendwe  Congo, Dem. Rep. of   \n",
       "46639                          Gérard Kamanda wa Kamanda  Congo, Dem. Rep. of   \n",
       "46671                                    Patrice Lumumba  Congo, Dem. Rep. of   \n",
       "\n",
       "          rev_id quality  \n",
       "290    592289232    Stub  \n",
       "441    663088604    Stub  \n",
       "1296   705390654    Stub  \n",
       "1344   705707214    Stub  \n",
       "1346   705723187    Stub  \n",
       "...          ...     ...  \n",
       "46088  806947596       C  \n",
       "46501  807193274      GA  \n",
       "46603  807243537       C  \n",
       "46639  807258156    Stub  \n",
       "46671  807273861      FA  \n",
       "\n",
       "[142 rows x 4 columns]"
      ]
     },
     "execution_count": 289,
     "metadata": {},
     "output_type": "execute_result"
    }
   ],
   "source": [
    "merged_df[merged_df['country'].str.contains('Congo, Dem. Rep.')]"
   ]
  },
  {
   "cell_type": "markdown",
   "metadata": {},
   "source": [
    "#### Merging the dataframes"
   ]
  },
  {
   "cell_type": "code",
   "execution_count": 290,
   "metadata": {},
   "outputs": [],
   "source": [
    "merged_df_pop = pd.merge(merged_df, population_df, on='country', how='inner')"
   ]
  },
  {
   "cell_type": "code",
   "execution_count": 291,
   "metadata": {},
   "outputs": [],
   "source": [
    "merged_df_outer = pd.merge(merged_df, population_df, on='country', how='left')"
   ]
  },
  {
   "cell_type": "code",
   "execution_count": 292,
   "metadata": {},
   "outputs": [],
   "source": [
    "no_match_df = merged_df_outer[merged_df_outer['population'].isna()]"
   ]
  },
  {
   "cell_type": "code",
   "execution_count": 293,
   "metadata": {},
   "outputs": [
    {
     "data": {
      "text/plain": [
       "0"
      ]
     },
     "execution_count": 293,
     "metadata": {},
     "output_type": "execute_result"
    }
   ],
   "source": [
    "#small plausibility check. \n",
    "(len(merged_df) - len(merged_df_pop)) - len(no_match_df)"
   ]
  },
  {
   "cell_type": "code",
   "execution_count": 294,
   "metadata": {},
   "outputs": [],
   "source": [
    "store_preprocessed(merged_df_pop, 'politicians_by_country')"
   ]
  },
  {
   "cell_type": "code",
   "execution_count": 295,
   "metadata": {},
   "outputs": [],
   "source": [
    "store_preprocessed(no_match_df, 'countries-no_match')"
   ]
  },
  {
   "cell_type": "code",
   "execution_count": 296,
   "metadata": {},
   "outputs": [
    {
     "data": {
      "text/html": [
       "<div>\n",
       "<style scoped>\n",
       "    .dataframe tbody tr th:only-of-type {\n",
       "        vertical-align: middle;\n",
       "    }\n",
       "\n",
       "    .dataframe tbody tr th {\n",
       "        vertical-align: top;\n",
       "    }\n",
       "\n",
       "    .dataframe thead th {\n",
       "        text-align: right;\n",
       "    }\n",
       "</style>\n",
       "<table border=\"1\" class=\"dataframe\">\n",
       "  <thead>\n",
       "    <tr style=\"text-align: right;\">\n",
       "      <th></th>\n",
       "      <th>page</th>\n",
       "      <th>country</th>\n",
       "      <th>rev_id</th>\n",
       "      <th>quality</th>\n",
       "      <th>population</th>\n",
       "      <th>region</th>\n",
       "    </tr>\n",
       "  </thead>\n",
       "  <tbody>\n",
       "    <tr>\n",
       "      <th>5167</th>\n",
       "      <td>Fan S. Noli</td>\n",
       "      <td>Albania</td>\n",
       "      <td>802740752</td>\n",
       "      <td>GA</td>\n",
       "      <td>2.838</td>\n",
       "      <td>EUROPE</td>\n",
       "    </tr>\n",
       "    <tr>\n",
       "      <th>5168</th>\n",
       "      <td>Fatos Nano</td>\n",
       "      <td>Albania</td>\n",
       "      <td>802841606</td>\n",
       "      <td>GA</td>\n",
       "      <td>2.838</td>\n",
       "      <td>EUROPE</td>\n",
       "    </tr>\n",
       "    <tr>\n",
       "      <th>5207</th>\n",
       "      <td>Edi Rama</td>\n",
       "      <td>Albania</td>\n",
       "      <td>807436239</td>\n",
       "      <td>GA</td>\n",
       "      <td>2.838</td>\n",
       "      <td>EUROPE</td>\n",
       "    </tr>\n",
       "    <tr>\n",
       "      <th>15196</th>\n",
       "      <td>Werner Faymann</td>\n",
       "      <td>Austria</td>\n",
       "      <td>805569890</td>\n",
       "      <td>GA</td>\n",
       "      <td>8.914</td>\n",
       "      <td>EUROPE</td>\n",
       "    </tr>\n",
       "    <tr>\n",
       "      <th>15209</th>\n",
       "      <td>Christian Kern</td>\n",
       "      <td>Austria</td>\n",
       "      <td>806875042</td>\n",
       "      <td>GA</td>\n",
       "      <td>8.914</td>\n",
       "      <td>EUROPE</td>\n",
       "    </tr>\n",
       "    <tr>\n",
       "      <th>...</th>\n",
       "      <td>...</td>\n",
       "      <td>...</td>\n",
       "      <td>...</td>\n",
       "      <td>...</td>\n",
       "      <td>...</td>\n",
       "      <td>...</td>\n",
       "    </tr>\n",
       "    <tr>\n",
       "      <th>41016</th>\n",
       "      <td>Gustav Wilhelm Wolff</td>\n",
       "      <td>United Kingdom</td>\n",
       "      <td>807173782</td>\n",
       "      <td>GA</td>\n",
       "      <td>67.160</td>\n",
       "      <td>EUROPE</td>\n",
       "    </tr>\n",
       "    <tr>\n",
       "      <th>41019</th>\n",
       "      <td>Sally Bercow</td>\n",
       "      <td>United Kingdom</td>\n",
       "      <td>807189268</td>\n",
       "      <td>GA</td>\n",
       "      <td>67.160</td>\n",
       "      <td>EUROPE</td>\n",
       "    </tr>\n",
       "    <tr>\n",
       "      <th>41030</th>\n",
       "      <td>Chris Huhne</td>\n",
       "      <td>United Kingdom</td>\n",
       "      <td>807292420</td>\n",
       "      <td>GA</td>\n",
       "      <td>67.160</td>\n",
       "      <td>EUROPE</td>\n",
       "    </tr>\n",
       "    <tr>\n",
       "      <th>41039</th>\n",
       "      <td>John Bercow</td>\n",
       "      <td>United Kingdom</td>\n",
       "      <td>807337238</td>\n",
       "      <td>GA</td>\n",
       "      <td>67.160</td>\n",
       "      <td>EUROPE</td>\n",
       "    </tr>\n",
       "    <tr>\n",
       "      <th>41055</th>\n",
       "      <td>Winston Churchill</td>\n",
       "      <td>United Kingdom</td>\n",
       "      <td>807466316</td>\n",
       "      <td>GA</td>\n",
       "      <td>67.160</td>\n",
       "      <td>EUROPE</td>\n",
       "    </tr>\n",
       "  </tbody>\n",
       "</table>\n",
       "<p>350 rows × 6 columns</p>\n",
       "</div>"
      ],
      "text/plain": [
       "                       page         country     rev_id quality  population  \\\n",
       "5167            Fan S. Noli         Albania  802740752      GA       2.838   \n",
       "5168             Fatos Nano         Albania  802841606      GA       2.838   \n",
       "5207               Edi Rama         Albania  807436239      GA       2.838   \n",
       "15196        Werner Faymann         Austria  805569890      GA       8.914   \n",
       "15209        Christian Kern         Austria  806875042      GA       8.914   \n",
       "...                     ...             ...        ...     ...         ...   \n",
       "41016  Gustav Wilhelm Wolff  United Kingdom  807173782      GA      67.160   \n",
       "41019          Sally Bercow  United Kingdom  807189268      GA      67.160   \n",
       "41030           Chris Huhne  United Kingdom  807292420      GA      67.160   \n",
       "41039           John Bercow  United Kingdom  807337238      GA      67.160   \n",
       "41055     Winston Churchill  United Kingdom  807466316      GA      67.160   \n",
       "\n",
       "       region  \n",
       "5167   EUROPE  \n",
       "5168   EUROPE  \n",
       "5207   EUROPE  \n",
       "15196  EUROPE  \n",
       "15209  EUROPE  \n",
       "...       ...  \n",
       "41016  EUROPE  \n",
       "41019  EUROPE  \n",
       "41030  EUROPE  \n",
       "41039  EUROPE  \n",
       "41055  EUROPE  \n",
       "\n",
       "[350 rows x 6 columns]"
      ]
     },
     "execution_count": 296,
     "metadata": {},
     "output_type": "execute_result"
    }
   ],
   "source": [
    "merged_df_pop[(merged_df_pop['region'] == 'EUROPE') & ((merged_df_pop['quality'] == 'FA') |  (merged_df_pop['quality'] == 'GA'))].sort_values(by=['country', 'quality'])"
   ]
  },
  {
   "cell_type": "markdown",
   "metadata": {},
   "source": []
  },
  {
   "cell_type": "markdown",
   "metadata": {},
   "source": [
    "## Step 3⃣ | Analysis\n",
    "\n",
    "Your analysis will consist of calculating the proportion (as a percentage) of articles-per-population (we can also call it `coverage`) and high-quality articles (we can also call it `relative-quality`)for **each country** and for **each region**. By `\"high quality\"` arcticle we mean an article that ORES predicted as `FA` (featured article) or `GA` (good article).\n",
    "\n",
    "**Examples:**\n",
    "\n",
    "* if a country has a population of `10,000` people, and you found `10` articles about politicians from that country, then the percentage of `articles-per-population` would be `0.1%`.\n",
    "* if a country has `10` articles about politicians, and `2` of them are `FA` or `GA` class articles, then the percentage of `high-quality-articles` would be `20%`."
   ]
  },
  {
   "cell_type": "markdown",
   "metadata": {},
   "source": [
    "### Results format\n",
    "\n",
    "The results from this analysis are six `data tables`. Embed these tables in the Jupyter notebook. You do not need to graph or otherwise visualize the data for this assignment. The tables will show:\n",
    "\n",
    "1. **Top 10 countries by coverage**<br>10 highest-ranked countries in terms of number of politician articles as a proportion of country population\n",
    "1. **Bottom 10 countries by coverage**<br>10 lowest-ranked countries in terms of number of politician articles as a proportion of country population\n",
    "1. **Top 10 countries by relative quality**<br>10 highest-ranked countries in terms of the relative proportion of politician articles that are of GA and FA-quality\n",
    "1. **Bottom 10 countries by relative quality**<br>10 lowest-ranked countries in terms of the relative proportion of politician articles that are of GA and FA-quality\n",
    "1. **Regions by coverage**<br>Ranking of regions (in descending order) in terms of the total count of politician articles from countries in each region as a proportion of total regional population\n",
    "1. **Regions by coverage**<br>Ranking of regions (in descending order) in terms of the relative proportion of politician articles from countries in each region that are of GA and FA-quality\n",
    "\n",
    "**❗Hint:** You will find what country belongs to which region (e.g. `ASIA`) also in `export_2019.csv`. You need to calculate the total poulation per region. For that you could use `groupby` and also check out `apply`."
   ]
  },
  {
   "cell_type": "markdown",
   "metadata": {},
   "source": [
    "1. **Top 10 countries by coverage**<br>10 highest-ranked countries in terms of number of politician articles as a proportion of country population"
   ]
  },
  {
   "cell_type": "code",
   "execution_count": 436,
   "metadata": {},
   "outputs": [],
   "source": [
    "pop_artc_propotion_df = pd.DataFrame({'country': [], 'art_prop': [] }, columns = ['country', 'art_prop'])\n",
    "countries = pd.unique(merged_df_pop['country'])\n",
    "#ratio: (sum(articles)/population) * 100\n",
    "\n",
    "for country in countries:\n",
    "    new_row = pd.Series(data={'country':country, \n",
    "                              'art_prop': (len(merged_df_pop[merged_df_pop['country'] == country]) / merged_df_pop[merged_df_pop['country'] == country]['population'].iloc[0]) / 100 })\n",
    "\n",
    "    pop_artc_propotion_df = pop_artc_propotion_df.append(new_row, ignore_index=True)\n"
   ]
  },
  {
   "cell_type": "code",
   "execution_count": 400,
   "metadata": {
    "scrolled": false
   },
   "outputs": [
    {
     "data": {
      "text/plain": [
       "country         Guyana\n",
       "art_prop    2.5413e-06\n",
       "Name: 139, dtype: object"
      ]
     },
     "execution_count": 400,
     "metadata": {},
     "output_type": "execute_result"
    }
   ],
   "source": [
    "pop_artc_propotion_df.iloc[pop_artc_propotion_df['art_prop'].argmin()]"
   ]
  },
  {
   "cell_type": "code",
   "execution_count": 414,
   "metadata": {
    "scrolled": false
   },
   "outputs": [
    {
     "data": {
      "text/plain": [
       "country     Tuvalu\n",
       "art_prop      0.55\n",
       "Name: 112, dtype: object"
      ]
     },
     "execution_count": 414,
     "metadata": {},
     "output_type": "execute_result"
    }
   ],
   "source": [
    "pop_artc_propotion_df.iloc[pop_artc_propotion_df['art_prop'].argmax()]"
   ]
  },
  {
   "cell_type": "code",
   "execution_count": 492,
   "metadata": {},
   "outputs": [
    {
     "data": {
      "text/html": [
       "\n",
       "<div id=\"altair-viz-40be1048562b4457b3b8285185ae2eb6\"></div>\n",
       "<script type=\"text/javascript\">\n",
       "  (function(spec, embedOpt){\n",
       "    let outputDiv = document.currentScript.previousElementSibling;\n",
       "    if (outputDiv.id !== \"altair-viz-40be1048562b4457b3b8285185ae2eb6\") {\n",
       "      outputDiv = document.getElementById(\"altair-viz-40be1048562b4457b3b8285185ae2eb6\");\n",
       "    }\n",
       "    const paths = {\n",
       "      \"vega\": \"https://cdn.jsdelivr.net/npm//vega@5?noext\",\n",
       "      \"vega-lib\": \"https://cdn.jsdelivr.net/npm//vega-lib?noext\",\n",
       "      \"vega-lite\": \"https://cdn.jsdelivr.net/npm//vega-lite@4.8.1?noext\",\n",
       "      \"vega-embed\": \"https://cdn.jsdelivr.net/npm//vega-embed@6?noext\",\n",
       "    };\n",
       "\n",
       "    function loadScript(lib) {\n",
       "      return new Promise(function(resolve, reject) {\n",
       "        var s = document.createElement('script');\n",
       "        s.src = paths[lib];\n",
       "        s.async = true;\n",
       "        s.onload = () => resolve(paths[lib]);\n",
       "        s.onerror = () => reject(`Error loading script: ${paths[lib]}`);\n",
       "        document.getElementsByTagName(\"head\")[0].appendChild(s);\n",
       "      });\n",
       "    }\n",
       "\n",
       "    function showError(err) {\n",
       "      outputDiv.innerHTML = `<div class=\"error\" style=\"color:red;\">${err}</div>`;\n",
       "      throw err;\n",
       "    }\n",
       "\n",
       "    function displayChart(vegaEmbed) {\n",
       "      vegaEmbed(outputDiv, spec, embedOpt)\n",
       "        .catch(err => showError(`Javascript Error: ${err.message}<br>This usually means there's a typo in your chart specification. See the javascript console for the full traceback.`));\n",
       "    }\n",
       "\n",
       "    if(typeof define === \"function\" && define.amd) {\n",
       "      requirejs.config({paths});\n",
       "      require([\"vega-embed\"], displayChart, err => showError(`Error loading script: ${err.message}`));\n",
       "    } else if (typeof vegaEmbed === \"function\") {\n",
       "      displayChart(vegaEmbed);\n",
       "    } else {\n",
       "      loadScript(\"vega\")\n",
       "        .then(() => loadScript(\"vega-lite\"))\n",
       "        .then(() => loadScript(\"vega-embed\"))\n",
       "        .catch(showError)\n",
       "        .then(() => displayChart(vegaEmbed));\n",
       "    }\n",
       "  })({\"config\": {\"view\": {\"continuousWidth\": 400, \"continuousHeight\": 300}}, \"data\": {\"name\": \"data-0f1897ad11d3e3dab543733a6c6ec8e6\"}, \"mark\": \"bar\", \"encoding\": {\"x\": {\"type\": \"quantitative\", \"field\": \"art_prop\"}, \"y\": {\"type\": \"nominal\", \"field\": \"country\", \"sort\": \"-x\"}}, \"$schema\": \"https://vega.github.io/schema/vega-lite/v4.8.1.json\", \"datasets\": {\"data-0f1897ad11d3e3dab543733a6c6ec8e6\": [{\"country\": \"Albania\", \"art_prop\": 1.6208597603946442}, {\"country\": \"New Zealand\", \"art_prop\": 1.5861239221977141}, {\"country\": \"Norway\", \"art_prop\": 1.2214590681269721}, {\"country\": \"Moldova\", \"art_prop\": 1.205091937765205}, {\"country\": \"Estonia\", \"art_prop\": 1.1495116453794139}, {\"country\": \"Sao Tome and Principe\", \"art_prop\": 1.0476190476190477}, {\"country\": \"Finland\", \"art_prop\": 1.0345451257008502}, {\"country\": \"Lithuania\", \"art_prop\": 0.887616320687187}, {\"country\": \"Cyprus\", \"art_prop\": 0.8450704225352113}, {\"country\": \"Uruguay\", \"art_prop\": 0.8212970829793259}]}}, {\"mode\": \"vega-lite\"});\n",
       "</script>"
      ],
      "text/plain": [
       "alt.Chart(...)"
      ]
     },
     "execution_count": 492,
     "metadata": {},
     "output_type": "execute_result"
    }
   ],
   "source": [
    "alt.Chart(pop_artc_propotion_df.sort_values(by=['art_prop'], ascending=False)[1:11] ).mark_bar().encode(\n",
    "    y = alt.Y('country:N', sort='-x'),\n",
    "    x = alt.X('art_prop:Q')\n",
    ")"
   ]
  },
  {
   "cell_type": "markdown",
   "metadata": {},
   "source": [
    "2. **Bottom 10 countries by coverage**<br>10 lowest-ranked countries in terms of number of politician articles as a proportion of country population"
   ]
  },
  {
   "cell_type": "code",
   "execution_count": 490,
   "metadata": {},
   "outputs": [
    {
     "data": {
      "text/html": [
       "\n",
       "<div id=\"altair-viz-bfacbc9a8c23430d9e8f7cc7bd9f375a\"></div>\n",
       "<script type=\"text/javascript\">\n",
       "  (function(spec, embedOpt){\n",
       "    let outputDiv = document.currentScript.previousElementSibling;\n",
       "    if (outputDiv.id !== \"altair-viz-bfacbc9a8c23430d9e8f7cc7bd9f375a\") {\n",
       "      outputDiv = document.getElementById(\"altair-viz-bfacbc9a8c23430d9e8f7cc7bd9f375a\");\n",
       "    }\n",
       "    const paths = {\n",
       "      \"vega\": \"https://cdn.jsdelivr.net/npm//vega@5?noext\",\n",
       "      \"vega-lib\": \"https://cdn.jsdelivr.net/npm//vega-lib?noext\",\n",
       "      \"vega-lite\": \"https://cdn.jsdelivr.net/npm//vega-lite@4.8.1?noext\",\n",
       "      \"vega-embed\": \"https://cdn.jsdelivr.net/npm//vega-embed@6?noext\",\n",
       "    };\n",
       "\n",
       "    function loadScript(lib) {\n",
       "      return new Promise(function(resolve, reject) {\n",
       "        var s = document.createElement('script');\n",
       "        s.src = paths[lib];\n",
       "        s.async = true;\n",
       "        s.onload = () => resolve(paths[lib]);\n",
       "        s.onerror = () => reject(`Error loading script: ${paths[lib]}`);\n",
       "        document.getElementsByTagName(\"head\")[0].appendChild(s);\n",
       "      });\n",
       "    }\n",
       "\n",
       "    function showError(err) {\n",
       "      outputDiv.innerHTML = `<div class=\"error\" style=\"color:red;\">${err}</div>`;\n",
       "      throw err;\n",
       "    }\n",
       "\n",
       "    function displayChart(vegaEmbed) {\n",
       "      vegaEmbed(outputDiv, spec, embedOpt)\n",
       "        .catch(err => showError(`Javascript Error: ${err.message}<br>This usually means there's a typo in your chart specification. See the javascript console for the full traceback.`));\n",
       "    }\n",
       "\n",
       "    if(typeof define === \"function\" && define.amd) {\n",
       "      requirejs.config({paths});\n",
       "      require([\"vega-embed\"], displayChart, err => showError(`Error loading script: ${err.message}`));\n",
       "    } else if (typeof vegaEmbed === \"function\") {\n",
       "      displayChart(vegaEmbed);\n",
       "    } else {\n",
       "      loadScript(\"vega\")\n",
       "        .then(() => loadScript(\"vega-lite\"))\n",
       "        .then(() => loadScript(\"vega-embed\"))\n",
       "        .catch(showError)\n",
       "        .then(() => displayChart(vegaEmbed));\n",
       "    }\n",
       "  })({\"config\": {\"view\": {\"continuousWidth\": 400, \"continuousHeight\": 300}}, \"data\": {\"name\": \"data-05042d7fe04cbfd11acb1fac346cbb13\"}, \"mark\": \"bar\", \"encoding\": {\"x\": {\"type\": \"quantitative\", \"field\": \"art_prop\"}, \"y\": {\"type\": \"nominal\", \"field\": \"country\", \"sort\": \"x\"}}, \"$schema\": \"https://vega.github.io/schema/vega-lite/v4.8.1.json\", \"datasets\": {\"data-05042d7fe04cbfd11acb1fac346cbb13\": [{\"country\": \"Guyana\", \"art_prop\": 0.00025412960609911054}, {\"country\": \"Belize\", \"art_prop\": 0.00038186157517899763}, {\"country\": \"Djibouti\", \"art_prop\": 0.00039473684210526315}, {\"country\": \"Barbados\", \"art_prop\": 0.0004878048780487805}, {\"country\": \"Bahamas\", \"art_prop\": 0.0005089058524173028}, {\"country\": \"Suriname\", \"art_prop\": 0.0006611570247933885}, {\"country\": \"Cape Verde\", \"art_prop\": 0.0006654676258992806}, {\"country\": \"French Guiana\", \"art_prop\": 0.0009523809523809524}, {\"country\": \"Martinique\", \"art_prop\": 0.0009550561797752808}, {\"country\": \"Montenegro\", \"art_prop\": 0.001189710610932476}]}}, {\"mode\": \"vega-lite\"});\n",
       "</script>"
      ],
      "text/plain": [
       "alt.Chart(...)"
      ]
     },
     "execution_count": 490,
     "metadata": {},
     "output_type": "execute_result"
    }
   ],
   "source": [
    "alt.Chart(pop_artc_propotion_df.sort_values(by=['art_prop'], ascending=True)[:10] ).mark_bar().encode(\n",
    "    y = alt.Y('country:N', sort='x'),\n",
    "    x = alt.X('art_prop:Q')\n",
    ")"
   ]
  },
  {
   "cell_type": "markdown",
   "metadata": {},
   "source": [
    "3. **Top 10 countries by relative quality**<br>10 highest-ranked countries in terms of the relative proportion of politician articles that are of GA and FA-quality"
   ]
  },
  {
   "cell_type": "code",
   "execution_count": 582,
   "metadata": {},
   "outputs": [],
   "source": [
    "artc_quality_rank_df = pd.DataFrame({'country': [], 'high_ratio': [] , 'all articles': [], 'high_quality_art': [] }, columns = ['country', 'high_ratio', 'all articles','high_quality_art'])\n",
    "#countries = pd.unique(merged_df_pop['country'])\n",
    "#ratio: (sum(articles)/population) * 100\n",
    "\n",
    "for country in countries:\n",
    "    \n",
    "    all_articles  = len(merged_df_pop[(merged_df_pop['country'] == country)])\n",
    "    good_articles = len(merged_df_pop[(merged_df_pop['country'] == country) & ((merged_df_pop['quality'] == 'FA') | (merged_df_pop['quality'] == 'GA'))])\n",
    "                                     \n",
    "    if(good_articles > 0):\n",
    "        good_art_ratio = good_articles / all_articles \n",
    "    else:\n",
    "        good_art_ratio = 0\n",
    " \n",
    "    new_row = pd.Series(data={'country':country, \n",
    "                              'high_ratio': good_art_ratio,\n",
    "                               'all articles': all_articles,\n",
    "                               'high_quality_art': good_articles})\n",
    "\n",
    "    artc_quality_rank_df = artc_quality_rank_df.append(new_row, ignore_index=True)"
   ]
  },
  {
   "cell_type": "code",
   "execution_count": 583,
   "metadata": {},
   "outputs": [
    {
     "data": {
      "text/html": [
       "<div>\n",
       "<style scoped>\n",
       "    .dataframe tbody tr th:only-of-type {\n",
       "        vertical-align: middle;\n",
       "    }\n",
       "\n",
       "    .dataframe tbody tr th {\n",
       "        vertical-align: top;\n",
       "    }\n",
       "\n",
       "    .dataframe thead th {\n",
       "        text-align: right;\n",
       "    }\n",
       "</style>\n",
       "<table border=\"1\" class=\"dataframe\">\n",
       "  <thead>\n",
       "    <tr style=\"text-align: right;\">\n",
       "      <th></th>\n",
       "      <th>country</th>\n",
       "      <th>high_ratio</th>\n",
       "      <th>all articles</th>\n",
       "      <th>high_quality_art</th>\n",
       "    </tr>\n",
       "  </thead>\n",
       "  <tbody>\n",
       "    <tr>\n",
       "      <th>0</th>\n",
       "      <td>Zambia</td>\n",
       "      <td>0.000000</td>\n",
       "      <td>26.0</td>\n",
       "      <td>0.0</td>\n",
       "    </tr>\n",
       "    <tr>\n",
       "      <th>1</th>\n",
       "      <td>Chad</td>\n",
       "      <td>0.010000</td>\n",
       "      <td>100.0</td>\n",
       "      <td>1.0</td>\n",
       "    </tr>\n",
       "    <tr>\n",
       "      <th>2</th>\n",
       "      <td>Zimbabwe</td>\n",
       "      <td>0.011976</td>\n",
       "      <td>167.0</td>\n",
       "      <td>2.0</td>\n",
       "    </tr>\n",
       "    <tr>\n",
       "      <th>3</th>\n",
       "      <td>Uganda</td>\n",
       "      <td>0.005319</td>\n",
       "      <td>188.0</td>\n",
       "      <td>1.0</td>\n",
       "    </tr>\n",
       "    <tr>\n",
       "      <th>4</th>\n",
       "      <td>Namibia</td>\n",
       "      <td>0.000000</td>\n",
       "      <td>165.0</td>\n",
       "      <td>0.0</td>\n",
       "    </tr>\n",
       "    <tr>\n",
       "      <th>...</th>\n",
       "      <td>...</td>\n",
       "      <td>...</td>\n",
       "      <td>...</td>\n",
       "      <td>...</td>\n",
       "    </tr>\n",
       "    <tr>\n",
       "      <th>178</th>\n",
       "      <td>Dominica</td>\n",
       "      <td>0.083333</td>\n",
       "      <td>12.0</td>\n",
       "      <td>1.0</td>\n",
       "    </tr>\n",
       "    <tr>\n",
       "      <th>179</th>\n",
       "      <td>Bahamas</td>\n",
       "      <td>0.000000</td>\n",
       "      <td>20.0</td>\n",
       "      <td>0.0</td>\n",
       "    </tr>\n",
       "    <tr>\n",
       "      <th>180</th>\n",
       "      <td>Barbados</td>\n",
       "      <td>0.000000</td>\n",
       "      <td>14.0</td>\n",
       "      <td>0.0</td>\n",
       "    </tr>\n",
       "    <tr>\n",
       "      <th>181</th>\n",
       "      <td>Belize</td>\n",
       "      <td>0.000000</td>\n",
       "      <td>16.0</td>\n",
       "      <td>0.0</td>\n",
       "    </tr>\n",
       "    <tr>\n",
       "      <th>182</th>\n",
       "      <td>Seychelles</td>\n",
       "      <td>0.000000</td>\n",
       "      <td>22.0</td>\n",
       "      <td>0.0</td>\n",
       "    </tr>\n",
       "  </tbody>\n",
       "</table>\n",
       "<p>183 rows × 4 columns</p>\n",
       "</div>"
      ],
      "text/plain": [
       "        country  high_ratio  all articles  high_quality_art\n",
       "0        Zambia    0.000000          26.0               0.0\n",
       "1          Chad    0.010000         100.0               1.0\n",
       "2      Zimbabwe    0.011976         167.0               2.0\n",
       "3        Uganda    0.005319         188.0               1.0\n",
       "4       Namibia    0.000000         165.0               0.0\n",
       "..          ...         ...           ...               ...\n",
       "178    Dominica    0.083333          12.0               1.0\n",
       "179     Bahamas    0.000000          20.0               0.0\n",
       "180    Barbados    0.000000          14.0               0.0\n",
       "181      Belize    0.000000          16.0               0.0\n",
       "182  Seychelles    0.000000          22.0               0.0\n",
       "\n",
       "[183 rows x 4 columns]"
      ]
     },
     "execution_count": 583,
     "metadata": {},
     "output_type": "execute_result"
    }
   ],
   "source": [
    "artc_quality_rank_df "
   ]
  },
  {
   "cell_type": "code",
   "execution_count": 584,
   "metadata": {},
   "outputs": [],
   "source": [
    "artc_quality_rank_df = artc_quality_rank_df[artc_quality_rank_df['high_ratio'] > 0]"
   ]
  },
  {
   "cell_type": "code",
   "execution_count": 585,
   "metadata": {},
   "outputs": [
    {
     "data": {
      "text/plain": [
       "1"
      ]
     },
     "execution_count": 585,
     "metadata": {},
     "output_type": "execute_result"
    }
   ],
   "source": [
    "country = 'Switzerland'\n",
    "len(merged_df_pop[(merged_df_pop['country'] == country) & ((merged_df_pop['quality'] == 'FA') | (merged_df_pop['quality'] == 'GA'))])"
   ]
  },
  {
   "cell_type": "code",
   "execution_count": 586,
   "metadata": {},
   "outputs": [
    {
     "data": {
      "text/plain": [
       "407"
      ]
     },
     "execution_count": 586,
     "metadata": {},
     "output_type": "execute_result"
    }
   ],
   "source": [
    "len(merged_df_pop[(merged_df_pop['country'] == country )])"
   ]
  },
  {
   "cell_type": "code",
   "execution_count": 587,
   "metadata": {},
   "outputs": [
    {
     "data": {
      "text/plain": [
       "country             Korea, North\n",
       "high_ratio              0.205128\n",
       "all articles                  39\n",
       "high_quality_art               8\n",
       "Name: 117, dtype: object"
      ]
     },
     "execution_count": 587,
     "metadata": {},
     "output_type": "execute_result"
    }
   ],
   "source": [
    "artc_quality_rank_df.iloc[artc_quality_rank_df['high_ratio'].argmax()]"
   ]
  },
  {
   "cell_type": "code",
   "execution_count": 588,
   "metadata": {},
   "outputs": [
    {
     "data": {
      "text/plain": [
       "country                Belgium\n",
       "high_ratio          0.00191205\n",
       "all articles               523\n",
       "high_quality_art             1\n",
       "Name: 64, dtype: object"
      ]
     },
     "execution_count": 588,
     "metadata": {},
     "output_type": "execute_result"
    }
   ],
   "source": [
    "artc_quality_rank_df.iloc[artc_quality_rank_df['high_ratio'].argmin()]"
   ]
  },
  {
   "cell_type": "code",
   "execution_count": 589,
   "metadata": {},
   "outputs": [],
   "source": [
    "top_10 = alt.Chart(artc_quality_rank_df.sort_values(by=['high_ratio'], ascending=False)[:10] ).mark_bar().encode(\n",
    "    y = alt.Y('country:N', sort='-x'),\n",
    "    x = alt.X('high_ratio:Q'),\n",
    "    tooltip = ['all articles:Q', 'high_quality_art:Q']\n",
    ")"
   ]
  },
  {
   "cell_type": "markdown",
   "metadata": {},
   "source": [
    "4. **Bottom 10 countries by relative quality**<br>10 lowest-ranked countries in terms of the relative proportion of politician articles that are of GA and FA-quality"
   ]
  },
  {
   "cell_type": "code",
   "execution_count": 590,
   "metadata": {},
   "outputs": [],
   "source": [
    "bottom_10 = alt.Chart(artc_quality_rank_df.sort_values(by=['high_ratio'], ascending=True)[:10] ).mark_bar().encode(\n",
    "    y = alt.Y('country:N', sort='x'),\n",
    "    x = alt.X('high_ratio:Q'),\n",
    "    tooltip = ['all articles:Q', 'high_quality_art:Q']\n",
    ")"
   ]
  },
  {
   "cell_type": "code",
   "execution_count": 591,
   "metadata": {},
   "outputs": [
    {
     "data": {
      "text/html": [
       "\n",
       "<div id=\"altair-viz-171db85bd62440f69510753f6966285b\"></div>\n",
       "<script type=\"text/javascript\">\n",
       "  (function(spec, embedOpt){\n",
       "    let outputDiv = document.currentScript.previousElementSibling;\n",
       "    if (outputDiv.id !== \"altair-viz-171db85bd62440f69510753f6966285b\") {\n",
       "      outputDiv = document.getElementById(\"altair-viz-171db85bd62440f69510753f6966285b\");\n",
       "    }\n",
       "    const paths = {\n",
       "      \"vega\": \"https://cdn.jsdelivr.net/npm//vega@5?noext\",\n",
       "      \"vega-lib\": \"https://cdn.jsdelivr.net/npm//vega-lib?noext\",\n",
       "      \"vega-lite\": \"https://cdn.jsdelivr.net/npm//vega-lite@4.8.1?noext\",\n",
       "      \"vega-embed\": \"https://cdn.jsdelivr.net/npm//vega-embed@6?noext\",\n",
       "    };\n",
       "\n",
       "    function loadScript(lib) {\n",
       "      return new Promise(function(resolve, reject) {\n",
       "        var s = document.createElement('script');\n",
       "        s.src = paths[lib];\n",
       "        s.async = true;\n",
       "        s.onload = () => resolve(paths[lib]);\n",
       "        s.onerror = () => reject(`Error loading script: ${paths[lib]}`);\n",
       "        document.getElementsByTagName(\"head\")[0].appendChild(s);\n",
       "      });\n",
       "    }\n",
       "\n",
       "    function showError(err) {\n",
       "      outputDiv.innerHTML = `<div class=\"error\" style=\"color:red;\">${err}</div>`;\n",
       "      throw err;\n",
       "    }\n",
       "\n",
       "    function displayChart(vegaEmbed) {\n",
       "      vegaEmbed(outputDiv, spec, embedOpt)\n",
       "        .catch(err => showError(`Javascript Error: ${err.message}<br>This usually means there's a typo in your chart specification. See the javascript console for the full traceback.`));\n",
       "    }\n",
       "\n",
       "    if(typeof define === \"function\" && define.amd) {\n",
       "      requirejs.config({paths});\n",
       "      require([\"vega-embed\"], displayChart, err => showError(`Error loading script: ${err.message}`));\n",
       "    } else if (typeof vegaEmbed === \"function\") {\n",
       "      displayChart(vegaEmbed);\n",
       "    } else {\n",
       "      loadScript(\"vega\")\n",
       "        .then(() => loadScript(\"vega-lite\"))\n",
       "        .then(() => loadScript(\"vega-embed\"))\n",
       "        .catch(showError)\n",
       "        .then(() => displayChart(vegaEmbed));\n",
       "    }\n",
       "  })({\"config\": {\"view\": {\"continuousWidth\": 400, \"continuousHeight\": 300}}, \"vconcat\": [{\"data\": {\"name\": \"data-6abaf6c6152faabbe6e700245b6f7fb3\"}, \"mark\": \"bar\", \"encoding\": {\"tooltip\": [{\"type\": \"quantitative\", \"field\": \"all articles\"}, {\"type\": \"quantitative\", \"field\": \"high_quality_art\"}], \"x\": {\"type\": \"quantitative\", \"field\": \"high_ratio\"}, \"y\": {\"type\": \"nominal\", \"field\": \"country\", \"sort\": \"-x\"}}}, {\"data\": {\"name\": \"data-cfb283aa87efedcc5942af65e9155039\"}, \"mark\": \"bar\", \"encoding\": {\"tooltip\": [{\"type\": \"quantitative\", \"field\": \"all articles\"}, {\"type\": \"quantitative\", \"field\": \"high_quality_art\"}], \"x\": {\"type\": \"quantitative\", \"field\": \"high_ratio\"}, \"y\": {\"type\": \"nominal\", \"field\": \"country\", \"sort\": \"x\"}}}], \"$schema\": \"https://vega.github.io/schema/vega-lite/v4.8.1.json\", \"datasets\": {\"data-6abaf6c6152faabbe6e700245b6f7fb3\": [{\"country\": \"Korea, North\", \"high_ratio\": 0.20512820512820512, \"all articles\": 39.0, \"high_quality_art\": 8.0}, {\"country\": \"Saudi Arabia\", \"high_ratio\": 0.12605042016806722, \"all articles\": 119.0, \"high_quality_art\": 15.0}, {\"country\": \"Romania\", \"high_ratio\": 0.1206896551724138, \"all articles\": 348.0, \"high_quality_art\": 42.0}, {\"country\": \"Central African Republic\", \"high_ratio\": 0.11764705882352941, \"all articles\": 68.0, \"high_quality_art\": 8.0}, {\"country\": \"Uzbekistan\", \"high_ratio\": 0.10344827586206896, \"all articles\": 29.0, \"high_quality_art\": 3.0}, {\"country\": \"Mauritania\", \"high_ratio\": 0.09615384615384616, \"all articles\": 52.0, \"high_quality_art\": 5.0}, {\"country\": \"Dominica\", \"high_ratio\": 0.08333333333333333, \"all articles\": 12.0, \"high_quality_art\": 1.0}, {\"country\": \"Guatemala\", \"high_ratio\": 0.08333333333333333, \"all articles\": 84.0, \"high_quality_art\": 7.0}, {\"country\": \"Syria\", \"high_ratio\": 0.07575757575757576, \"all articles\": 132.0, \"high_quality_art\": 10.0}, {\"country\": \"Benin\", \"high_ratio\": 0.07446808510638298, \"all articles\": 94.0, \"high_quality_art\": 7.0}], \"data-cfb283aa87efedcc5942af65e9155039\": [{\"country\": \"Belgium\", \"high_ratio\": 0.0019120458891013384, \"all articles\": 523.0, \"high_quality_art\": 1.0}, {\"country\": \"Tanzania\", \"high_ratio\": 0.0024509803921568627, \"all articles\": 408.0, \"high_quality_art\": 1.0}, {\"country\": \"Switzerland\", \"high_ratio\": 0.002457002457002457, \"all articles\": 407.0, \"high_quality_art\": 1.0}, {\"country\": \"Nepal\", \"high_ratio\": 0.0027548209366391185, \"all articles\": 363.0, \"high_quality_art\": 1.0}, {\"country\": \"Peru\", \"high_ratio\": 0.002824858757062147, \"all articles\": 354.0, \"high_quality_art\": 1.0}, {\"country\": \"Nigeria\", \"high_ratio\": 0.0029239766081871343, \"all articles\": 684.0, \"high_quality_art\": 2.0}, {\"country\": \"Portugal\", \"high_ratio\": 0.0030959752321981426, \"all articles\": 323.0, \"high_quality_art\": 1.0}, {\"country\": \"Colombia\", \"high_ratio\": 0.003472222222222222, \"all articles\": 288.0, \"high_quality_art\": 1.0}, {\"country\": \"Lithuania\", \"high_ratio\": 0.004032258064516129, \"all articles\": 248.0, \"high_quality_art\": 1.0}, {\"country\": \"Morocco\", \"high_ratio\": 0.004807692307692308, \"all articles\": 208.0, \"high_quality_art\": 1.0}]}}, {\"mode\": \"vega-lite\"});\n",
       "</script>"
      ],
      "text/plain": [
       "alt.VConcatChart(...)"
      ]
     },
     "execution_count": 591,
     "metadata": {},
     "output_type": "execute_result"
    }
   ],
   "source": [
    "top_10 & bottom_10"
   ]
  },
  {
   "cell_type": "markdown",
   "metadata": {},
   "source": [
    "5. **Regions by coverage**<br>Ranking of regions (in descending order) in terms of the total count of politician articles from countries in each region as a proportion of total regional population"
   ]
  },
  {
   "cell_type": "code",
   "execution_count": 419,
   "metadata": {},
   "outputs": [
    {
     "data": {
      "text/plain": [
       "array(['Fiji', 'Solomon Islands', 'India', 'Iceland', 'Luxembourg',\n",
       "       'United States', 'China', 'Djibouti', 'Vanuatu', 'Malta', 'Guyana',\n",
       "       'Maldives', 'Montenegro', 'Suriname', 'Martinique', 'Guadeloupe',\n",
       "       'Cape Verde', 'Bahamas', 'Belize'], dtype=object)"
      ]
     },
     "execution_count": 419,
     "metadata": {},
     "output_type": "execute_result"
    }
   ],
   "source": [
    "pd.unique(merged_df_pop[merged_df_pop['population'] > 300]['country'])"
   ]
  },
  {
   "cell_type": "markdown",
   "metadata": {},
   "source": [
    "***\n",
    "\n",
    "#### Credits\n",
    "\n",
    "This exercise is slighty adapted from the course [Human Centered Data Science (Fall 2019)](https://wiki.communitydata.science/Human_Centered_Data_Science_(Fall_2019)) of [Univeristy of Washington](https://www.washington.edu/datasciencemasters/) by [Jonathan T. Morgan](https://wiki.communitydata.science/User:Jtmorgan).\n",
    "\n",
    "Same as the original inventors, we release the notebooks under the [Creative Commons Attribution license (CC BY 4.0)](https://creativecommons.org/licenses/by/4.0/)."
   ]
  },
  {
   "cell_type": "code",
   "execution_count": null,
   "metadata": {},
   "outputs": [],
   "source": []
  },
  {
   "cell_type": "code",
   "execution_count": null,
   "metadata": {},
   "outputs": [],
   "source": []
  }
 ],
 "metadata": {
  "kernelspec": {
   "display_name": "Python 3",
   "language": "python",
   "name": "python3"
  },
  "language_info": {
   "codemirror_mode": {
    "name": "ipython",
    "version": 3
   },
   "file_extension": ".py",
   "mimetype": "text/x-python",
   "name": "python",
   "nbconvert_exporter": "python",
   "pygments_lexer": "ipython3",
   "version": "3.7.3"
  }
 },
 "nbformat": 4,
 "nbformat_minor": 2
}

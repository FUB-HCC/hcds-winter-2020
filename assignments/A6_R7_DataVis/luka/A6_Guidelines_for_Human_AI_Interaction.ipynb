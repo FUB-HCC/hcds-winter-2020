{
  "nbformat": 4,
  "nbformat_minor": 0,
  "metadata": {
    "colab": {
      "name": "A6 - Guidelines for Human-AI Interaction.ipynb",
      "provenance": [],
      "collapsed_sections": []
    },
    "kernelspec": {
      "name": "python3",
      "display_name": "Python 3"
    }
  },
  "cells": [
    {
      "cell_type": "markdown",
      "metadata": {
        "id": "58JR6hNegWx9"
      },
      "source": [
        "# **A6 - Guidelines for Human-AI interaction**\n",
        "\n"
      ]
    },
    {
      "cell_type": "markdown",
      "metadata": {
        "id": "JLJapCbpgpHA"
      },
      "source": [
        "## **2) Getting to know the context**\n",
        "\n",
        "### **2.1) What is the COMPAS dataset about? Describe the COMPAS dataset.**\n",
        "\n",
        "The COMPAS (\"*Correctional Offender Management Profiling for Alternative Sanctions*\") dataset is a tool used by judges and probation/parole officers to predict a criminals likelihood to re-offend. The dataset contains 14 features reaching from age, to fellony count, to race and gender. These categories are then again devided into numerical *(9)* and categorical *(5)* features. In addition information about the average, or most common values of a particular feature are included, as well as a few other related statistics (median, min, etc.). \n",
        "\n",
        "\n",
        "### **2.2)What kind of unfairness did ProPublica found in their analysis?**\n",
        "\n",
        "The Probublica analysis found a bias against African American people. White people with a similar or even more criminal background were often times predicted to be less likely to offend again. This was disputed by the analysis multiple times through, where criminal indiviuals were tracked for 2 years after their sentencing. Various examples show that many white individuals, who were considered a low risk, reoffended. This can also be seen in the table, where white individuals are much more likely to be labeled low risk, but actually reoffend, while when being labeled high risk, their chances of not offending again a substantially lower. Therefor both statistics show around a 20 % advantage for white indiviuals, which means black people are wrongly evaluated as being almost twice to reoffend.\n",
        "\n",
        "## **3) Understand the ProPublica analysis**\n",
        "\n",
        "### **3.3) Please describe your thoughts (positive and negative), when first looking and exploring the tool.**\n",
        "\n",
        "| pro  |  contra |\n",
        "|---|---|\n",
        "| Provides really nice overview of all the features and the prediction probability for each datapoint.|Getting started with the tool was a bit confusing at the first glance. | |The overview of each feature offers a good first impression on how each feature is distributed, this makes it easier to understand which feature  could play a more important role in the prediction.| |  Getting started with the tool was a bit confusing at the first glance. | \n",
        "| It is possible to create a similar feature like the selected datapoint  |   | \n",
        "| Visual performance exploration is a nice feature which also makes it possible to to adjust cost ratio for optimization  |   | \n",
        "\n",
        "---\n",
        "\n",
        "### **3.4) Note down (document) the steps you need to undertake in order to achieve a similar analysis result as ProPublica.**\n",
        "\n",
        "* on the site, select the *Performance and Fairness* column\n",
        "* as Ground Truth Feature select *recidivism_within_2_years*\n",
        "* for Slice by select *race*\n",
        "* now you are presented with a list of 6 ethnicities, out of which select *African-American* and *Caucasian*\n",
        "* at last, compare the two confusion matrices, where the differences as discribed in 2.2 can clearly be seen\n"
      ]
    }
  ]
}
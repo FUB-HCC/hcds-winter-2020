{
 "cells": [
  {
   "cell_type": "markdown",
   "metadata": {
    "id": "snh4MMZFnFe_"
   },
   "source": [
    "Human-Centrerd Data Science ([HCDS](https://www.mi.fu-berlin.de/en/inf/groups/hcc/teaching/winter_term_2020_21/course_human_centered_data_science.html)) - Winter Term 2020/21 - [HCC](https://www.mi.fu-berlin.de/en/inf/groups/hcc/index.html) | [Freie Universität Berlin](https://www.fu-berlin.de/)\n",
    "***\n",
    "# A1 - WarumUP"
   ]
  },
  {
   "cell_type": "markdown",
   "metadata": {
    "id": "vKa33F7pnFfA"
   },
   "source": [
    "During the exercises you will be reading and writing Python code in Jupyter notebooks. Let's unpack this a bit!\n",
    "\n",
    "🐍 Python is a programming language that has gained considerable traction over the last years, in various contexts, including data science and the digital humanities. If you have never written any Python before, it would be useful for you to familiarize yourself with the language, its basic constructs and conventions. It is popular for its versatility and readability. Speaking of which…\n",
    "\n",
    "📗 Jupyter notebooks are hybrid documents that contain both code and markup. So it becomes easy to mix programming and documentation. What you are looking at now is a text cell written in the markup language Markdown, further below you see code cells written in the programming language Python (note the light grey background), which contain computable code! When viewing the notebooks in Jupyter, you can double-click on any text cell to see its source.\n",
    "\n",
    "In this exercise you will get a bit acquainted with Python and Jupyter, and get to know a few handy libraries for working with data. If you already have experience, then it's still a good recap!"
   ]
  },
  {
   "cell_type": "markdown",
   "metadata": {
    "id": "Iu6KVbPWnFfC"
   },
   "source": [
    "## 🌍 Hello world \n",
    "\n",
    "Okay, enough words. Let's dive right into it and start with a classic:"
   ]
  },
  {
   "cell_type": "code",
   "execution_count": 1,
   "metadata": {
    "colab": {
     "base_uri": "https://localhost:8080/"
    },
    "id": "XTVnknoAnFfD",
    "outputId": "f2d73696-a383-4a40-f976-cfe6c54aa8bc"
   },
   "outputs": [
    {
     "name": "stdout",
     "output_type": "stream",
     "text": [
      "hello world\n"
     ]
    }
   ],
   "source": [
    "print(\"hello world\")"
   ]
  },
  {
   "cell_type": "markdown",
   "metadata": {
    "id": "_geuHBymnFfJ"
   },
   "source": [
    "The above code cell can be executed (i.e., run) by clicking `Shift + Enter`. Check out some CheatSheets [[1](https://www.edureka.co/blog/wp-content/uploads/2018/10/Jupyter_Notebook_CheatSheet_Edureka.pdf)] or [[2](https://cheatography.com/weidadeyue/cheat-sheets/jupyter-notebook/pdf_bw/)]❗\n",
    "\n",
    "Of course we can set variables and extend them. Feel free to change the message:"
   ]
  },
  {
   "cell_type": "code",
   "execution_count": 2,
   "metadata": {
    "colab": {
     "base_uri": "https://localhost:8080/",
     "height": 37
    },
    "id": "kondqJpFnFfK",
    "outputId": "78962086-8a09-4e8d-b5f6-2222454c735c"
   },
   "outputs": [
    {
     "data": {
      "text/plain": [
       "'hello world how are you!'"
      ]
     },
     "execution_count": 2,
     "metadata": {},
     "output_type": "execute_result"
    }
   ],
   "source": [
    "hello = \"hello world\"\n",
    "hello = hello + \" how are you!\"\n",
    "hello"
   ]
  },
  {
   "cell_type": "markdown",
   "metadata": {
    "id": "V1AcRq1ynFfN"
   },
   "source": [
    "Now that we have our first variable `hello` we can perform some string tricks, for example, we could change the capitalization. Please note: This will not change the variable `hello` itself , but will just return a capitalized new string."
   ]
  },
  {
   "cell_type": "code",
   "execution_count": 3,
   "metadata": {
    "colab": {
     "base_uri": "https://localhost:8080/",
     "height": 37
    },
    "id": "pFqLLVgUnFfO",
    "outputId": "0a449c4c-2f6e-44c1-f43c-dd41a9ad3556"
   },
   "outputs": [
    {
     "data": {
      "text/plain": [
       "'Hello World How Are You!'"
      ]
     },
     "execution_count": 3,
     "metadata": {},
     "output_type": "execute_result"
    }
   ],
   "source": [
    "hello.title()"
   ]
  },
  {
   "cell_type": "code",
   "execution_count": 4,
   "metadata": {
    "colab": {
     "base_uri": "https://localhost:8080/",
     "height": 37
    },
    "id": "0U32oAefnFfQ",
    "outputId": "7aa2c834-8c38-4468-af04-566f46ef457c"
   },
   "outputs": [
    {
     "data": {
      "text/plain": [
       "'HELLO WORLD HOW ARE YOU!'"
      ]
     },
     "execution_count": 4,
     "metadata": {},
     "output_type": "execute_result"
    }
   ],
   "source": [
    "hello.upper()"
   ]
  },
  {
   "cell_type": "markdown",
   "metadata": {
    "id": "BnKI-145nFfS"
   },
   "source": [
    "✏️ *Now it's your turn! The pencil stands for a small hands-on activity!*\n",
    "\n",
    "Try some string manipulations yourself. To get some inspiration, have a look at the [string methods](https://docs.python.org/3/library/stdtypes.html?#string-methods) that Python has built-in. Read the docs."
   ]
  },
  {
   "cell_type": "code",
   "execution_count": 5,
   "metadata": {
    "colab": {
     "base_uri": "https://localhost:8080/",
     "height": 37
    },
    "id": "abfYXIeVnFfT",
    "outputId": "1feeefac-5819-4ba2-c03a-d0e1b27521fb",
    "scrolled": false
   },
   "outputs": [
    {
     "data": {
      "text/plain": [
       "'hello world how are you!________________'"
      ]
     },
     "execution_count": 5,
     "metadata": {},
     "output_type": "execute_result"
    }
   ],
   "source": [
    "# Hands-on inspirations, check out the following!\n",
    "hello.center(30,' ')\n",
    "hello.count('o')\n",
    "hello.find('w')\n",
    "hello.swapcase()\n",
    "hello.startswith('hello')\n",
    "hello.endswith('hello')\n",
    "hello.split(' ')\n",
    "hello.ljust(40, '_')"
   ]
  },
  {
   "cell_type": "markdown",
   "metadata": {
    "id": "nRM1gEZLnFfV"
   },
   "source": [
    "## 📦 Let's get some packages\n",
    "\n",
    "Python itself provides only limited methods for working with more complex data. One of the main reasons for Python's (and  Jupyter's) popularity is the wide availability of software packages that provide powerful means for preparing, processing, presenting, and probing data. Throughout the exercises you will get to know a few packages, some of them highly specific tools and others more general-purpose libraries."
   ]
  },
  {
   "cell_type": "code",
   "execution_count": 6,
   "metadata": {
    "id": "GkytHCqBnFfV"
   },
   "outputs": [],
   "source": [
    "import pandas as pd"
   ]
  },
  {
   "cell_type": "markdown",
   "metadata": {
    "id": "W1EwQ0LznFfX"
   },
   "source": [
    "Now the powerful `pandas` package is loaded and will answer to its nickname `pd`.\n",
    "\n",
    "🐼 [Pandas](https://pandas.pydata.org) really is a data analysis workhorse with the DataFrame data structure being one of its main muscles. You will learn to love it! With pandas you can do simple and sophisticated operations over small and sizable datasets.\n",
    "\n",
    "Let's create a little toy dataset to give you a sense of how it works:"
   ]
  },
  {
   "cell_type": "code",
   "execution_count": 7,
   "metadata": {
    "colab": {
     "base_uri": "https://localhost:8080/",
     "height": 375
    },
    "id": "XDRmi4oEnFfX",
    "outputId": "8901e763-a635-4bbd-ff78-dfc475f8b172"
   },
   "outputs": [],
   "source": [
    "edits_data = pd.read_csv(\"page-edits-data.csv\", index_col=0)"
   ]
  },
  {
   "cell_type": "markdown",
   "metadata": {
    "id": "JURkq85rnFfY"
   },
   "source": [
    "This sample data `edits_data` contains the page edits of the Wikipedia article `COVID-19_pandemic` from the beginning of 2020 until now differentiated by `editor-type`.\n",
    "\n",
    "To check whether the DataFrame was created successfully, we can type the variable name `edits_data`, to display its content as an output:"
   ]
  },
  {
   "cell_type": "code",
   "execution_count": 8,
   "metadata": {
    "id": "-01-fG9enFfZ"
   },
   "outputs": [
    {
     "data": {
      "text/html": [
       "<div>\n",
       "<style scoped>\n",
       "    .dataframe tbody tr th:only-of-type {\n",
       "        vertical-align: middle;\n",
       "    }\n",
       "\n",
       "    .dataframe tbody tr th {\n",
       "        vertical-align: top;\n",
       "    }\n",
       "\n",
       "    .dataframe thead th {\n",
       "        text-align: right;\n",
       "    }\n",
       "</style>\n",
       "<table border=\"1\" class=\"dataframe\">\n",
       "  <thead>\n",
       "    <tr style=\"text-align: right;\">\n",
       "      <th></th>\n",
       "      <th>timestamp</th>\n",
       "      <th>all-editor-types</th>\n",
       "      <th>anonymous</th>\n",
       "      <th>group-bot</th>\n",
       "      <th>name-bot</th>\n",
       "      <th>user</th>\n",
       "    </tr>\n",
       "  </thead>\n",
       "  <tbody>\n",
       "    <tr>\n",
       "      <th>0</th>\n",
       "      <td>2020-01-01T00:00:00.000Z</td>\n",
       "      <td>0</td>\n",
       "      <td>0</td>\n",
       "      <td>0</td>\n",
       "      <td>0</td>\n",
       "      <td>0</td>\n",
       "    </tr>\n",
       "    <tr>\n",
       "      <th>1</th>\n",
       "      <td>2020-01-02T00:00:00.000Z</td>\n",
       "      <td>0</td>\n",
       "      <td>0</td>\n",
       "      <td>0</td>\n",
       "      <td>0</td>\n",
       "      <td>0</td>\n",
       "    </tr>\n",
       "    <tr>\n",
       "      <th>2</th>\n",
       "      <td>2020-01-03T00:00:00.000Z</td>\n",
       "      <td>0</td>\n",
       "      <td>0</td>\n",
       "      <td>0</td>\n",
       "      <td>0</td>\n",
       "      <td>0</td>\n",
       "    </tr>\n",
       "    <tr>\n",
       "      <th>3</th>\n",
       "      <td>2020-01-04T00:00:00.000Z</td>\n",
       "      <td>0</td>\n",
       "      <td>0</td>\n",
       "      <td>0</td>\n",
       "      <td>0</td>\n",
       "      <td>0</td>\n",
       "    </tr>\n",
       "    <tr>\n",
       "      <th>4</th>\n",
       "      <td>2020-01-05T00:00:00.000Z</td>\n",
       "      <td>3</td>\n",
       "      <td>0</td>\n",
       "      <td>0</td>\n",
       "      <td>0</td>\n",
       "      <td>3</td>\n",
       "    </tr>\n",
       "    <tr>\n",
       "      <th>...</th>\n",
       "      <td>...</td>\n",
       "      <td>...</td>\n",
       "      <td>...</td>\n",
       "      <td>...</td>\n",
       "      <td>...</td>\n",
       "      <td>...</td>\n",
       "    </tr>\n",
       "    <tr>\n",
       "      <th>269</th>\n",
       "      <td>2020-09-26T00:00:00.000Z</td>\n",
       "      <td>6</td>\n",
       "      <td>0</td>\n",
       "      <td>0</td>\n",
       "      <td>0</td>\n",
       "      <td>6</td>\n",
       "    </tr>\n",
       "    <tr>\n",
       "      <th>270</th>\n",
       "      <td>2020-09-27T00:00:00.000Z</td>\n",
       "      <td>10</td>\n",
       "      <td>0</td>\n",
       "      <td>0</td>\n",
       "      <td>0</td>\n",
       "      <td>10</td>\n",
       "    </tr>\n",
       "    <tr>\n",
       "      <th>271</th>\n",
       "      <td>2020-09-28T00:00:00.000Z</td>\n",
       "      <td>12</td>\n",
       "      <td>0</td>\n",
       "      <td>0</td>\n",
       "      <td>0</td>\n",
       "      <td>12</td>\n",
       "    </tr>\n",
       "    <tr>\n",
       "      <th>272</th>\n",
       "      <td>2020-09-29T00:00:00.000Z</td>\n",
       "      <td>7</td>\n",
       "      <td>0</td>\n",
       "      <td>0</td>\n",
       "      <td>0</td>\n",
       "      <td>7</td>\n",
       "    </tr>\n",
       "    <tr>\n",
       "      <th>273</th>\n",
       "      <td>2020-09-30T00:00:00.000Z</td>\n",
       "      <td>9</td>\n",
       "      <td>0</td>\n",
       "      <td>0</td>\n",
       "      <td>0</td>\n",
       "      <td>9</td>\n",
       "    </tr>\n",
       "  </tbody>\n",
       "</table>\n",
       "<p>274 rows × 6 columns</p>\n",
       "</div>"
      ],
      "text/plain": [
       "                    timestamp  all-editor-types  anonymous  group-bot  \\\n",
       "0    2020-01-01T00:00:00.000Z                 0          0          0   \n",
       "1    2020-01-02T00:00:00.000Z                 0          0          0   \n",
       "2    2020-01-03T00:00:00.000Z                 0          0          0   \n",
       "3    2020-01-04T00:00:00.000Z                 0          0          0   \n",
       "4    2020-01-05T00:00:00.000Z                 3          0          0   \n",
       "..                        ...               ...        ...        ...   \n",
       "269  2020-09-26T00:00:00.000Z                 6          0          0   \n",
       "270  2020-09-27T00:00:00.000Z                10          0          0   \n",
       "271  2020-09-28T00:00:00.000Z                12          0          0   \n",
       "272  2020-09-29T00:00:00.000Z                 7          0          0   \n",
       "273  2020-09-30T00:00:00.000Z                 9          0          0   \n",
       "\n",
       "     name-bot  user  \n",
       "0           0     0  \n",
       "1           0     0  \n",
       "2           0     0  \n",
       "3           0     0  \n",
       "4           0     3  \n",
       "..        ...   ...  \n",
       "269         0     6  \n",
       "270         0    10  \n",
       "271         0    12  \n",
       "272         0     7  \n",
       "273         0     9  \n",
       "\n",
       "[274 rows x 6 columns]"
      ]
     },
     "execution_count": 8,
     "metadata": {},
     "output_type": "execute_result"
    }
   ],
   "source": [
    "edits_data"
   ]
  },
  {
   "cell_type": "markdown",
   "metadata": {
    "id": "LC4aqCiPnFfa"
   },
   "source": [
    "The output generated by a code cell is printed right below it. In the case of a DataFrame we get a table. By convention, the rows are the data entries and the columns are the data dimensions. The first column on the left side is the index. You can also use `.info()` to get a summary of that dataframe."
   ]
  },
  {
   "cell_type": "code",
   "execution_count": 9,
   "metadata": {
    "id": "Dhrua8DLnFfb"
   },
   "outputs": [
    {
     "name": "stdout",
     "output_type": "stream",
     "text": [
      "<class 'pandas.core.frame.DataFrame'>\n",
      "Int64Index: 274 entries, 0 to 273\n",
      "Data columns (total 6 columns):\n",
      " #   Column            Non-Null Count  Dtype \n",
      "---  ------            --------------  ----- \n",
      " 0   timestamp         274 non-null    object\n",
      " 1   all-editor-types  274 non-null    int64 \n",
      " 2   anonymous         274 non-null    int64 \n",
      " 3   group-bot         274 non-null    int64 \n",
      " 4   name-bot          274 non-null    int64 \n",
      " 5   user              274 non-null    int64 \n",
      "dtypes: int64(5), object(1)\n",
      "memory usage: 15.0+ KB\n"
     ]
    }
   ],
   "source": [
    "edits_data.info()"
   ]
  },
  {
   "cell_type": "markdown",
   "metadata": {
    "id": "-AjsZnOnnFfc"
   },
   "source": [
    "Now let's do something with our newly created DataFrame. For example, we could get the largest amount of edits by editor-type `user` using the ```max``` method."
   ]
  },
  {
   "cell_type": "code",
   "execution_count": 10,
   "metadata": {
    "id": "_-FwY4h5nFfd"
   },
   "outputs": [
    {
     "data": {
      "text/plain": [
       "702"
      ]
     },
     "execution_count": 10,
     "metadata": {},
     "output_type": "execute_result"
    }
   ],
   "source": [
    "edits_data[\"user\"].max()"
   ]
  },
  {
   "cell_type": "markdown",
   "metadata": {
    "id": "0MZg8CNBnFfe"
   },
   "source": [
    "*✏️ What would it take to get the highest value of anonymous users?*"
   ]
  },
  {
   "cell_type": "code",
   "execution_count": 11,
   "metadata": {
    "id": "4jxHI8FFnFfe"
   },
   "outputs": [
    {
     "data": {
      "text/plain": [
       "anonymous    201\n",
       "user         702\n",
       "dtype: int64"
      ]
     },
     "execution_count": 11,
     "metadata": {},
     "output_type": "execute_result"
    }
   ],
   "source": [
    "edits_data[[\"anonymous\", \"user\"]].max()"
   ]
  },
  {
   "cell_type": "markdown",
   "metadata": {
    "id": "XIA4qMcrnFff"
   },
   "source": [
    "To get the entry belonging to the biggest amount of anonymous user, one needs to `loc`ate it via its index:"
   ]
  },
  {
   "cell_type": "code",
   "execution_count": 12,
   "metadata": {
    "id": "QBZLPdB7nFfg"
   },
   "outputs": [
    {
     "data": {
      "text/plain": [
       "timestamp           2020-01-26T00:00:00.000Z\n",
       "all-editor-types                         904\n",
       "anonymous                                201\n",
       "group-bot                                  1\n",
       "name-bot                                   0\n",
       "user                                     702\n",
       "Name: 25, dtype: object"
      ]
     },
     "execution_count": 12,
     "metadata": {},
     "output_type": "execute_result"
    }
   ],
   "source": [
    "edits_data.loc[ edits_data.anonymous.idxmax() ]"
   ]
  },
  {
   "cell_type": "markdown",
   "metadata": {
    "id": "7Kb-ARXvnFfh"
   },
   "source": [
    "Note: To access a specific column you can use (1) the dot operator (as with `.anonymous`) or passing a string to the indexing operator (as with `[\"users\"]`)."
   ]
  },
  {
   "cell_type": "markdown",
   "metadata": {
    "id": "trf9HT-wnFfh"
   },
   "source": [
    "We can also calculate averages for each numeric column by selecting them first and then calculating the mean:"
   ]
  },
  {
   "cell_type": "code",
   "execution_count": 13,
   "metadata": {
    "id": "Cm4wRlstnFfh"
   },
   "outputs": [
    {
     "data": {
      "text/plain": [
       "user         78.642336\n",
       "anonymous     2.671533\n",
       "group-bot     0.616788\n",
       "name-bot      0.018248\n",
       "dtype: float64"
      ]
     },
     "execution_count": 13,
     "metadata": {},
     "output_type": "execute_result"
    }
   ],
   "source": [
    "edits_data[['user', 'anonymous', 'group-bot', 'name-bot']].mean(axis=0)"
   ]
  },
  {
   "cell_type": "markdown",
   "metadata": {
    "id": "jkNE9MrYnFfi"
   },
   "source": [
    "There is so much more to discover, some of which you will do over the course of the exercise. The [DataFrame page](https://pandas.pydata.org/pandas-docs/stable/reference/api/pandas.DataFrame.html) in the pandas reference gives a complete (long) list of all methods provided by the data structure. \n",
    "\n",
    "If you want to do something specific, but do not know the particular method name, a well-formulated Google search query can help. In particular, the discussions on Stack Overflow contain various helpful entries. Quite often it is the case that somebody else has had a similar problem that you're trying to solve. The key then is to precisely formulate your query. For this, it is good to understand the basic terminology of Python, pandas, etc."
   ]
  },
  {
   "cell_type": "markdown",
   "metadata": {
    "id": "6mdF33uGnFfj"
   },
   "source": [
    "## 🌠 Let's reach for the stars ... \n",
    "\n",
    "... and plot some data. For data visualization we now just use the library `Matplotlib`. You can use any other library for plotting you are familiar with ([plotly](https://plotly.com/python/), [seaborn](https://seaborn.pydata.org/), [ggpot(2)](https://plotnine.readthedocs.io/en/stable/index.html), [altair](https://altair-viz.github.io/), [pygal](http://www.pygal.org/en/stable/)) or just use the one, which comes with pandas.\n",
    "\n",
    "We will visualize the ratio of editor types using different kinds of charts, first using `pandas` itself and then `matplotlib`. First, we have to prepare the data a bit. Second, we calculate the `sum()` per column, make a Dataframe `to_frame()` out of it (cause it returns a `Series`), and then drop the first three rows using `iloc[]`, cause we don't need them."
   ]
  },
  {
   "cell_type": "code",
   "execution_count": 14,
   "metadata": {
    "id": "TdWo3LyDnFfj"
   },
   "outputs": [],
   "source": [
    "visualizationplot_data = edits_data.sum().to_frame().iloc[2:]"
   ]
  },
  {
   "cell_type": "code",
   "execution_count": 15,
   "metadata": {
    "id": "ipgnzC_knFfk"
   },
   "outputs": [
    {
     "data": {
      "text/html": [
       "<div>\n",
       "<style scoped>\n",
       "    .dataframe tbody tr th:only-of-type {\n",
       "        vertical-align: middle;\n",
       "    }\n",
       "\n",
       "    .dataframe tbody tr th {\n",
       "        vertical-align: top;\n",
       "    }\n",
       "\n",
       "    .dataframe thead th {\n",
       "        text-align: right;\n",
       "    }\n",
       "</style>\n",
       "<table border=\"1\" class=\"dataframe\">\n",
       "  <thead>\n",
       "    <tr style=\"text-align: right;\">\n",
       "      <th></th>\n",
       "      <th>0</th>\n",
       "    </tr>\n",
       "  </thead>\n",
       "  <tbody>\n",
       "    <tr>\n",
       "      <th>anonymous</th>\n",
       "      <td>732</td>\n",
       "    </tr>\n",
       "    <tr>\n",
       "      <th>group-bot</th>\n",
       "      <td>169</td>\n",
       "    </tr>\n",
       "    <tr>\n",
       "      <th>name-bot</th>\n",
       "      <td>5</td>\n",
       "    </tr>\n",
       "    <tr>\n",
       "      <th>user</th>\n",
       "      <td>21548</td>\n",
       "    </tr>\n",
       "  </tbody>\n",
       "</table>\n",
       "</div>"
      ],
      "text/plain": [
       "               0\n",
       "anonymous    732\n",
       "group-bot    169\n",
       "name-bot       5\n",
       "user       21548"
      ]
     },
     "execution_count": 15,
     "metadata": {},
     "output_type": "execute_result"
    }
   ],
   "source": [
    "visualizationplot_data"
   ]
  },
  {
   "cell_type": "markdown",
   "metadata": {
    "id": "Fpwq_OiTnFfl"
   },
   "source": [
    "Let's create some basic bar plot:"
   ]
  },
  {
   "cell_type": "code",
   "execution_count": 16,
   "metadata": {
    "id": "0tkNSAgonFfl"
   },
   "outputs": [
    {
     "data": {
      "image/png": "[encoded data removed]",
      "text/plain": [
       "<Figure size 432x288 with 1 Axes>"
      ]
     },
     "metadata": {
      "needs_background": "light"
     },
     "output_type": "display_data"
    }
   ],
   "source": [
    "import matplotlib.pyplot as plt\n",
    "from matplotlib.colors import ListedColormap\n",
    "\n",
    "ax = visualizationplot_data.plot.bar()\n",
    "\n",
    "ax.set_xlabel('Editor Types')\n",
    "ax.set_ylabel('Number of Edits')\n",
    "ax.set_title('Number of edits of article XY')\n",
    "\n",
    "plt.show()"
   ]
  },
  {
   "cell_type": "markdown",
   "metadata": {
    "id": "yqOMEh2snFfn"
   },
   "source": [
    "*✏️ Plot a horizontal bar chart.*"
   ]
  },
  {
   "cell_type": "code",
   "execution_count": 17,
   "metadata": {
    "id": "mxhUP5RYnFfn"
   },
   "outputs": [
    {
     "data": {
      "image/png": "[encoded data removed]",
      "text/plain": [
       "<Figure size 432x288 with 1 Axes>"
      ]
     },
     "metadata": {
      "needs_background": "light"
     },
     "output_type": "display_data"
    }
   ],
   "source": [
    "ax = visualizationplot_data.plot.barh()\n",
    "\n",
    "ax.set_xlabel('Editor Types')\n",
    "ax.set_ylabel('Number of Edits')\n",
    "ax.set_title('Number of edits of article XY')\n",
    "\n",
    "plt.show()"
   ]
  },
  {
   "cell_type": "markdown",
   "metadata": {
    "id": "gHyVwWA6nFfo"
   },
   "source": [
    "*✏️ Now, plot a pie chart using your own color map!*"
   ]
  },
  {
   "cell_type": "code",
   "execution_count": 18,
   "metadata": {
    "id": "fM8I58yBnFfo"
   },
   "outputs": [
    {
     "data": {
      "image/png": "[encoded data removed]",
      "text/plain": [
       "<Figure size 504x504 with 1 Axes>"
      ]
     },
     "metadata": {},
     "output_type": "display_data"
    }
   ],
   "source": [
    "plot = visualizationplot_data.plot.pie(subplots=True, figsize=(7,7), colors = [\"red\", \"orange\", \"yellow\", \"blue\"])"
   ]
  },
  {
   "cell_type": "markdown",
   "metadata": {
    "id": "34pr9WTbnFfq"
   },
   "source": [
    "## 👀 Data wrangling\n",
    "This part of the exercise shows you a few tricks for preparing data for visualization. You will see how data can be loaded, parsed, and examined. For this we will continue to work with the **Pandas** package, in particular with the DataFrame data structure, and get to know a few additional helpers. "
   ]
  },
  {
   "cell_type": "markdown",
   "metadata": {
    "id": "U1si_hrPnFfq"
   },
   "source": [
    "### Loading \n",
    "\n",
    "The first step is to bring the data into the purview of your notebook. So regardless of data structure and format, you need to have access to the data set. We will briefly cover four common ways of loading data into your Jupyter notebook."
   ]
  },
  {
   "cell_type": "markdown",
   "metadata": {
    "id": "_WzeHEhUnFfq"
   },
   "source": [
    "#### Enter data directly\n",
    "\n",
    "The simplest way to add data to your notebook is to enter it verbatim into the notebook as we have seen with the capital cities in the first tutorial:"
   ]
  },
  {
   "cell_type": "code",
   "execution_count": 19,
   "metadata": {
    "id": "b16TyqP_nFfq"
   },
   "outputs": [
    {
     "data": {
      "text/html": [
       "<div>\n",
       "<style scoped>\n",
       "    .dataframe tbody tr th:only-of-type {\n",
       "        vertical-align: middle;\n",
       "    }\n",
       "\n",
       "    .dataframe tbody tr th {\n",
       "        vertical-align: top;\n",
       "    }\n",
       "\n",
       "    .dataframe thead th {\n",
       "        text-align: right;\n",
       "    }\n",
       "</style>\n",
       "<table border=\"1\" class=\"dataframe\">\n",
       "  <thead>\n",
       "    <tr style=\"text-align: right;\">\n",
       "      <th></th>\n",
       "      <th>name</th>\n",
       "      <th>area</th>\n",
       "      <th>elevation</th>\n",
       "      <th>population</th>\n",
       "    </tr>\n",
       "  </thead>\n",
       "  <tbody>\n",
       "    <tr>\n",
       "      <th>0</th>\n",
       "      <td>Athens</td>\n",
       "      <td>39.0</td>\n",
       "      <td>170</td>\n",
       "      <td>664046</td>\n",
       "    </tr>\n",
       "    <tr>\n",
       "      <th>1</th>\n",
       "      <td>Bratislava</td>\n",
       "      <td>367.6</td>\n",
       "      <td>152</td>\n",
       "      <td>429564</td>\n",
       "    </tr>\n",
       "    <tr>\n",
       "      <th>2</th>\n",
       "      <td>Copenhagen</td>\n",
       "      <td>86.2</td>\n",
       "      <td>14</td>\n",
       "      <td>602481</td>\n",
       "    </tr>\n",
       "    <tr>\n",
       "      <th>3</th>\n",
       "      <td>Dublin</td>\n",
       "      <td>115.0</td>\n",
       "      <td>20</td>\n",
       "      <td>553165</td>\n",
       "    </tr>\n",
       "  </tbody>\n",
       "</table>\n",
       "</div>"
      ],
      "text/plain": [
       "         name   area  elevation  population\n",
       "0      Athens   39.0        170      664046\n",
       "1  Bratislava  367.6        152      429564\n",
       "2  Copenhagen   86.2         14      602481\n",
       "3      Dublin  115.0         20      553165"
      ]
     },
     "execution_count": 19,
     "metadata": {},
     "output_type": "execute_result"
    }
   ],
   "source": [
    "cities = pd.DataFrame({\n",
    "  \"name\": [\"Athens\", \"Bratislava\", \"Copenhagen\", \"Dublin\"],\n",
    "  \"area\": [39, 367.6, 86.2, 115],\n",
    "  \"elevation\": [170, 152, 14, 20],\n",
    "  \"population\": [664046, 429564, 602481, 553165]\n",
    "  }\n",
    ")\n",
    "\n",
    "cities"
   ]
  },
  {
   "cell_type": "markdown",
   "metadata": {
    "id": "duMk6dMQnFfr"
   },
   "source": [
    "✏️ *Add a column for years when you have visited or plan to visit these cities*\n"
   ]
  },
  {
   "cell_type": "code",
   "execution_count": 20,
   "metadata": {
    "id": "79vXFM3JnFfr"
   },
   "outputs": [
    {
     "data": {
      "text/html": [
       "<div>\n",
       "<style scoped>\n",
       "    .dataframe tbody tr th:only-of-type {\n",
       "        vertical-align: middle;\n",
       "    }\n",
       "\n",
       "    .dataframe tbody tr th {\n",
       "        vertical-align: top;\n",
       "    }\n",
       "\n",
       "    .dataframe thead th {\n",
       "        text-align: right;\n",
       "    }\n",
       "</style>\n",
       "<table border=\"1\" class=\"dataframe\">\n",
       "  <thead>\n",
       "    <tr style=\"text-align: right;\">\n",
       "      <th></th>\n",
       "      <th>name</th>\n",
       "      <th>area</th>\n",
       "      <th>elevation</th>\n",
       "      <th>population</th>\n",
       "      <th>visit</th>\n",
       "    </tr>\n",
       "  </thead>\n",
       "  <tbody>\n",
       "    <tr>\n",
       "      <th>0</th>\n",
       "      <td>Athens</td>\n",
       "      <td>39.0</td>\n",
       "      <td>170</td>\n",
       "      <td>664046</td>\n",
       "      <td>2020</td>\n",
       "    </tr>\n",
       "    <tr>\n",
       "      <th>1</th>\n",
       "      <td>Bratislava</td>\n",
       "      <td>367.6</td>\n",
       "      <td>152</td>\n",
       "      <td>429564</td>\n",
       "      <td>2010</td>\n",
       "    </tr>\n",
       "    <tr>\n",
       "      <th>2</th>\n",
       "      <td>Copenhagen</td>\n",
       "      <td>86.2</td>\n",
       "      <td>14</td>\n",
       "      <td>602481</td>\n",
       "      <td>1999</td>\n",
       "    </tr>\n",
       "    <tr>\n",
       "      <th>3</th>\n",
       "      <td>Dublin</td>\n",
       "      <td>115.0</td>\n",
       "      <td>20</td>\n",
       "      <td>553165</td>\n",
       "      <td>2016</td>\n",
       "    </tr>\n",
       "  </tbody>\n",
       "</table>\n",
       "</div>"
      ],
      "text/plain": [
       "         name   area  elevation  population  visit\n",
       "0      Athens   39.0        170      664046   2020\n",
       "1  Bratislava  367.6        152      429564   2010\n",
       "2  Copenhagen   86.2         14      602481   1999\n",
       "3      Dublin  115.0         20      553165   2016"
      ]
     },
     "execution_count": 20,
     "metadata": {},
     "output_type": "execute_result"
    }
   ],
   "source": [
    "cities[\"visit\"] = [2020, 2010, 1999, 2016]\n",
    "cities"
   ]
  },
  {
   "cell_type": "markdown",
   "metadata": {
    "id": "o3ITDB3mnFfs"
   },
   "source": [
    "#### Open a local file\n",
    "\n",
    "You might also want to open a local file. We can open a file using Python's built-in `Zipfile` method in a context manager, after which we can `read()` its contents into the variable `covid_json`. The file is automatically closed when the context manager block is left. In this case the data is in the JSON format, which we will need to parse. We'll get to this later. You can open all kinds of formats. Here we know that we are dealing with a JSON file because of its extension."
   ]
  },
  {
   "cell_type": "code",
   "execution_count": 21,
   "metadata": {
    "id": "tFNj0I_nnFft"
   },
   "outputs": [],
   "source": [
    "from zipfile import ZipFile\n",
    "\n",
    "with ZipFile(\"owid-covid-data.zip\", 'r') as file:\n",
    "    covid_json = file.read('owid-covid-data.json')"
   ]
  },
  {
   "cell_type": "code",
   "execution_count": 22,
   "metadata": {
    "id": "57jC9mVOnFfu"
   },
   "outputs": [
    {
     "data": {
      "text/plain": [
       "b'{\\n    \"AFG\": {\\n        \"continent\": \"Asia\",\\n        \"location\": \"Afghanistan\",\\n        \"population\": 38928341.0,\\n        \"population_density\": 54.422,\\n        \"median_age\": 18.6,\\n        \"aged_65_older\": 2.581,\\n        \"aged_70_older\": 1.337,\\n        \"gdp_per_capita\": 1803.987,\\n        \"cardiovasc_death_rate\": 597.029,\\n        \"diabetes_prevalence\": 9.59,\\n        \"handwashing_facilities\": 37.746,\\n        \"hospital_beds_per_thousand\": 0.5,\\n        \"life_expectancy\": 64.83,\\n        \"human_developm'"
      ]
     },
     "execution_count": 22,
     "metadata": {},
     "output_type": "execute_result"
    }
   ],
   "source": [
    "covid_json[:500] # this displays the first 500 characters"
   ]
  },
  {
   "cell_type": "markdown",
   "metadata": {
    "id": "3Wcv0FGJnFfv"
   },
   "source": [
    "#### Get data via a URL\n",
    "\n",
    "There are some methods that can directly load a dataset via a URL, i.e., a web address. For others you might have to retrieve the file first to continue parsing it. The `requests` package helps you to send HTTP requests and retrieve the responses. \n",
    "\n",
    "In the following, the news feed of Tagesschau is retrieved via an HTTP GET request. Note that the news feed is made available as an XML format; of course, you can retrieve all kinds of file formats using this method:"
   ]
  },
  {
   "cell_type": "code",
   "execution_count": 23,
   "metadata": {
    "id": "7-_ytV3YnFfv"
   },
   "outputs": [
    {
     "data": {
      "text/plain": [
       "'<?xml version=\"1.0\" encoding=\"UTF-8\" ?>\\n<?xml-stylesheet href=\"/resources/xsl/rss2.jsp\" type=\"text/xsl\"?>\\n<rss version=\"2.0\" xmlns:content=\"http://purl.org/rss/1.0/modules/content/\">\\n<channel>\\n<title>tagesschau.de - Die Nachrichten der ARD</title>\\n<link>https://www.tagesschau.de</link>\\n<description>tagesschau.de</description>\\n<language>de</language>\\n<copyright>ARD-aktuell / tagesschau.de</copyright>\\n<lastBuildDate>Tue, 10 Nov 2020 12:40:59 +0100</lastBuildDate>\\n<docs>http://blogs.law.harvard.edu'"
      ]
     },
     "execution_count": 23,
     "metadata": {},
     "output_type": "execute_result"
    }
   ],
   "source": [
    "import requests\n",
    "\n",
    "response = requests.get('https://www.tagesschau.de/xml/rss2/')\n",
    "tagesschau_xml = response.text\n",
    "tagesschau_xml[:500]"
   ]
  },
  {
   "cell_type": "markdown",
   "metadata": {
    "id": "eqAY1SnLnFfw"
   },
   "source": [
    "✏️ *Find the news feed for another webpage and try to load it!*"
   ]
  },
  {
   "cell_type": "code",
   "execution_count": 24,
   "metadata": {
    "id": "FpViLyePnFfw"
   },
   "outputs": [
    {
     "data": {
      "text/plain": [
       "'<!DOCTYPE html>\\n<html lang=\"en\"  xmlns:og=\"http://opengraphprotocol.org/schema/\">\\n  <head>\\n    <title data-rh=\"true\">The New York Times - Breaking News, US News, World News and Videos</title>\\n    <meta data-rh=\"true\" itemprop=\"inLanguage\" content=\"en-US\"/><meta data-rh=\"true\" name=\"robots\" content=\"noarchive,noodp,noydir\"/><meta data-rh=\"true\" name=\"application-name\" content=\"The New York Times\"/><meta data-rh=\"true\" name=\"msapplication-starturl\" content=\"https://www.nytimes.com\"/><meta data-rh='"
      ]
     },
     "execution_count": 24,
     "metadata": {},
     "output_type": "execute_result"
    }
   ],
   "source": [
    "response = requests.get(\"https://www.newyorktimes.com/xml/rss2/\")\n",
    "newyorktimes_xml = response.text\n",
    "newyorktimes_xml[:500]"
   ]
  },
  {
   "cell_type": "markdown",
   "metadata": {
    "id": "RSPK8ZLUnFfx"
   },
   "source": [
    "#### Use an API\n",
    "\n",
    "Some web platforms require the use of an API (application programming interface) to get access to their data. An API is a structured way to request and retrieve data. Oftentimes it is just a specific way to format the URL. The wikipedia edits data set we used in the beginning of this exercise was retrieved by using the [Wikimedia API](https://wikimedia.org/api/rest_v1/)."
   ]
  },
  {
   "cell_type": "code",
   "execution_count": 25,
   "metadata": {
    "id": "bcLqToLOnFfx"
   },
   "outputs": [],
   "source": [
    "headers = {\n",
    "    'User-Agent': 'https://github.com/aschle',\n",
    "    'From': 'alexa.schlegel@fu-berlin.de'\n",
    "}\n",
    "\n",
    "# Edpoint for getting Edits per Page\n",
    "ep = 'https://wikimedia.org/api/rest_v1/metrics/edits/per-page/en.wikipedia/Amy_Coney_Barrett/all-editor-types/daily/20200101/20201030'\n",
    "\n",
    "call = requests.get(ep, headers=headers)\n",
    "response = call.json()"
   ]
  },
  {
   "cell_type": "code",
   "execution_count": 26,
   "metadata": {
    "id": "s9eKeAlynFfy"
   },
   "outputs": [
    {
     "data": {
      "text/plain": [
       "{'items': [{'project': 'en.wikipedia',\n",
       "   'editor-type': 'all-editor-types',\n",
       "   'page-title': 'Amy_Coney_Barrett',\n",
       "   'granularity': 'daily',\n",
       "   'results': [{'timestamp': '2020-01-01T00:00:00.000Z', 'edits': 0},\n",
       "    {'timestamp': '2020-01-02T00:00:00.000Z', 'edits': 0},\n",
       "    {'timestamp': '2020-01-03T00:00:00.000Z', 'edits': 0},\n",
       "    {'timestamp': '2020-01-04T00:00:00.000Z', 'edits': 0},\n",
       "    {'timestamp': '2020-01-05T00:00:00.000Z', 'edits': 0},\n",
       "    {'timestamp': '2020-01-06T00:00:00.000Z', 'edits': 0},\n",
       "    {'timestamp': '2020-01-07T00:00:00.000Z', 'edits': 0},\n",
       "    {'timestamp': '2020-01-08T00:00:00.000Z', 'edits': 0},\n",
       "    {'timestamp': '2020-01-09T00:00:00.000Z', 'edits': 0},\n",
       "    {'timestamp': '2020-01-10T00:00:00.000Z', 'edits': 0},\n",
       "    {'timestamp': '2020-01-11T00:00:00.000Z', 'edits': 0},\n",
       "    {'timestamp': '2020-01-12T00:00:00.000Z', 'edits': 0},\n",
       "    {'timestamp': '2020-01-13T00:00:00.000Z', 'edits': 0},\n",
       "    {'timestamp': '2020-01-14T00:00:00.000Z', 'edits': 0},\n",
       "    {'timestamp': '2020-01-15T00:00:00.000Z', 'edits': 0},\n",
       "    {'timestamp': '2020-01-16T00:00:00.000Z', 'edits': 0},\n",
       "    {'timestamp': '2020-01-17T00:00:00.000Z', 'edits': 0},\n",
       "    {'timestamp': '2020-01-18T00:00:00.000Z', 'edits': 0},\n",
       "    {'timestamp': '2020-01-19T00:00:00.000Z', 'edits': 0},\n",
       "    {'timestamp': '2020-01-20T00:00:00.000Z', 'edits': 0},\n",
       "    {'timestamp': '2020-01-21T00:00:00.000Z', 'edits': 0},\n",
       "    {'timestamp': '2020-01-22T00:00:00.000Z', 'edits': 0},\n",
       "    {'timestamp': '2020-01-23T00:00:00.000Z', 'edits': 0},\n",
       "    {'timestamp': '2020-01-24T00:00:00.000Z', 'edits': 0},\n",
       "    {'timestamp': '2020-01-25T00:00:00.000Z', 'edits': 0},\n",
       "    {'timestamp': '2020-01-26T00:00:00.000Z', 'edits': 0},\n",
       "    {'timestamp': '2020-01-27T00:00:00.000Z', 'edits': 0},\n",
       "    {'timestamp': '2020-01-28T00:00:00.000Z', 'edits': 1},\n",
       "    {'timestamp': '2020-01-29T00:00:00.000Z', 'edits': 0},\n",
       "    {'timestamp': '2020-01-30T00:00:00.000Z', 'edits': 0},\n",
       "    {'timestamp': '2020-01-31T00:00:00.000Z', 'edits': 0},\n",
       "    {'timestamp': '2020-02-01T00:00:00.000Z', 'edits': 0},\n",
       "    {'timestamp': '2020-02-02T00:00:00.000Z', 'edits': 1},\n",
       "    {'timestamp': '2020-02-03T00:00:00.000Z', 'edits': 0},\n",
       "    {'timestamp': '2020-02-04T00:00:00.000Z', 'edits': 0},\n",
       "    {'timestamp': '2020-02-05T00:00:00.000Z', 'edits': 0},\n",
       "    {'timestamp': '2020-02-06T00:00:00.000Z', 'edits': 0},\n",
       "    {'timestamp': '2020-02-07T00:00:00.000Z', 'edits': 0},\n",
       "    {'timestamp': '2020-02-08T00:00:00.000Z', 'edits': 0},\n",
       "    {'timestamp': '2020-02-09T00:00:00.000Z', 'edits': 0},\n",
       "    {'timestamp': '2020-02-10T00:00:00.000Z', 'edits': 0},\n",
       "    {'timestamp': '2020-02-11T00:00:00.000Z', 'edits': 0},\n",
       "    {'timestamp': '2020-02-12T00:00:00.000Z', 'edits': 0},\n",
       "    {'timestamp': '2020-02-13T00:00:00.000Z', 'edits': 0},\n",
       "    {'timestamp': '2020-02-14T00:00:00.000Z', 'edits': 0},\n",
       "    {'timestamp': '2020-02-15T00:00:00.000Z', 'edits': 0},\n",
       "    {'timestamp': '2020-02-16T00:00:00.000Z', 'edits': 0},\n",
       "    {'timestamp': '2020-02-17T00:00:00.000Z', 'edits': 0},\n",
       "    {'timestamp': '2020-02-18T00:00:00.000Z', 'edits': 1},\n",
       "    {'timestamp': '2020-02-19T00:00:00.000Z', 'edits': 0},\n",
       "    {'timestamp': '2020-02-20T00:00:00.000Z', 'edits': 0},\n",
       "    {'timestamp': '2020-02-21T00:00:00.000Z', 'edits': 0},\n",
       "    {'timestamp': '2020-02-22T00:00:00.000Z', 'edits': 0},\n",
       "    {'timestamp': '2020-02-23T00:00:00.000Z', 'edits': 0},\n",
       "    {'timestamp': '2020-02-24T00:00:00.000Z', 'edits': 0},\n",
       "    {'timestamp': '2020-02-25T00:00:00.000Z', 'edits': 0},\n",
       "    {'timestamp': '2020-02-26T00:00:00.000Z', 'edits': 0},\n",
       "    {'timestamp': '2020-02-27T00:00:00.000Z', 'edits': 0},\n",
       "    {'timestamp': '2020-02-28T00:00:00.000Z', 'edits': 0},\n",
       "    {'timestamp': '2020-02-29T00:00:00.000Z', 'edits': 0},\n",
       "    {'timestamp': '2020-03-01T00:00:00.000Z', 'edits': 0},\n",
       "    {'timestamp': '2020-03-02T00:00:00.000Z', 'edits': 0},\n",
       "    {'timestamp': '2020-03-03T00:00:00.000Z', 'edits': 0},\n",
       "    {'timestamp': '2020-03-04T00:00:00.000Z', 'edits': 0},\n",
       "    {'timestamp': '2020-03-05T00:00:00.000Z', 'edits': 0},\n",
       "    {'timestamp': '2020-03-06T00:00:00.000Z', 'edits': 0},\n",
       "    {'timestamp': '2020-03-07T00:00:00.000Z', 'edits': 0},\n",
       "    {'timestamp': '2020-03-08T00:00:00.000Z', 'edits': 0},\n",
       "    {'timestamp': '2020-03-09T00:00:00.000Z', 'edits': 0},\n",
       "    {'timestamp': '2020-03-10T00:00:00.000Z', 'edits': 0},\n",
       "    {'timestamp': '2020-03-11T00:00:00.000Z', 'edits': 0},\n",
       "    {'timestamp': '2020-03-12T00:00:00.000Z', 'edits': 0},\n",
       "    {'timestamp': '2020-03-13T00:00:00.000Z', 'edits': 0},\n",
       "    {'timestamp': '2020-03-14T00:00:00.000Z', 'edits': 0},\n",
       "    {'timestamp': '2020-03-15T00:00:00.000Z', 'edits': 0},\n",
       "    {'timestamp': '2020-03-16T00:00:00.000Z', 'edits': 0},\n",
       "    {'timestamp': '2020-03-17T00:00:00.000Z', 'edits': 0},\n",
       "    {'timestamp': '2020-03-18T00:00:00.000Z', 'edits': 0},\n",
       "    {'timestamp': '2020-03-19T00:00:00.000Z', 'edits': 0},\n",
       "    {'timestamp': '2020-03-20T00:00:00.000Z', 'edits': 0},\n",
       "    {'timestamp': '2020-03-21T00:00:00.000Z', 'edits': 0},\n",
       "    {'timestamp': '2020-03-22T00:00:00.000Z', 'edits': 0},\n",
       "    {'timestamp': '2020-03-23T00:00:00.000Z', 'edits': 0},\n",
       "    {'timestamp': '2020-03-24T00:00:00.000Z', 'edits': 0},\n",
       "    {'timestamp': '2020-03-25T00:00:00.000Z', 'edits': 0},\n",
       "    {'timestamp': '2020-03-26T00:00:00.000Z', 'edits': 0},\n",
       "    {'timestamp': '2020-03-27T00:00:00.000Z', 'edits': 0},\n",
       "    {'timestamp': '2020-03-28T00:00:00.000Z', 'edits': 0},\n",
       "    {'timestamp': '2020-03-29T00:00:00.000Z', 'edits': 0},\n",
       "    {'timestamp': '2020-03-30T00:00:00.000Z', 'edits': 0},\n",
       "    {'timestamp': '2020-03-31T00:00:00.000Z', 'edits': 0},\n",
       "    {'timestamp': '2020-04-01T00:00:00.000Z', 'edits': 0},\n",
       "    {'timestamp': '2020-04-02T00:00:00.000Z', 'edits': 0},\n",
       "    {'timestamp': '2020-04-03T00:00:00.000Z', 'edits': 0},\n",
       "    {'timestamp': '2020-04-04T00:00:00.000Z', 'edits': 0},\n",
       "    {'timestamp': '2020-04-05T00:00:00.000Z', 'edits': 0},\n",
       "    {'timestamp': '2020-04-06T00:00:00.000Z', 'edits': 0},\n",
       "    {'timestamp': '2020-04-07T00:00:00.000Z', 'edits': 0},\n",
       "    {'timestamp': '2020-04-08T00:00:00.000Z', 'edits': 2},\n",
       "    {'timestamp': '2020-04-09T00:00:00.000Z', 'edits': 0},\n",
       "    {'timestamp': '2020-04-10T00:00:00.000Z', 'edits': 0},\n",
       "    {'timestamp': '2020-04-11T00:00:00.000Z', 'edits': 0},\n",
       "    {'timestamp': '2020-04-12T00:00:00.000Z', 'edits': 0},\n",
       "    {'timestamp': '2020-04-13T00:00:00.000Z', 'edits': 0},\n",
       "    {'timestamp': '2020-04-14T00:00:00.000Z', 'edits': 0},\n",
       "    {'timestamp': '2020-04-15T00:00:00.000Z', 'edits': 0},\n",
       "    {'timestamp': '2020-04-16T00:00:00.000Z', 'edits': 0},\n",
       "    {'timestamp': '2020-04-17T00:00:00.000Z', 'edits': 0},\n",
       "    {'timestamp': '2020-04-18T00:00:00.000Z', 'edits': 0},\n",
       "    {'timestamp': '2020-04-19T00:00:00.000Z', 'edits': 0},\n",
       "    {'timestamp': '2020-04-20T00:00:00.000Z', 'edits': 0},\n",
       "    {'timestamp': '2020-04-21T00:00:00.000Z', 'edits': 0},\n",
       "    {'timestamp': '2020-04-22T00:00:00.000Z', 'edits': 0},\n",
       "    {'timestamp': '2020-04-23T00:00:00.000Z', 'edits': 0},\n",
       "    {'timestamp': '2020-04-24T00:00:00.000Z', 'edits': 0},\n",
       "    {'timestamp': '2020-04-25T00:00:00.000Z', 'edits': 0},\n",
       "    {'timestamp': '2020-04-26T00:00:00.000Z', 'edits': 0},\n",
       "    {'timestamp': '2020-04-27T00:00:00.000Z', 'edits': 0},\n",
       "    {'timestamp': '2020-04-28T00:00:00.000Z', 'edits': 0},\n",
       "    {'timestamp': '2020-04-29T00:00:00.000Z', 'edits': 0},\n",
       "    {'timestamp': '2020-04-30T00:00:00.000Z', 'edits': 0},\n",
       "    {'timestamp': '2020-05-01T00:00:00.000Z', 'edits': 0},\n",
       "    {'timestamp': '2020-05-02T00:00:00.000Z', 'edits': 0},\n",
       "    {'timestamp': '2020-05-03T00:00:00.000Z', 'edits': 0},\n",
       "    {'timestamp': '2020-05-04T00:00:00.000Z', 'edits': 0},\n",
       "    {'timestamp': '2020-05-05T00:00:00.000Z', 'edits': 0},\n",
       "    {'timestamp': '2020-05-06T00:00:00.000Z', 'edits': 0},\n",
       "    {'timestamp': '2020-05-07T00:00:00.000Z', 'edits': 0},\n",
       "    {'timestamp': '2020-05-08T00:00:00.000Z', 'edits': 0},\n",
       "    {'timestamp': '2020-05-09T00:00:00.000Z', 'edits': 0},\n",
       "    {'timestamp': '2020-05-10T00:00:00.000Z', 'edits': 0},\n",
       "    {'timestamp': '2020-05-11T00:00:00.000Z', 'edits': 0},\n",
       "    {'timestamp': '2020-05-12T00:00:00.000Z', 'edits': 0},\n",
       "    {'timestamp': '2020-05-13T00:00:00.000Z', 'edits': 0},\n",
       "    {'timestamp': '2020-05-14T00:00:00.000Z', 'edits': 0},\n",
       "    {'timestamp': '2020-05-15T00:00:00.000Z', 'edits': 0},\n",
       "    {'timestamp': '2020-05-16T00:00:00.000Z', 'edits': 0},\n",
       "    {'timestamp': '2020-05-17T00:00:00.000Z', 'edits': 0},\n",
       "    {'timestamp': '2020-05-18T00:00:00.000Z', 'edits': 0},\n",
       "    {'timestamp': '2020-05-19T00:00:00.000Z', 'edits': 1},\n",
       "    {'timestamp': '2020-05-20T00:00:00.000Z', 'edits': 0},\n",
       "    {'timestamp': '2020-05-21T00:00:00.000Z', 'edits': 0},\n",
       "    {'timestamp': '2020-05-22T00:00:00.000Z', 'edits': 0},\n",
       "    {'timestamp': '2020-05-23T00:00:00.000Z', 'edits': 0},\n",
       "    {'timestamp': '2020-05-24T00:00:00.000Z', 'edits': 0},\n",
       "    {'timestamp': '2020-05-25T00:00:00.000Z', 'edits': 0},\n",
       "    {'timestamp': '2020-05-26T00:00:00.000Z', 'edits': 0},\n",
       "    {'timestamp': '2020-05-27T00:00:00.000Z', 'edits': 0},\n",
       "    {'timestamp': '2020-05-28T00:00:00.000Z', 'edits': 0},\n",
       "    {'timestamp': '2020-05-29T00:00:00.000Z', 'edits': 1},\n",
       "    {'timestamp': '2020-05-30T00:00:00.000Z', 'edits': 0},\n",
       "    {'timestamp': '2020-05-31T00:00:00.000Z', 'edits': 1},\n",
       "    {'timestamp': '2020-06-01T00:00:00.000Z', 'edits': 1},\n",
       "    {'timestamp': '2020-06-02T00:00:00.000Z', 'edits': 0},\n",
       "    {'timestamp': '2020-06-03T00:00:00.000Z', 'edits': 0},\n",
       "    {'timestamp': '2020-06-04T00:00:00.000Z', 'edits': 0},\n",
       "    {'timestamp': '2020-06-05T00:00:00.000Z', 'edits': 0},\n",
       "    {'timestamp': '2020-06-06T00:00:00.000Z', 'edits': 0},\n",
       "    {'timestamp': '2020-06-07T00:00:00.000Z', 'edits': 0},\n",
       "    {'timestamp': '2020-06-08T00:00:00.000Z', 'edits': 0},\n",
       "    {'timestamp': '2020-06-09T00:00:00.000Z', 'edits': 0},\n",
       "    {'timestamp': '2020-06-10T00:00:00.000Z', 'edits': 0},\n",
       "    {'timestamp': '2020-06-11T00:00:00.000Z', 'edits': 0},\n",
       "    {'timestamp': '2020-06-12T00:00:00.000Z', 'edits': 1},\n",
       "    {'timestamp': '2020-06-13T00:00:00.000Z', 'edits': 0},\n",
       "    {'timestamp': '2020-06-14T00:00:00.000Z', 'edits': 0},\n",
       "    {'timestamp': '2020-06-15T00:00:00.000Z', 'edits': 0},\n",
       "    {'timestamp': '2020-06-16T00:00:00.000Z', 'edits': 1},\n",
       "    {'timestamp': '2020-06-17T00:00:00.000Z', 'edits': 0},\n",
       "    {'timestamp': '2020-06-18T00:00:00.000Z', 'edits': 0},\n",
       "    {'timestamp': '2020-06-19T00:00:00.000Z', 'edits': 0},\n",
       "    {'timestamp': '2020-06-20T00:00:00.000Z', 'edits': 0},\n",
       "    {'timestamp': '2020-06-21T00:00:00.000Z', 'edits': 0},\n",
       "    {'timestamp': '2020-06-22T00:00:00.000Z', 'edits': 0},\n",
       "    {'timestamp': '2020-06-23T00:00:00.000Z', 'edits': 0},\n",
       "    {'timestamp': '2020-06-24T00:00:00.000Z', 'edits': 0},\n",
       "    {'timestamp': '2020-06-25T00:00:00.000Z', 'edits': 1},\n",
       "    {'timestamp': '2020-06-26T00:00:00.000Z', 'edits': 0},\n",
       "    {'timestamp': '2020-06-27T00:00:00.000Z', 'edits': 0},\n",
       "    {'timestamp': '2020-06-28T00:00:00.000Z', 'edits': 0},\n",
       "    {'timestamp': '2020-06-29T00:00:00.000Z', 'edits': 0},\n",
       "    {'timestamp': '2020-06-30T00:00:00.000Z', 'edits': 0},\n",
       "    {'timestamp': '2020-07-01T00:00:00.000Z', 'edits': 0},\n",
       "    {'timestamp': '2020-07-02T00:00:00.000Z', 'edits': 1},\n",
       "    {'timestamp': '2020-07-03T00:00:00.000Z', 'edits': 0},\n",
       "    {'timestamp': '2020-07-04T00:00:00.000Z', 'edits': 0},\n",
       "    {'timestamp': '2020-07-05T00:00:00.000Z', 'edits': 0},\n",
       "    {'timestamp': '2020-07-06T00:00:00.000Z', 'edits': 0},\n",
       "    {'timestamp': '2020-07-07T00:00:00.000Z', 'edits': 0},\n",
       "    {'timestamp': '2020-07-08T00:00:00.000Z', 'edits': 1},\n",
       "    {'timestamp': '2020-07-09T00:00:00.000Z', 'edits': 1},\n",
       "    {'timestamp': '2020-07-10T00:00:00.000Z', 'edits': 0},\n",
       "    {'timestamp': '2020-07-11T00:00:00.000Z', 'edits': 2},\n",
       "    {'timestamp': '2020-07-12T00:00:00.000Z', 'edits': 0},\n",
       "    {'timestamp': '2020-07-13T00:00:00.000Z', 'edits': 0},\n",
       "    {'timestamp': '2020-07-14T00:00:00.000Z', 'edits': 0},\n",
       "    {'timestamp': '2020-07-15T00:00:00.000Z', 'edits': 0},\n",
       "    {'timestamp': '2020-07-16T00:00:00.000Z', 'edits': 0},\n",
       "    {'timestamp': '2020-07-17T00:00:00.000Z', 'edits': 0},\n",
       "    {'timestamp': '2020-07-18T00:00:00.000Z', 'edits': 0},\n",
       "    {'timestamp': '2020-07-19T00:00:00.000Z', 'edits': 0},\n",
       "    {'timestamp': '2020-07-20T00:00:00.000Z', 'edits': 0},\n",
       "    {'timestamp': '2020-07-21T00:00:00.000Z', 'edits': 0},\n",
       "    {'timestamp': '2020-07-22T00:00:00.000Z', 'edits': 0},\n",
       "    {'timestamp': '2020-07-23T00:00:00.000Z', 'edits': 0},\n",
       "    {'timestamp': '2020-07-24T00:00:00.000Z', 'edits': 0},\n",
       "    {'timestamp': '2020-07-25T00:00:00.000Z', 'edits': 0},\n",
       "    {'timestamp': '2020-07-26T00:00:00.000Z', 'edits': 0},\n",
       "    {'timestamp': '2020-07-27T00:00:00.000Z', 'edits': 0},\n",
       "    {'timestamp': '2020-07-28T00:00:00.000Z', 'edits': 0},\n",
       "    {'timestamp': '2020-07-29T00:00:00.000Z', 'edits': 0},\n",
       "    {'timestamp': '2020-07-30T00:00:00.000Z', 'edits': 0},\n",
       "    {'timestamp': '2020-07-31T00:00:00.000Z', 'edits': 0},\n",
       "    {'timestamp': '2020-08-01T00:00:00.000Z', 'edits': 0},\n",
       "    {'timestamp': '2020-08-02T00:00:00.000Z', 'edits': 0},\n",
       "    {'timestamp': '2020-08-03T00:00:00.000Z', 'edits': 0},\n",
       "    {'timestamp': '2020-08-04T00:00:00.000Z', 'edits': 8},\n",
       "    {'timestamp': '2020-08-05T00:00:00.000Z', 'edits': 4},\n",
       "    {'timestamp': '2020-08-06T00:00:00.000Z', 'edits': 1},\n",
       "    {'timestamp': '2020-08-07T00:00:00.000Z', 'edits': 0},\n",
       "    {'timestamp': '2020-08-08T00:00:00.000Z', 'edits': 9},\n",
       "    {'timestamp': '2020-08-09T00:00:00.000Z', 'edits': 0},\n",
       "    {'timestamp': '2020-08-10T00:00:00.000Z', 'edits': 0},\n",
       "    {'timestamp': '2020-08-11T00:00:00.000Z', 'edits': 0},\n",
       "    {'timestamp': '2020-08-12T00:00:00.000Z', 'edits': 1},\n",
       "    {'timestamp': '2020-08-13T00:00:00.000Z', 'edits': 0},\n",
       "    {'timestamp': '2020-08-14T00:00:00.000Z', 'edits': 0},\n",
       "    {'timestamp': '2020-08-15T00:00:00.000Z', 'edits': 18},\n",
       "    {'timestamp': '2020-08-16T00:00:00.000Z', 'edits': 0},\n",
       "    {'timestamp': '2020-08-17T00:00:00.000Z', 'edits': 0},\n",
       "    {'timestamp': '2020-08-18T00:00:00.000Z', 'edits': 9},\n",
       "    {'timestamp': '2020-08-19T00:00:00.000Z', 'edits': 28},\n",
       "    {'timestamp': '2020-08-20T00:00:00.000Z', 'edits': 14},\n",
       "    {'timestamp': '2020-08-21T00:00:00.000Z', 'edits': 0},\n",
       "    {'timestamp': '2020-08-22T00:00:00.000Z', 'edits': 0},\n",
       "    {'timestamp': '2020-08-23T00:00:00.000Z', 'edits': 0},\n",
       "    {'timestamp': '2020-08-24T00:00:00.000Z', 'edits': 0},\n",
       "    {'timestamp': '2020-08-25T00:00:00.000Z', 'edits': 0},\n",
       "    {'timestamp': '2020-08-26T00:00:00.000Z', 'edits': 0},\n",
       "    {'timestamp': '2020-08-27T00:00:00.000Z', 'edits': 0},\n",
       "    {'timestamp': '2020-08-28T00:00:00.000Z', 'edits': 14},\n",
       "    {'timestamp': '2020-08-29T00:00:00.000Z', 'edits': 0},\n",
       "    {'timestamp': '2020-08-30T00:00:00.000Z', 'edits': 0},\n",
       "    {'timestamp': '2020-08-31T00:00:00.000Z', 'edits': 0},\n",
       "    {'timestamp': '2020-09-01T00:00:00.000Z', 'edits': 1},\n",
       "    {'timestamp': '2020-09-02T00:00:00.000Z', 'edits': 0},\n",
       "    {'timestamp': '2020-09-03T00:00:00.000Z', 'edits': 0},\n",
       "    {'timestamp': '2020-09-04T00:00:00.000Z', 'edits': 2},\n",
       "    {'timestamp': '2020-09-05T00:00:00.000Z', 'edits': 0},\n",
       "    {'timestamp': '2020-09-06T00:00:00.000Z', 'edits': 0},\n",
       "    {'timestamp': '2020-09-07T00:00:00.000Z', 'edits': 0},\n",
       "    {'timestamp': '2020-09-08T00:00:00.000Z', 'edits': 0},\n",
       "    {'timestamp': '2020-09-09T00:00:00.000Z', 'edits': 4},\n",
       "    {'timestamp': '2020-09-10T00:00:00.000Z', 'edits': 0},\n",
       "    {'timestamp': '2020-09-11T00:00:00.000Z', 'edits': 0},\n",
       "    {'timestamp': '2020-09-12T00:00:00.000Z', 'edits': 0},\n",
       "    {'timestamp': '2020-09-13T00:00:00.000Z', 'edits': 2},\n",
       "    {'timestamp': '2020-09-14T00:00:00.000Z', 'edits': 0},\n",
       "    {'timestamp': '2020-09-15T00:00:00.000Z', 'edits': 1},\n",
       "    {'timestamp': '2020-09-16T00:00:00.000Z', 'edits': 0},\n",
       "    {'timestamp': '2020-09-17T00:00:00.000Z', 'edits': 0},\n",
       "    {'timestamp': '2020-09-18T00:00:00.000Z', 'edits': 1},\n",
       "    {'timestamp': '2020-09-19T00:00:00.000Z', 'edits': 81},\n",
       "    {'timestamp': '2020-09-20T00:00:00.000Z', 'edits': 33},\n",
       "    {'timestamp': '2020-09-21T00:00:00.000Z', 'edits': 59},\n",
       "    {'timestamp': '2020-09-22T00:00:00.000Z', 'edits': 142},\n",
       "    {'timestamp': '2020-09-23T00:00:00.000Z', 'edits': 59},\n",
       "    {'timestamp': '2020-09-24T00:00:00.000Z', 'edits': 49},\n",
       "    {'timestamp': '2020-09-25T00:00:00.000Z', 'edits': 42},\n",
       "    {'timestamp': '2020-09-26T00:00:00.000Z', 'edits': 130},\n",
       "    {'timestamp': '2020-09-27T00:00:00.000Z', 'edits': 114},\n",
       "    {'timestamp': '2020-09-28T00:00:00.000Z', 'edits': 32},\n",
       "    {'timestamp': '2020-09-29T00:00:00.000Z', 'edits': 47},\n",
       "    {'timestamp': '2020-09-30T00:00:00.000Z', 'edits': 40},\n",
       "    {'timestamp': '2020-10-01T00:00:00.000Z', 'edits': 68},\n",
       "    {'timestamp': '2020-10-02T00:00:00.000Z', 'edits': 88},\n",
       "    {'timestamp': '2020-10-03T00:00:00.000Z', 'edits': 28},\n",
       "    {'timestamp': '2020-10-04T00:00:00.000Z', 'edits': 14},\n",
       "    {'timestamp': '2020-10-05T00:00:00.000Z', 'edits': 17},\n",
       "    {'timestamp': '2020-10-06T00:00:00.000Z', 'edits': 40},\n",
       "    {'timestamp': '2020-10-07T00:00:00.000Z', 'edits': 20},\n",
       "    {'timestamp': '2020-10-08T00:00:00.000Z', 'edits': 13},\n",
       "    {'timestamp': '2020-10-09T00:00:00.000Z', 'edits': 17},\n",
       "    {'timestamp': '2020-10-10T00:00:00.000Z', 'edits': 23},\n",
       "    {'timestamp': '2020-10-11T00:00:00.000Z', 'edits': 5},\n",
       "    {'timestamp': '2020-10-12T00:00:00.000Z', 'edits': 17},\n",
       "    {'timestamp': '2020-10-13T00:00:00.000Z', 'edits': 31},\n",
       "    {'timestamp': '2020-10-14T00:00:00.000Z', 'edits': 12},\n",
       "    {'timestamp': '2020-10-15T00:00:00.000Z', 'edits': 15},\n",
       "    {'timestamp': '2020-10-16T00:00:00.000Z', 'edits': 8},\n",
       "    {'timestamp': '2020-10-17T00:00:00.000Z', 'edits': 2},\n",
       "    {'timestamp': '2020-10-18T00:00:00.000Z', 'edits': 8},\n",
       "    {'timestamp': '2020-10-19T00:00:00.000Z', 'edits': 6},\n",
       "    {'timestamp': '2020-10-20T00:00:00.000Z', 'edits': 6},\n",
       "    {'timestamp': '2020-10-21T00:00:00.000Z', 'edits': 2},\n",
       "    {'timestamp': '2020-10-22T00:00:00.000Z', 'edits': 16},\n",
       "    {'timestamp': '2020-10-23T00:00:00.000Z', 'edits': 8},\n",
       "    {'timestamp': '2020-10-24T00:00:00.000Z', 'edits': 8},\n",
       "    {'timestamp': '2020-10-25T00:00:00.000Z', 'edits': 11},\n",
       "    {'timestamp': '2020-10-26T00:00:00.000Z', 'edits': 43},\n",
       "    {'timestamp': '2020-10-27T00:00:00.000Z', 'edits': 257},\n",
       "    {'timestamp': '2020-10-28T00:00:00.000Z', 'edits': 19},\n",
       "    {'timestamp': '2020-10-29T00:00:00.000Z', 'edits': 21}]}]}"
      ]
     },
     "execution_count": 26,
     "metadata": {},
     "output_type": "execute_result"
    }
   ],
   "source": [
    "response"
   ]
  },
  {
   "cell_type": "markdown",
   "metadata": {
    "id": "B6qE4TnBnFfy"
   },
   "source": [
    "✏️ *Prepare an API request to get the edits of some page in the german wikipedia.*"
   ]
  },
  {
   "cell_type": "code",
   "execution_count": 27,
   "metadata": {
    "id": "p-X3PrjznFfz"
   },
   "outputs": [],
   "source": [
    "ep = 'https://wikimedia.org/api/rest_v1/metrics/edits/per-page/de.wikipedia/Amy_Coney_Barrett/all-editor-types/daily/20200101/20201030'\n",
    "\n",
    "call = requests.get(ep, headers=headers)\n",
    "response = call.json()"
   ]
  },
  {
   "cell_type": "markdown",
   "metadata": {
    "id": "khSd2ZDdnFfz"
   },
   "source": [
    "### Parsing \n",
    "\n",
    "Apart from our little cities example, so far we have only loaded the data into unstructured strings. To be able to analyze the data, we have to turn the unstructured strings of symbols into a practical data structure of the DataFrame that we can work with. This process is commonly referred to as ‘parsing’. \n",
    "\n",
    "As we have seen above, data can come in various file formats, which are in turn more or less appropriate for particular data structures. We'll cover four typical ones in the following section, but we will see more over the course of the tutorials to come.\n",
    "\n",
    "The different ways of loading data (e.g., by file path or URL) are independent from the particular data formats provided. For example, you can load CSV data from a local file or from a web address. While the files typically indicate with the extension what format they have, URLs or APIs may not have these. If it is not clear, you may have to check the documentation or take a peek into the file."
   ]
  },
  {
   "cell_type": "markdown",
   "metadata": {
    "id": "pr3cfhS0nFf0"
   },
   "source": [
    "#### CSV\n",
    "\n",
    "The CSV format is probably the most common file format in the context of data analysis and visualization. CSV files contain tabular data that can be viewed and edited in a spreadsheet software such as Excel. CSV stands for [comma-separated values](https://en.wikipedia.org/wiki/Comma-separated_values), which seems to say it all: the data values are separated by commas and each row represents one item. However, there are also CSV files that use separators other than commas, such as tabs and semicolons. \n",
    "\n",
    "Let's load a CSV file! Thankfully Pandas has the convenient `read_csv()` method ready for us, which can open CSV data via a file path or URL, and turns it directly into a DataFrame object.\n",
    "\n",
    "A good source for CSV data is [Our world in Data](https://ourworldindata.org/), the datasets you find on [GitHub](https://github.com/owid/owid-datasets). As an exmple we will load the \"A Century of Work and Leisure\" dataset.\n"
   ]
  },
  {
   "cell_type": "code",
   "execution_count": 28,
   "metadata": {
    "id": "VWUrvYQlnFf0"
   },
   "outputs": [
    {
     "data": {
      "text/html": [
       "<div>\n",
       "<style scoped>\n",
       "    .dataframe tbody tr th:only-of-type {\n",
       "        vertical-align: middle;\n",
       "    }\n",
       "\n",
       "    .dataframe tbody tr th {\n",
       "        vertical-align: top;\n",
       "    }\n",
       "\n",
       "    .dataframe thead th {\n",
       "        text-align: right;\n",
       "    }\n",
       "</style>\n",
       "<table border=\"1\" class=\"dataframe\">\n",
       "  <thead>\n",
       "    <tr style=\"text-align: right;\">\n",
       "      <th></th>\n",
       "      <th>Entity</th>\n",
       "      <th>Year</th>\n",
       "      <th>Average weekly hours worked per person by demographic group (Ramey and Francis (2009))</th>\n",
       "      <th>Average weekly hours devoted to school (Ramey and Francis (2009))</th>\n",
       "      <th>Weekly home production time by demographic group (Ramey and Francis (2009))</th>\n",
       "      <th>Average weekly leisure estimates by age (Ramey and Francis (2009))</th>\n",
       "    </tr>\n",
       "  </thead>\n",
       "  <tbody>\n",
       "    <tr>\n",
       "      <th>0</th>\n",
       "      <td>Ages 10 to 13 (male)</td>\n",
       "      <td>1900</td>\n",
       "      <td>7.7</td>\n",
       "      <td>NaN</td>\n",
       "      <td>NaN</td>\n",
       "      <td>NaN</td>\n",
       "    </tr>\n",
       "    <tr>\n",
       "      <th>1</th>\n",
       "      <td>Ages 10 to 13 (male)</td>\n",
       "      <td>1910</td>\n",
       "      <td>5.4</td>\n",
       "      <td>NaN</td>\n",
       "      <td>NaN</td>\n",
       "      <td>NaN</td>\n",
       "    </tr>\n",
       "    <tr>\n",
       "      <th>2</th>\n",
       "      <td>Ages 10 to 13 (male)</td>\n",
       "      <td>1920</td>\n",
       "      <td>2.1</td>\n",
       "      <td>NaN</td>\n",
       "      <td>NaN</td>\n",
       "      <td>NaN</td>\n",
       "    </tr>\n",
       "    <tr>\n",
       "      <th>3</th>\n",
       "      <td>Ages 10 to 13 (male)</td>\n",
       "      <td>1930</td>\n",
       "      <td>1.2</td>\n",
       "      <td>NaN</td>\n",
       "      <td>NaN</td>\n",
       "      <td>NaN</td>\n",
       "    </tr>\n",
       "    <tr>\n",
       "      <th>4</th>\n",
       "      <td>Ages 10 to 13 (male)</td>\n",
       "      <td>1940</td>\n",
       "      <td>0.0</td>\n",
       "      <td>NaN</td>\n",
       "      <td>NaN</td>\n",
       "      <td>NaN</td>\n",
       "    </tr>\n",
       "  </tbody>\n",
       "</table>\n",
       "</div>"
      ],
      "text/plain": [
       "                 Entity  Year  \\\n",
       "0  Ages 10 to 13 (male)  1900   \n",
       "1  Ages 10 to 13 (male)  1910   \n",
       "2  Ages 10 to 13 (male)  1920   \n",
       "3  Ages 10 to 13 (male)  1930   \n",
       "4  Ages 10 to 13 (male)  1940   \n",
       "\n",
       "   Average weekly hours worked per person by demographic group (Ramey and Francis (2009))  \\\n",
       "0                                                7.7                                        \n",
       "1                                                5.4                                        \n",
       "2                                                2.1                                        \n",
       "3                                                1.2                                        \n",
       "4                                                0.0                                        \n",
       "\n",
       "   Average weekly hours devoted to school (Ramey and Francis (2009))  \\\n",
       "0                                                NaN                   \n",
       "1                                                NaN                   \n",
       "2                                                NaN                   \n",
       "3                                                NaN                   \n",
       "4                                                NaN                   \n",
       "\n",
       "   Weekly home production time by demographic group (Ramey and Francis (2009))  \\\n",
       "0                                                NaN                             \n",
       "1                                                NaN                             \n",
       "2                                                NaN                             \n",
       "3                                                NaN                             \n",
       "4                                                NaN                             \n",
       "\n",
       "   Average weekly leisure estimates by age (Ramey and Francis (2009))  \n",
       "0                                                NaN                   \n",
       "1                                                NaN                   \n",
       "2                                                NaN                   \n",
       "3                                                NaN                   \n",
       "4                                                NaN                   "
      ]
     },
     "execution_count": 28,
     "metadata": {},
     "output_type": "execute_result"
    }
   ],
   "source": [
    "owid_data = pd.read_csv(\"https://raw.githubusercontent.com/owid/owid-datasets/9e0249459233f8ef303eab7ed2d56ebbcf01e64c/datasets/A%20Century%20of%20Work%20and%20Leisure%20-%20Ramey%20and%20Francis%20(2009)/A%20Century%20of%20Work%20and%20Leisure%20-%20Ramey%20and%20Francis%20(2009).csv\")\n",
    "owid_data.head()"
   ]
  },
  {
   "cell_type": "markdown",
   "metadata": {
    "id": "yMfbdBvxnFf0"
   },
   "source": [
    "✏️ *Try loading another CSV dataset from [GovData](https://www.govdata.de/)!*"
   ]
  },
  {
   "cell_type": "code",
   "execution_count": null,
   "metadata": {
    "id": "cwxh54VinFf1"
   },
   "outputs": [],
   "source": [
    "unfälle_data = pd.read_csv(\"http://10.61.35.179/dataset/badegewasser-stammdaten_2020-07-07/resource/5f81d13a-2ec7-4270-8d48-7e6722aa4bc0/download/v_badegewaesser_odata.csv\", sep = \";\")\n",
    "unfälle_data.head()"
   ]
  },
  {
   "cell_type": "markdown",
   "metadata": {
    "id": "2RXByQO4nFf1"
   },
   "source": [
    "#### XML\n",
    "\n",
    "[XML](https://en.wikipedia.org/wiki/XML) (Extensible Markup Language) is a data format, which can have very different kinds of hierarchical structures. XML files are common in a wide variety of contexts, including libraries, and especially in situations, in which the interoperability of multiple systems by several vendors needs to be ensured.\n",
    "\n",
    "The 🌲 **ElementTree** module will help us to parse the elements contained in an XML file."
   ]
  },
  {
   "cell_type": "code",
   "execution_count": null,
   "metadata": {
    "id": "NPDCxZ4pnFf2"
   },
   "outputs": [],
   "source": [
    "import xml.etree.ElementTree as ET"
   ]
  },
  {
   "cell_type": "markdown",
   "metadata": {
    "id": "tXdgjvfsnFf2"
   },
   "source": [
    "As we have already retrieved the XML feed from Tagesschau (and saved it in the variable `tagesschau_xml`), we can now parse it directly from the string, i.e., using the method `ET.fromstring()`:"
   ]
  },
  {
   "cell_type": "code",
   "execution_count": null,
   "metadata": {
    "id": "tVo-aH0lnFf2"
   },
   "outputs": [],
   "source": [
    "tagesschau = ET.fromstring(tagesschau_xml)\n",
    "tagesschau"
   ]
  },
  {
   "cell_type": "markdown",
   "metadata": {
    "id": "qDe5d8_knFf3"
   },
   "source": [
    "This gives the root element of the XML feed (and all its children) in the variable `tagesschau`. \n",
    "\n",
    "Going through all items with `findall` and within these with `find` for specific sub-elements, we can extract the publication date and time and the title of the respective item. In the following these elements are put together into the DataFrame `tagesschau_df`. Note that it helps to peek into the XML source of the feed to know the specific element names."
   ]
  },
  {
   "cell_type": "code",
   "execution_count": null,
   "metadata": {
    "id": "WWv9aHz2nFf3"
   },
   "outputs": [],
   "source": [
    "# create two empty lists\n",
    "dates = []\n",
    "titles = []\n",
    "\n",
    "# go through all item elements in the tree\n",
    "for item in tagesschau.findall('.//item'):\n",
    "  # extract date information and titles\n",
    "  dates.append( item.find('.//pubDate').text )\n",
    "  titles.append( item.find('.//title').text )\n",
    "\n",
    "# create a dataframe containing the two columns\n",
    "tagesschau_df = pd.DataFrame(    \n",
    "    {'date': dates,\n",
    "     'title': titles,\n",
    "    })  \n",
    "\n",
    "tagesschau_df"
   ]
  },
  {
   "cell_type": "markdown",
   "metadata": {
    "id": "IaZbd15unFf4"
   },
   "source": [
    "✏️ *Each news item also contains a `description` element. Why not add a third column to the DataFrame?*"
   ]
  },
  {
   "cell_type": "code",
   "execution_count": null,
   "metadata": {
    "id": "FvusH02InFf4"
   },
   "outputs": [],
   "source": [
    "description = []\n",
    "for item in tagesschau.findall(\".//item\"):\n",
    "  description.append(item.find(\".//description\").text)\n",
    "\n",
    "tagesschau_df[\"description\"] = description\n",
    "tagesschau_df"
   ]
  },
  {
   "cell_type": "markdown",
   "metadata": {
    "id": "MmQrfQ0HnFf5"
   },
   "source": [
    "✏️ *If you are curious you can also try out 🥣 \n",
    "\n",
    "---\n",
    "\n",
    "**BeautifulSoup** to create the same DataFrame.*"
   ]
  },
  {
   "cell_type": "code",
   "execution_count": null,
   "metadata": {
    "id": "jmhXqf7bnFf5"
   },
   "outputs": [],
   "source": [
    "from bs4 import BeautifulSoup"
   ]
  },
  {
   "cell_type": "code",
   "execution_count": null,
   "metadata": {
    "id": "zu9efVKYnFf6"
   },
   "outputs": [],
   "source": []
  },
  {
   "cell_type": "markdown",
   "metadata": {
    "id": "zOFpRO8TnFf7"
   },
   "source": [
    "### Examining\n",
    "\n",
    "You are now able to load and parse data from several formats. At this point, there are plenty of ways to inspect these datasets. We are going to try some simple methods to peek around the datasets. Once you have a tabular dataset ready as a DataFrame, there are quite a few convenient methods to view and explore its contents."
   ]
  },
  {
   "cell_type": "markdown",
   "metadata": {
    "id": "_7C9ar8dnFf7"
   },
   "source": [
    "#### Head & tail\n",
    "\n",
    "You could start with looking at the beginning of the dataset with `head()`:"
   ]
  },
  {
   "cell_type": "code",
   "execution_count": null,
   "metadata": {
    "id": "sxVTlGZNnFf7"
   },
   "outputs": [],
   "source": [
    "owid_data.head()"
   ]
  },
  {
   "cell_type": "markdown",
   "metadata": {
    "id": "JmU_1fY_nFf8"
   },
   "source": [
    "✏️ *What do you think happens, when you replace `head()` with `tail()` ?*"
   ]
  },
  {
   "cell_type": "code",
   "execution_count": null,
   "metadata": {
    "id": "vQli8vUlnFf8"
   },
   "outputs": [],
   "source": [
    "owid_data.tail()"
   ]
  },
  {
   "cell_type": "markdown",
   "metadata": {
    "id": "qlHMs90HnFf8"
   },
   "source": [
    "#### Describe & info\n",
    "\n",
    "You can also ask Pandas to provide some statistical descriptions (which are only applied to the columns containing numeric data):"
   ]
  },
  {
   "cell_type": "code",
   "execution_count": null,
   "metadata": {
    "id": "X3mxNNs-nFf9"
   },
   "outputs": [],
   "source": [
    "owid_data.describe()"
   ]
  },
  {
   "cell_type": "markdown",
   "metadata": {
    "id": "d6_BFGFpnFf9"
   },
   "source": [
    "This may not seem that useful to you yet. You may want to know what kind of datatypes the different columns contain and how many values are present. For this the `info()` method will be of help:"
   ]
  },
  {
   "cell_type": "code",
   "execution_count": null,
   "metadata": {
    "id": "VwypWxC1nFf9"
   },
   "outputs": [],
   "source": [
    "owid_data.info()"
   ]
  },
  {
   "cell_type": "markdown",
   "metadata": {
    "id": "0rroEkx_nFf-"
   },
   "source": [
    "[link text](https:// [link text](https://))With this it is now possible to access specific columns by using their names.  But did you notice the long label for the first column? Let's rename the column `Retail & Recreation` into something short and sweet such as: `RR`:"
   ]
  },
  {
   "cell_type": "code",
   "execution_count": null,
   "metadata": {
    "id": "0My2SuFinFf-"
   },
   "outputs": [],
   "source": [
    "owid_data = owid_data.rename(columns={\"Average weekly leisure estimates by age (Ramey and Francis (2009))\": \"leisure\"})"
   ]
  },
  {
   "cell_type": "markdown",
   "metadata": {
    "id": "pQmhyHbtnFf_"
   },
   "source": [
    "✏️ *Do you want to rename any other columns?*"
   ]
  },
  {
   "cell_type": "code",
   "execution_count": null,
   "metadata": {
    "id": "1vYUnTE5nFf_"
   },
   "outputs": [],
   "source": [
    "owid_data = owid_data.rename(columns={\"Average weekly hours worked per person by demographic group (Ramey and Francis (2009))\": \"work\"})"
   ]
  },
  {
   "cell_type": "markdown",
   "metadata": {
    "id": "KX0eHnsTnFgA"
   },
   "source": [
    "### Select & query\n",
    "We can select an individual column using single `[`square brackets`]`:"
   ]
  },
  {
   "cell_type": "code",
   "execution_count": null,
   "metadata": {
    "id": "LXk1E9XmnFgA"
   },
   "outputs": [],
   "source": [
    "owid_data[\"leisure\"]"
   ]
  },
  {
   "cell_type": "markdown",
   "metadata": {
    "id": "lAceWPewnFgB"
   },
   "source": [
    "… and we can select multiple columns using nested `[[`square brackets`]]`:"
   ]
  },
  {
   "cell_type": "code",
   "execution_count": null,
   "metadata": {
    "id": "Ldmvsc8MnFgB"
   },
   "outputs": [],
   "source": [
    "owid_data[[\"leisure\", \"work\", \"Year\"]]"
   ]
  },
  {
   "cell_type": "markdown",
   "metadata": {
    "id": "PvkSvD9HnFgC"
   },
   "source": [
    "✏️ *Which columns interest you? Replace `RR` and `Entity` with other column labels* "
   ]
  },
  {
   "cell_type": "code",
   "execution_count": null,
   "metadata": {
    "id": "Gjvysh9rnFgC"
   },
   "outputs": [],
   "source": [
    "owid_data[[\"work\"]]\n"
   ]
  },
  {
   "cell_type": "markdown",
   "metadata": {
    "id": "mXb2fAZmnFgD"
   },
   "source": [
    "Note that the `leisure` column contains a lot of `NaN` - this stands for \"Not a Number\" and it means here that values are missing.\n",
    "\n",
    "In order to focus on the rows which do have missing data, we can squeeze in a requirement that we only want those rows, where the values in both above used columns are not missing, i.e., `notnull()`:"
   ]
  },
  {
   "cell_type": "code",
   "execution_count": null,
   "metadata": {
    "id": "s28Wowf0nFgD"
   },
   "outputs": [],
   "source": [
    "owid_data [owid_data[[\"leisure\", \"Year\"]].notnull().all(1) ] [[\"leisure\", \"Year\"]]"
   ]
  },
  {
   "cell_type": "markdown",
   "metadata": {
    "id": "8v145kb1nFgD"
   },
   "source": [
    "✏️ *Formulate a query on another column:*"
   ]
  },
  {
   "cell_type": "code",
   "execution_count": null,
   "metadata": {
    "id": "t62OvNWbnFgD"
   },
   "outputs": [],
   "source": [
    "owid_data [owid_data[[\"work\"]].notnull().all(1)] [[\"work\"]]"
   ]
  },
  {
   "cell_type": "markdown",
   "metadata": {
    "id": "QBL5oMaznFgE"
   },
   "source": [
    "There are four related methods for accessing rows, columns, and specific values, either by integer positons (iloc and iat) or by the labels (that is what is displayed in bold above).\n",
    "\n",
    "- `loc`: access rows and columns by label\n",
    "- `iloc`: access rows and columns by integer position \n",
    "- `at`: access a single value for a row/column label pair\n",
    "- `iat`: access a single value for a row/column pair by integer position \n",
    "\n",
    "For example, this way we can get the first entry in the `owid_data` DataFrame: "
   ]
  },
  {
   "cell_type": "code",
   "execution_count": null,
   "metadata": {
    "id": "ENPQWXzfnFgE"
   },
   "outputs": [],
   "source": [
    "owid_data.loc[0]\n",
    "\n",
    "# because the index here uses integers, iloc and loc do the same"
   ]
  },
  {
   "cell_type": "markdown",
   "metadata": {
    "id": "2ytHlXeCnFgF"
   },
   "source": [
    "Finally, you can also retrieve rows that match a query. With this we are retrieving the rows for women:"
   ]
  },
  {
   "cell_type": "code",
   "execution_count": null,
   "metadata": {
    "id": "8efquYs0nFgF"
   },
   "outputs": [],
   "source": [
    "owid_data[owid_data['Entity'].str.contains('female')] [['Entity', \"Year\", \"work\"]]"
   ]
  },
  {
   "cell_type": "markdown",
   "metadata": {
    "id": "DEH0l2BinFgF"
   },
   "source": [
    "### Merge DataFrames"
   ]
  },
  {
   "cell_type": "markdown",
   "metadata": {
    "id": "qviKEj1ZnFgG"
   },
   "source": [
    "Let's join some DataFrames. Lets look closer at the *anonymous* and *user* edits of the wikipedia article of `Amy_Coney_Barrett`."
   ]
  },
  {
   "cell_type": "code",
   "execution_count": null,
   "metadata": {
    "id": "Ez2gp5UpnFgG"
   },
   "outputs": [],
   "source": [
    "import json\n",
    "import matplotlib.pyplot as plt\n",
    "import datetime\n",
    "\n",
    "headers = {\n",
    "    'User-Agent': 'https://github.com/aschle',\n",
    "    'From': 'alexa.schlegel@fu-berlin.de'\n",
    "}\n",
    "\n",
    "# Edpoint for getting Edits per Page\n",
    "ep1 = 'https://wikimedia.org/api/rest_v1/metrics/edits/per-page/en.wikipedia/Amy_Coney_Barrett/anonymous/daily/20200901/20201030'\n",
    "ep2 = 'https://wikimedia.org/api/rest_v1/metrics/edits/per-page/en.wikipedia/Amy_Coney_Barrett/user/daily/20200901/20201030'\n",
    "\n",
    "call1 = requests.get(ep1, headers=headers)\n",
    "response1 = call1.json()\n",
    "\n",
    "call2 = requests.get(ep2, headers=headers)\n",
    "response2 = call2.json()"
   ]
  },
  {
   "cell_type": "markdown",
   "metadata": {
    "id": "9qx8Rq1BnFgG"
   },
   "source": [
    "Now as we have the data, we need to extract the actual results and then `merge` the DataFrames. Check out what is meant by `left`, `right`, `inner` and `outer` -->  https://pandas.pydata.org/pandas-docs/stable/reference/api/pandas.DataFrame.merge.html"
   ]
  },
  {
   "cell_type": "code",
   "execution_count": null,
   "metadata": {
    "id": "Fc0oDV2tnFgG"
   },
   "outputs": [],
   "source": [
    "anon_data = pd.json_normalize(response1, ['items', 'results'])\n",
    "user_data = pd.json_normalize(response2, ['items', 'results'])"
   ]
  },
  {
   "cell_type": "code",
   "execution_count": null,
   "metadata": {
    "id": "XEAncG83nFgH"
   },
   "outputs": [],
   "source": [
    "merged_data = pd.merge(anon_data, user_data, on='timestamp', how='outer')\n",
    "merged_data = merged_data.rename(columns={\"edits_x\": \"anonymous edits\", \"edits_y\": \"user edits\"})"
   ]
  },
  {
   "cell_type": "code",
   "execution_count": null,
   "metadata": {
    "id": "vjBb1wqFnFgI"
   },
   "outputs": [],
   "source": [
    "merged_data['timestamp'] = pd.to_datetime(merged_data['timestamp'])"
   ]
  },
  {
   "cell_type": "code",
   "execution_count": null,
   "metadata": {
    "id": "KHj_Ma_JnFgJ"
   },
   "outputs": [],
   "source": [
    "plt.plot(merged_data['timestamp'], merged_data['user edits'], color=\"gray\")\n",
    "plt.plot(merged_data['timestamp'], merged_data['anonymous edits'], color=\"red\")\n",
    "plt.xticks(rotation=90)\n",
    "plt.legend([\"user edits\", \"anonymous edits\"])\n",
    "plt.show()"
   ]
  },
  {
   "cell_type": "markdown",
   "metadata": {
    "id": "qNP5szf4nFgJ"
   },
   "source": [
    "# ⚠️ Wikipedia Edits Plot\n",
    "✏️ *Now it's time for a challenge!*\n",
    "\n",
    "Try to visualize user edits and anonymous edits of two Wikipedia language versions of an article of your choice. We probably use more Wikipedia and wikidata during the next exercises, so it's worse getting familiar."
   ]
  },
  {
   "cell_type": "code",
   "execution_count": 30,
   "metadata": {
    "id": "aoiwbJ7enFgJ"
   },
   "outputs": [
    {
     "data": {
      "image/png": "[encoded data removed]",
      "text/plain": [
       "<Figure size 432x288 with 1 Axes>"
      ]
     },
     "metadata": {
      "needs_background": "light"
     },
     "output_type": "display_data"
    }
   ],
   "source": [
    "import json\n",
    "import matplotlib.pyplot as plt\n",
    "import datetime\n",
    "\n",
    "headers = {\n",
    "    'User-Agent': 'https://github.com/aschle',\n",
    "    'From': 'alexa.schlegel@fu-berlin.de'\n",
    "}\n",
    "\n",
    "# Edpoint for getting Edits per Page\n",
    "ep1 = 'https://wikimedia.org/api/rest_v1/metrics/edits/per-page/de.wikipedia/Empire_State_Building/anonymous/daily/20200901/20201030'\n",
    "ep2 = 'https://wikimedia.org/api/rest_v1/metrics/edits/per-page/de.wikipedia/Empire_State_Building/user/daily/20200901/20201030'\n",
    "\n",
    "call1 = requests.get(ep1, headers=headers)\n",
    "response1 = call1.json()\n",
    "\n",
    "call2 = requests.get(ep2, headers=headers)\n",
    "response2 = call2.json()\n",
    "\n",
    "anon_data = pd.json_normalize(response1, ['items', 'results'])\n",
    "user_data = pd.json_normalize(response2, ['items', 'results'])\n",
    "\n",
    "merged_data = pd.merge(anon_data, user_data, on='timestamp', how='outer')\n",
    "merged_data = merged_data.rename(columns={\"edits_x\": \"anonymous edits\", \"edits_y\": \"user edits\"})\n",
    "\n",
    "merged_data['timestamp'] = pd.to_datetime(merged_data['timestamp'])\n",
    "\n",
    "plt.plot(merged_data['timestamp'], merged_data['user edits'], color=\"gray\")\n",
    "plt.plot(merged_data['timestamp'], merged_data['anonymous edits'], color=\"red\")\n",
    "plt.xticks(rotation=90)\n",
    "plt.legend([\"user edits\", \"anonymous edits\"])\n",
    "plt.show()"
   ]
  },
  {
   "cell_type": "code",
   "execution_count": 31,
   "metadata": {},
   "outputs": [
    {
     "data": {
      "image/png": "[encoded data removed]",
      "text/plain": [
       "<Figure size 432x288 with 1 Axes>"
      ]
     },
     "metadata": {
      "needs_background": "light"
     },
     "output_type": "display_data"
    }
   ],
   "source": [
    "import json\n",
    "import matplotlib.pyplot as plt\n",
    "import datetime\n",
    "\n",
    "headers = {\n",
    "    'User-Agent': 'https://github.com/aschle',\n",
    "    'From': 'alexa.schlegel@fu-berlin.de'\n",
    "}\n",
    "\n",
    "# Edpoint for getting Edits per Page\n",
    "ep1 = 'https://wikimedia.org/api/rest_v1/metrics/edits/per-page/en.wikipedia/Empire_State_Building/anonymous/daily/20200901/20201030'\n",
    "ep2 = 'https://wikimedia.org/api/rest_v1/metrics/edits/per-page/en.wikipedia/Empire_State_Building/user/daily/20200901/20201030'\n",
    "\n",
    "call1 = requests.get(ep1, headers=headers)\n",
    "response1 = call1.json()\n",
    "\n",
    "call2 = requests.get(ep2, headers=headers)\n",
    "response2 = call2.json()\n",
    "\n",
    "anon_data = pd.json_normalize(response1, ['items', 'results'])\n",
    "user_data = pd.json_normalize(response2, ['items', 'results'])\n",
    "\n",
    "merged_data = pd.merge(anon_data, user_data, on='timestamp', how='outer')\n",
    "merged_data = merged_data.rename(columns={\"edits_x\": \"anonymous edits\", \"edits_y\": \"user edits\"})\n",
    "\n",
    "merged_data['timestamp'] = pd.to_datetime(merged_data['timestamp'])\n",
    "\n",
    "plt.plot(merged_data['timestamp'], merged_data['user edits'], color=\"gray\")\n",
    "plt.plot(merged_data['timestamp'], merged_data['anonymous edits'], color=\"red\")\n",
    "plt.xticks(rotation=90)\n",
    "plt.legend([\"user edits\", \"anonymous edits\"])\n",
    "plt.show()"
   ]
  },
  {
   "cell_type": "markdown",
   "metadata": {
    "id": "7ST1y5FZnFgK"
   },
   "source": [
    "✏️ *Optional task using `covid_json`:*\n",
    "\n",
    "Try to visualize the positive cases per million over time for three countries of your choosing! There are several steps to it: First you need to convert the date column to a pandas date column using ```pd.to_datetime```, then you filter by the countries and finally you can visualize it."
   ]
  },
  {
   "cell_type": "code",
   "execution_count": null,
   "metadata": {
    "id": "03zjUUz8nFgK"
   },
   "outputs": [],
   "source": []
  },
  {
   "cell_type": "markdown",
   "metadata": {
    "id": "Wq3visz6nFgL"
   },
   "source": [
    "***\n",
    "\n",
    "#### Sources\n",
    "- [Pandas Tutorial: DataFrames in Python - DataCamp](https://www.datacamp.com/community/tutorials/pandas-tutorial-dataframe-python)\n",
    "- [Introduction to Pandas\n",
    "](https://www.ritchieng.com/pandas-introduction/)\n",
    "- [The ElementTree XML API](https://docs.python.org/2/library/xml.etree.elementtree.html)\n",
    "- [Where do Mayors Come From? Querying Wikidata with Python and SPARQL - Towards Data Science](https://towardsdatascience.com/where-do-mayors-come-from-querying-wikidata-with-python-and-sparql-91f3c0af22e2)\n",
    "- [Loading data: Drive, Sheets, and Google Cloud Storage](https://colab.research.google.com/notebooks/io.ipynb) \n",
    "- [Examining Data Using Pandas | Linux Journal](https://www.linuxjournal.com/content/examining-data-using-pandas)\n",
    "- [Wikimedia API](https://wikimedia.org/api/rest_v1/#/)\n",
    "- [The 7 most popular ways to plot data in Python](https://opensource.com/article/20/4/plot-data-python)\n",
    "- [Beautiful Soup Documentation](https://www.crummy.com/software/BeautifulSoup/bs4/doc/)"
   ]
  },
  {
   "cell_type": "markdown",
   "metadata": {
    "id": "LNntffatnFgL"
   },
   "source": [
    "***\n",
    "\n",
    "#### Credits\n",
    "\n",
    "This tutorial is adapted from the course [Data Visualization - Winter Term 2020/21](https://github.com/FUB-HCC/dataviz_course_2020) of HCC of Freie Universität Berlin. Many thanks to [Dr. Christoph Kinkeldey](https://www.mi.fu-berlin.de/en/inf/groups/hcc/members/postdocs/kinkeldey.html) and [Tim korjakow](https://github.com/wittenator). Please note: Originally, the couse was adapted from [Information Visualization - Summer Term 2020](https://infovis.fh-potsdam.de/tutorials/) of Marian Dörk by [Fachhochschule Potsdam](https://www.fh-potsdam.de/).\n",
    "\n",
    "Same as the original inventors, we release the notebooks under the [Creative Commons Attribution license (CC BY 4.0)](https://creativecommons.org/licenses/by/4.0/)."
   ]
  }
 ],
 "metadata": {
  "colab": {
   "name": "A1_WarmUp.ipynb",
   "provenance": []
  },
  "kernelspec": {
   "display_name": "Python 3",
   "language": "python",
   "name": "python3"
  },
  "language_info": {
   "codemirror_mode": {
    "name": "ipython",
    "version": 3
   },
   "file_extension": ".py",
   "mimetype": "text/x-python",
   "name": "python",
   "nbconvert_exporter": "python",
   "pygments_lexer": "ipython3",
   "version": "3.8.3"
  }
 },
 "nbformat": 4,
 "nbformat_minor": 1
}
